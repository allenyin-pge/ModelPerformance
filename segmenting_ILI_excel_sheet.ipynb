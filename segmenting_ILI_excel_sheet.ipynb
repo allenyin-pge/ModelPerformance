{
 "cells": [
  {
   "cell_type": "code",
   "execution_count": 94,
   "id": "01ce1f38-fd11-487f-8a7e-6b1c9e4ae842",
   "metadata": {},
   "outputs": [],
   "source": [
    "import matplotlib.pyplot as plt\n",
    "import numpy as np\n",
    "import seaborn as sns\n",
    "sns.set(style=\"darkgrid\")"
   ]
  },
  {
   "cell_type": "code",
   "execution_count": 2,
   "id": "38bf8885-f266-4ab3-9ed4-80f41f65ea0a",
   "metadata": {},
   "outputs": [
    {
     "name": "stdout",
     "output_type": "stream",
     "text": [
      "Total rows: 2008441\n",
      "['Vendor', 'Source', 'Route', 'Route_NoPrefix', 'MP1', 'MP2', 'Year', 'ILI Project Name', 'ML Survey Date', 'Alignment Comment', 'Joint / US GW Number', 'ILI Survey Distance (ft)', 'Joint Length (ft)', 'From U/S GW (ft)', 'To D/S GW (ft)', 'Identification', 'Comment', 'Tool Speed (mph)', 'WT (in)', 'SMYS (PSI)', 'MAOP (PSI)', 'OD (in)', 'Longseam Visible', 'Seam Pos.', 'Depth (%)', 'Depth* (with tool tolerances)', 'OD Reduction (%)', 'Length (in)', 'Width (in)', \"O'clock\", 'Internal', 'Bend Radius (D)', 'Bend Angle (degrees)', 'Bend Direction', 'POF Category', 'Associated Tool Tolerance', 'Anomaly ID', 'Estimated Failure Pressure (Pf) ', 'Pf/MAOP', 'Pf* (with tool tolerances)', 'Pf*/MAOP', 'TotalBend Strain', 'Bend - Vert Strain Component', 'Bend - Horiz Strain Component', 'Internal Dent Strain', 'External Dent Strain', 'Easting', 'Northing', 'Latitude', 'Longitude', 'Elevation', 'U/S Reference', 'Dist. To U/S Ref [ft]', 'D/S Reference', 'Dist. To D/S Ref [ft]', 'ILI Vendor Comments', 'PG&E Station Number']\n"
     ]
    }
   ],
   "source": [
    "import pandas as pd\n",
    "\n",
    "\n",
    "file_name = r\"I:\\2023 ILI Pipe Tally Consolidation\\All_ILIData.csv\"\n",
    "\n",
    "# Read the file\n",
    "data = pd.read_csv(file_name, low_memory=False)\n",
    "\n",
    "# Output the number of rows\n",
    "print(\"Total rows: {0}\".format(len(data)))\n",
    "\n",
    "# See which headers are available\n",
    "print(list(data))"
   ]
  },
  {
   "cell_type": "markdown",
   "id": "2b3c0b8e-7bfc-44db-92fa-ab8f74041f65",
   "metadata": {},
   "source": [
    "Maybe save this as a binary file so it's easier to load?"
   ]
  },
  {
   "cell_type": "code",
   "execution_count": 81,
   "id": "69dc85c6-0f8c-4a9a-9747-c03e2d98bbbc",
   "metadata": {},
   "outputs": [],
   "source": [
    "# data.to_hdf('data.h5', key='ILI_data', mode='w')\n",
    "\n",
    "# to load, do:\n",
    "# pd.read_hdf('data.h5', 'ILI_data')  "
   ]
  },
  {
   "cell_type": "code",
   "execution_count": 38,
   "id": "5eb1f8b8-b432-4feb-949b-e7fd1556ac7e",
   "metadata": {},
   "outputs": [
    {
     "data": {
      "text/plain": [
       "0              NaN\n",
       "1              NaN\n",
       "2              NaN\n",
       "3              NaN\n",
       "4              NaN\n",
       "            ...   \n",
       "2008436     74.256\n",
       "2008437     74.762\n",
       "2008438     76.073\n",
       "2008439     78.996\n",
       "2008440    104.991\n",
       "Name: PG&E Station Number, Length: 2008441, dtype: object"
      ]
     },
     "execution_count": 38,
     "metadata": {},
     "output_type": "execute_result"
    }
   ],
   "source": [
    "data[\"PG&E Station Number\"]"
   ]
  },
  {
   "cell_type": "code",
   "execution_count": 9,
   "id": "1b5ef123-8786-4e32-83a8-5a2e5105d048",
   "metadata": {},
   "outputs": [
    {
     "data": {
      "text/plain": [
       "0         2001-10-25\n",
       "1         2001-10-25\n",
       "2         2001-10-25\n",
       "3         2001-10-25\n",
       "4         2001-10-25\n",
       "             ...    \n",
       "2008436   2023-02-17\n",
       "2008437   2023-02-17\n",
       "2008438   2023-02-17\n",
       "2008439   2023-02-17\n",
       "2008440   2023-02-17\n",
       "Name: ML Survey Date, Length: 2008441, dtype: datetime64[ns]"
      ]
     },
     "execution_count": 9,
     "metadata": {},
     "output_type": "execute_result"
    }
   ],
   "source": [
    "# Make the survey date into Date type\n",
    "date_field = \"ML Survey Date\"\n",
    "data[date_field]"
   ]
  },
  {
   "cell_type": "code",
   "execution_count": 10,
   "id": "3c31d7fa-7357-424f-8cb6-dc118f01f675",
   "metadata": {},
   "outputs": [],
   "source": [
    "data[date_field] = pd.to_datetime(data[date_field])"
   ]
  },
  {
   "cell_type": "code",
   "execution_count": 11,
   "id": "3f481084-9bb8-4519-bab2-ada73557cf15",
   "metadata": {},
   "outputs": [
    {
     "data": {
      "text/plain": [
       "0         2001-10-25\n",
       "1         2001-10-25\n",
       "2         2001-10-25\n",
       "3         2001-10-25\n",
       "4         2001-10-25\n",
       "             ...    \n",
       "2008436   2023-02-17\n",
       "2008437   2023-02-17\n",
       "2008438   2023-02-17\n",
       "2008439   2023-02-17\n",
       "2008440   2023-02-17\n",
       "Name: ML Survey Date, Length: 2008441, dtype: datetime64[ns]"
      ]
     },
     "execution_count": 11,
     "metadata": {},
     "output_type": "execute_result"
    }
   ],
   "source": [
    "data[date_field]"
   ]
  },
  {
   "cell_type": "code",
   "execution_count": 13,
   "id": "bdb7e198-a48d-4828-90c0-61bc438fa48e",
   "metadata": {},
   "outputs": [],
   "source": [
    "year_to_filter = 2022\n",
    "filtered_df = data[data[date_field].dt.year == year_to_filter]"
   ]
  },
  {
   "cell_type": "code",
   "execution_count": 37,
   "id": "b2a05ffc-fed7-4800-93fe-92e912981149",
   "metadata": {},
   "outputs": [
    {
     "data": {
      "text/plain": [
       "0"
      ]
     },
     "execution_count": 37,
     "metadata": {},
     "output_type": "execute_result"
    }
   ],
   "source": [
    "filtered_df[\"MP1\"].isna().sum()"
   ]
  },
  {
   "cell_type": "code",
   "execution_count": 17,
   "id": "b76c6336-33af-44af-a345-a5ce1e750f34",
   "metadata": {},
   "outputs": [
    {
     "data": {
      "text/plain": [
       "0.055749210457265115"
      ]
     },
     "execution_count": 17,
     "metadata": {},
     "output_type": "execute_result"
    }
   ],
   "source": [
    "# 5.5% of the total rows come from 2022.\n",
    "len(filtered_df) / len(data)"
   ]
  },
  {
   "cell_type": "code",
   "execution_count": 23,
   "id": "11c156a9-82d8-4576-97e7-e5d7395e7c3d",
   "metadata": {},
   "outputs": [],
   "source": [
    "location_fields = [date_field, 'Longitude', 'Latitude', 'Elevation', 'U/S Reference', 'Dist. To U/S Ref [ft]', 'D/S Reference', 'Dist. To D/S Ref [ft]']"
   ]
  },
  {
   "cell_type": "code",
   "execution_count": 24,
   "id": "78637377-a123-453d-9de9-bfb4ece548ee",
   "metadata": {},
   "outputs": [
    {
     "data": {
      "text/html": [
       "<div>\n",
       "<style scoped>\n",
       "    .dataframe tbody tr th:only-of-type {\n",
       "        vertical-align: middle;\n",
       "    }\n",
       "\n",
       "    .dataframe tbody tr th {\n",
       "        vertical-align: top;\n",
       "    }\n",
       "\n",
       "    .dataframe thead th {\n",
       "        text-align: right;\n",
       "    }\n",
       "</style>\n",
       "<table border=\"1\" class=\"dataframe\">\n",
       "  <thead>\n",
       "    <tr style=\"text-align: right;\">\n",
       "      <th></th>\n",
       "      <th>ML Survey Date</th>\n",
       "      <th>Longitude</th>\n",
       "      <th>Latitude</th>\n",
       "      <th>Elevation</th>\n",
       "      <th>U/S Reference</th>\n",
       "      <th>Dist. To U/S Ref [ft]</th>\n",
       "      <th>D/S Reference</th>\n",
       "      <th>Dist. To D/S Ref [ft]</th>\n",
       "    </tr>\n",
       "  </thead>\n",
       "  <tbody>\n",
       "    <tr>\n",
       "      <th>1847283</th>\n",
       "      <td>2022-12-21</td>\n",
       "      <td>NaN</td>\n",
       "      <td>NaN</td>\n",
       "      <td>NaN</td>\n",
       "      <td>O001</td>\n",
       "      <td>0.000</td>\n",
       "      <td>AGM002</td>\n",
       "      <td>69.638</td>\n",
       "    </tr>\n",
       "    <tr>\n",
       "      <th>1847284</th>\n",
       "      <td>2022-12-21</td>\n",
       "      <td>NaN</td>\n",
       "      <td>NaN</td>\n",
       "      <td>NaN</td>\n",
       "      <td>O001</td>\n",
       "      <td>7.517</td>\n",
       "      <td>AGM002</td>\n",
       "      <td>62.121</td>\n",
       "    </tr>\n",
       "    <tr>\n",
       "      <th>1847285</th>\n",
       "      <td>2022-12-21</td>\n",
       "      <td>NaN</td>\n",
       "      <td>NaN</td>\n",
       "      <td>NaN</td>\n",
       "      <td>O001</td>\n",
       "      <td>7.525</td>\n",
       "      <td>AGM002</td>\n",
       "      <td>62.113</td>\n",
       "    </tr>\n",
       "    <tr>\n",
       "      <th>1847286</th>\n",
       "      <td>2022-12-21</td>\n",
       "      <td>NaN</td>\n",
       "      <td>NaN</td>\n",
       "      <td>NaN</td>\n",
       "      <td>O001</td>\n",
       "      <td>7.533</td>\n",
       "      <td>AGM002</td>\n",
       "      <td>62.105</td>\n",
       "    </tr>\n",
       "    <tr>\n",
       "      <th>1847287</th>\n",
       "      <td>2022-12-21</td>\n",
       "      <td>NaN</td>\n",
       "      <td>NaN</td>\n",
       "      <td>NaN</td>\n",
       "      <td>O001</td>\n",
       "      <td>10.154</td>\n",
       "      <td>AGM002</td>\n",
       "      <td>59.484</td>\n",
       "    </tr>\n",
       "    <tr>\n",
       "      <th>...</th>\n",
       "      <td>...</td>\n",
       "      <td>...</td>\n",
       "      <td>...</td>\n",
       "      <td>...</td>\n",
       "      <td>...</td>\n",
       "      <td>...</td>\n",
       "      <td>...</td>\n",
       "      <td>...</td>\n",
       "    </tr>\n",
       "    <tr>\n",
       "      <th>1959247</th>\n",
       "      <td>2022-11-21</td>\n",
       "      <td>-120.492586</td>\n",
       "      <td>36.539648</td>\n",
       "      <td>551.25</td>\n",
       "      <td>AGM</td>\n",
       "      <td>20.770</td>\n",
       "      <td>NaN</td>\n",
       "      <td>NaN</td>\n",
       "    </tr>\n",
       "    <tr>\n",
       "      <th>1959248</th>\n",
       "      <td>2022-11-21</td>\n",
       "      <td>-120.492593</td>\n",
       "      <td>36.539641</td>\n",
       "      <td>551.28</td>\n",
       "      <td>AGM</td>\n",
       "      <td>24.310</td>\n",
       "      <td>NaN</td>\n",
       "      <td>NaN</td>\n",
       "    </tr>\n",
       "    <tr>\n",
       "      <th>1959249</th>\n",
       "      <td>2022-11-21</td>\n",
       "      <td>-120.492595</td>\n",
       "      <td>36.539639</td>\n",
       "      <td>551.29</td>\n",
       "      <td>AGM</td>\n",
       "      <td>25.120</td>\n",
       "      <td>NaN</td>\n",
       "      <td>NaN</td>\n",
       "    </tr>\n",
       "    <tr>\n",
       "      <th>1959250</th>\n",
       "      <td>2022-11-21</td>\n",
       "      <td>-120.492597</td>\n",
       "      <td>36.539636</td>\n",
       "      <td>551.30</td>\n",
       "      <td>AGM</td>\n",
       "      <td>26.430</td>\n",
       "      <td>NaN</td>\n",
       "      <td>NaN</td>\n",
       "    </tr>\n",
       "    <tr>\n",
       "      <th>1959251</th>\n",
       "      <td>2022-11-21</td>\n",
       "      <td>-120.492632</td>\n",
       "      <td>36.539600</td>\n",
       "      <td>551.45</td>\n",
       "      <td>AGM</td>\n",
       "      <td>43.560</td>\n",
       "      <td>NaN</td>\n",
       "      <td>NaN</td>\n",
       "    </tr>\n",
       "  </tbody>\n",
       "</table>\n",
       "<p>111969 rows × 8 columns</p>\n",
       "</div>"
      ],
      "text/plain": [
       "        ML Survey Date   Longitude   Latitude  Elevation U/S Reference  \\\n",
       "1847283     2022-12-21         NaN        NaN        NaN          O001   \n",
       "1847284     2022-12-21         NaN        NaN        NaN          O001   \n",
       "1847285     2022-12-21         NaN        NaN        NaN          O001   \n",
       "1847286     2022-12-21         NaN        NaN        NaN          O001   \n",
       "1847287     2022-12-21         NaN        NaN        NaN          O001   \n",
       "...                ...         ...        ...        ...           ...   \n",
       "1959247     2022-11-21 -120.492586  36.539648     551.25           AGM   \n",
       "1959248     2022-11-21 -120.492593  36.539641     551.28           AGM   \n",
       "1959249     2022-11-21 -120.492595  36.539639     551.29           AGM   \n",
       "1959250     2022-11-21 -120.492597  36.539636     551.30           AGM   \n",
       "1959251     2022-11-21 -120.492632  36.539600     551.45           AGM   \n",
       "\n",
       "         Dist. To U/S Ref [ft] D/S Reference  Dist. To D/S Ref [ft]  \n",
       "1847283                  0.000        AGM002                 69.638  \n",
       "1847284                  7.517        AGM002                 62.121  \n",
       "1847285                  7.525        AGM002                 62.113  \n",
       "1847286                  7.533        AGM002                 62.105  \n",
       "1847287                 10.154        AGM002                 59.484  \n",
       "...                        ...           ...                    ...  \n",
       "1959247                 20.770           NaN                    NaN  \n",
       "1959248                 24.310           NaN                    NaN  \n",
       "1959249                 25.120           NaN                    NaN  \n",
       "1959250                 26.430           NaN                    NaN  \n",
       "1959251                 43.560           NaN                    NaN  \n",
       "\n",
       "[111969 rows x 8 columns]"
      ]
     },
     "execution_count": 24,
     "metadata": {},
     "output_type": "execute_result"
    }
   ],
   "source": [
    "filtered_df[location_fields]"
   ]
  },
  {
   "cell_type": "markdown",
   "id": "2eb64f51-6c67-49c7-b331-847fcbe6e88f",
   "metadata": {},
   "source": [
    "Not all the anomaly have longtitude and latitude, or stationing number. Can I ignore them?"
   ]
  },
  {
   "cell_type": "code",
   "execution_count": 40,
   "id": "0f25d130-94bb-4ea4-81aa-bc2abcfcca15",
   "metadata": {},
   "outputs": [
    {
     "data": {
      "text/plain": [
       "0.0026971751109682142"
      ]
     },
     "execution_count": 40,
     "metadata": {},
     "output_type": "execute_result"
    }
   ],
   "source": [
    "filtered_df[\"Longitude\"].isna().sum() / len(filtered_df)"
   ]
  },
  {
   "cell_type": "markdown",
   "id": "09035b36-931b-47e4-b419-8cadb85c3b64",
   "metadata": {},
   "source": [
    "Only 0.26% of the anomaly listings don't have coordinates...maybe it's ok? Is there some kind of distribution patterns for this?"
   ]
  },
  {
   "cell_type": "code",
   "execution_count": 43,
   "id": "50454bb5-f5bb-4146-b767-58abe4e8641c",
   "metadata": {},
   "outputs": [],
   "source": [
    "no_coordinates_listings = filtered_df[\"Longitude\"].isna()"
   ]
  },
  {
   "cell_type": "code",
   "execution_count": 48,
   "id": "8f03066c-d82a-43ab-a063-ed46cda38d8a",
   "metadata": {},
   "outputs": [
    {
     "data": {
      "text/html": [
       "<div>\n",
       "<style scoped>\n",
       "    .dataframe tbody tr th:only-of-type {\n",
       "        vertical-align: middle;\n",
       "    }\n",
       "\n",
       "    .dataframe tbody tr th {\n",
       "        vertical-align: top;\n",
       "    }\n",
       "\n",
       "    .dataframe thead th {\n",
       "        text-align: right;\n",
       "    }\n",
       "</style>\n",
       "<table border=\"1\" class=\"dataframe\">\n",
       "  <thead>\n",
       "    <tr style=\"text-align: right;\">\n",
       "      <th></th>\n",
       "      <th>Vendor</th>\n",
       "      <th>Source</th>\n",
       "      <th>Route</th>\n",
       "      <th>Route_NoPrefix</th>\n",
       "      <th>MP1</th>\n",
       "      <th>MP2</th>\n",
       "      <th>Year</th>\n",
       "      <th>ILI Project Name</th>\n",
       "      <th>ML Survey Date</th>\n",
       "      <th>Alignment Comment</th>\n",
       "      <th>...</th>\n",
       "      <th>Northing</th>\n",
       "      <th>Latitude</th>\n",
       "      <th>Longitude</th>\n",
       "      <th>Elevation</th>\n",
       "      <th>U/S Reference</th>\n",
       "      <th>Dist. To U/S Ref [ft]</th>\n",
       "      <th>D/S Reference</th>\n",
       "      <th>Dist. To D/S Ref [ft]</th>\n",
       "      <th>ILI Vendor Comments</th>\n",
       "      <th>PG&amp;E Station Number</th>\n",
       "    </tr>\n",
       "  </thead>\n",
       "  <tbody>\n",
       "    <tr>\n",
       "      <th>1847283</th>\n",
       "      <td>Intero</td>\n",
       "      <td>Pipe Tally</td>\n",
       "      <td>L-148</td>\n",
       "      <td>148</td>\n",
       "      <td>17.18</td>\n",
       "      <td>17.46</td>\n",
       "      <td>2022</td>\n",
       "      <td>L-148 - MP 17.18 to MP 17.46 - 2022</td>\n",
       "      <td>2022-12-21</td>\n",
       "      <td>NaN</td>\n",
       "      <td>...</td>\n",
       "      <td>NaN</td>\n",
       "      <td>NaN</td>\n",
       "      <td>NaN</td>\n",
       "      <td>NaN</td>\n",
       "      <td>O001</td>\n",
       "      <td>0.000</td>\n",
       "      <td>AGM002</td>\n",
       "      <td>69.638</td>\n",
       "      <td>Other Data Limit O001</td>\n",
       "      <td>NaN</td>\n",
       "    </tr>\n",
       "    <tr>\n",
       "      <th>1847284</th>\n",
       "      <td>Intero</td>\n",
       "      <td>Pipe Tally</td>\n",
       "      <td>L-148</td>\n",
       "      <td>148</td>\n",
       "      <td>17.18</td>\n",
       "      <td>17.46</td>\n",
       "      <td>2022</td>\n",
       "      <td>L-148 - MP 17.18 to MP 17.46 - 2022</td>\n",
       "      <td>2022-12-21</td>\n",
       "      <td>NaN</td>\n",
       "      <td>...</td>\n",
       "      <td>NaN</td>\n",
       "      <td>NaN</td>\n",
       "      <td>NaN</td>\n",
       "      <td>NaN</td>\n",
       "      <td>O001</td>\n",
       "      <td>7.517</td>\n",
       "      <td>AGM002</td>\n",
       "      <td>62.121</td>\n",
       "      <td>Other Weld W001</td>\n",
       "      <td>NaN</td>\n",
       "    </tr>\n",
       "    <tr>\n",
       "      <th>1847285</th>\n",
       "      <td>Intero</td>\n",
       "      <td>Pipe Tally</td>\n",
       "      <td>L-148</td>\n",
       "      <td>148</td>\n",
       "      <td>17.18</td>\n",
       "      <td>17.46</td>\n",
       "      <td>2022</td>\n",
       "      <td>L-148 - MP 17.18 to MP 17.46 - 2022</td>\n",
       "      <td>2022-12-21</td>\n",
       "      <td>NaN</td>\n",
       "      <td>...</td>\n",
       "      <td>NaN</td>\n",
       "      <td>NaN</td>\n",
       "      <td>NaN</td>\n",
       "      <td>NaN</td>\n",
       "      <td>O001</td>\n",
       "      <td>7.525</td>\n",
       "      <td>AGM002</td>\n",
       "      <td>62.113</td>\n",
       "      <td>Other Manufacturing Related O002</td>\n",
       "      <td>NaN</td>\n",
       "    </tr>\n",
       "    <tr>\n",
       "      <th>1847286</th>\n",
       "      <td>Intero</td>\n",
       "      <td>Pipe Tally</td>\n",
       "      <td>L-148</td>\n",
       "      <td>148</td>\n",
       "      <td>17.18</td>\n",
       "      <td>17.46</td>\n",
       "      <td>2022</td>\n",
       "      <td>L-148 - MP 17.18 to MP 17.46 - 2022</td>\n",
       "      <td>2022-12-21</td>\n",
       "      <td>NaN</td>\n",
       "      <td>...</td>\n",
       "      <td>NaN</td>\n",
       "      <td>NaN</td>\n",
       "      <td>NaN</td>\n",
       "      <td>NaN</td>\n",
       "      <td>O001</td>\n",
       "      <td>7.533</td>\n",
       "      <td>AGM002</td>\n",
       "      <td>62.105</td>\n",
       "      <td>Other Manufacturing Related O003</td>\n",
       "      <td>NaN</td>\n",
       "    </tr>\n",
       "    <tr>\n",
       "      <th>1847287</th>\n",
       "      <td>Intero</td>\n",
       "      <td>Pipe Tally</td>\n",
       "      <td>L-148</td>\n",
       "      <td>148</td>\n",
       "      <td>17.18</td>\n",
       "      <td>17.46</td>\n",
       "      <td>2022</td>\n",
       "      <td>L-148 - MP 17.18 to MP 17.46 - 2022</td>\n",
       "      <td>2022-12-21</td>\n",
       "      <td>NaN</td>\n",
       "      <td>...</td>\n",
       "      <td>NaN</td>\n",
       "      <td>NaN</td>\n",
       "      <td>NaN</td>\n",
       "      <td>NaN</td>\n",
       "      <td>O001</td>\n",
       "      <td>10.154</td>\n",
       "      <td>AGM002</td>\n",
       "      <td>59.484</td>\n",
       "      <td>Feature Metal Loss A001</td>\n",
       "      <td>NaN</td>\n",
       "    </tr>\n",
       "  </tbody>\n",
       "</table>\n",
       "<p>5 rows × 57 columns</p>\n",
       "</div>"
      ],
      "text/plain": [
       "         Vendor      Source  Route Route_NoPrefix    MP1    MP2  Year  \\\n",
       "1847283  Intero  Pipe Tally  L-148            148  17.18  17.46  2022   \n",
       "1847284  Intero  Pipe Tally  L-148            148  17.18  17.46  2022   \n",
       "1847285  Intero  Pipe Tally  L-148            148  17.18  17.46  2022   \n",
       "1847286  Intero  Pipe Tally  L-148            148  17.18  17.46  2022   \n",
       "1847287  Intero  Pipe Tally  L-148            148  17.18  17.46  2022   \n",
       "\n",
       "                            ILI Project Name ML Survey Date Alignment Comment  \\\n",
       "1847283  L-148 - MP 17.18 to MP 17.46 - 2022     2022-12-21               NaN   \n",
       "1847284  L-148 - MP 17.18 to MP 17.46 - 2022     2022-12-21               NaN   \n",
       "1847285  L-148 - MP 17.18 to MP 17.46 - 2022     2022-12-21               NaN   \n",
       "1847286  L-148 - MP 17.18 to MP 17.46 - 2022     2022-12-21               NaN   \n",
       "1847287  L-148 - MP 17.18 to MP 17.46 - 2022     2022-12-21               NaN   \n",
       "\n",
       "         ...  Northing  Latitude  Longitude  Elevation  U/S Reference  \\\n",
       "1847283  ...       NaN       NaN        NaN        NaN           O001   \n",
       "1847284  ...       NaN       NaN        NaN        NaN           O001   \n",
       "1847285  ...       NaN       NaN        NaN        NaN           O001   \n",
       "1847286  ...       NaN       NaN        NaN        NaN           O001   \n",
       "1847287  ...       NaN       NaN        NaN        NaN           O001   \n",
       "\n",
       "        Dist. To U/S Ref [ft] D/S Reference  Dist. To D/S Ref [ft]  \\\n",
       "1847283                 0.000        AGM002                 69.638   \n",
       "1847284                 7.517        AGM002                 62.121   \n",
       "1847285                 7.525        AGM002                 62.113   \n",
       "1847286                 7.533        AGM002                 62.105   \n",
       "1847287                10.154        AGM002                 59.484   \n",
       "\n",
       "                      ILI Vendor Comments  PG&E Station Number  \n",
       "1847283             Other Data Limit O001                  NaN  \n",
       "1847284                   Other Weld W001                  NaN  \n",
       "1847285  Other Manufacturing Related O002                  NaN  \n",
       "1847286  Other Manufacturing Related O003                  NaN  \n",
       "1847287           Feature Metal Loss A001                  NaN  \n",
       "\n",
       "[5 rows x 57 columns]"
      ]
     },
     "execution_count": 48,
     "metadata": {},
     "output_type": "execute_result"
    }
   ],
   "source": [
    "filtered_df[no_coordinates_listings].head()"
   ]
  },
  {
   "cell_type": "code",
   "execution_count": 56,
   "id": "5ee3cf66-3ca7-4a7f-9e2d-a05adb0bdb5a",
   "metadata": {},
   "outputs": [
    {
     "data": {
      "text/plain": [
       "array(['L-148', 'L-173'], dtype=object)"
      ]
     },
     "execution_count": 56,
     "metadata": {},
     "output_type": "execute_result"
    }
   ],
   "source": [
    "np.unique(filtered_df[no_coordinates_listings][\"Route\"])"
   ]
  },
  {
   "cell_type": "code",
   "execution_count": 63,
   "id": "601f9f5d-2752-4c5c-a98c-bf8c46f5bb65",
   "metadata": {},
   "outputs": [],
   "source": [
    "no_coordinates_station_number = filtered_df[no_coordinates_listings][\"PG&E Station Number\"]"
   ]
  },
  {
   "cell_type": "code",
   "execution_count": 68,
   "id": "63e3dec9-5ac7-41f8-855c-c481701fdf3f",
   "metadata": {},
   "outputs": [
    {
     "name": "stdout",
     "output_type": "stream",
     "text": [
      "85.76158940397352% of all anomalies without coordinates have no station numbers\n"
     ]
    }
   ],
   "source": [
    "print(f\"{no_coordinates_station_number.isna().sum() / len(no_coordinates_station_number) * 100}% of all anomalies without coordinates have no station numbers\")"
   ]
  },
  {
   "cell_type": "code",
   "execution_count": 76,
   "id": "37386da3-6ed2-4859-9f71-5cf87b6900ef",
   "metadata": {},
   "outputs": [
    {
     "name": "stdout",
     "output_type": "stream",
     "text": [
      "There are 43 unique station numbers present for anomalies WITH coordinates\n"
     ]
    }
   ],
   "source": [
    "print(f\"There are {len(np.unique(no_coordinates_station_number[no_coordinates_station_number.notna()]))} unique station numbers present for anomalies WITH coordinates\")"
   ]
  },
  {
   "cell_type": "code",
   "execution_count": 78,
   "id": "a7af934e-6738-45d1-b0d2-448c41f7255b",
   "metadata": {},
   "outputs": [
    {
     "data": {
      "text/plain": [
       "array(['L-148 - MP 17.18 to MP 17.46 - 2022',\n",
       "       'L-173 - MP 1.59 to MP 1.69 - 2022'], dtype=object)"
      ]
     },
     "execution_count": 78,
     "metadata": {},
     "output_type": "execute_result"
    }
   ],
   "source": [
    "np.unique(filtered_df[no_coordinates_listings][\"ILI Project Name\"])"
   ]
  },
  {
   "cell_type": "code",
   "execution_count": 79,
   "id": "cfc2cbe7-3589-4418-9c06-d9536d89e490",
   "metadata": {},
   "outputs": [
    {
     "data": {
      "text/plain": [
       "(0.28000000000000114, 0.09999999999999987)"
      ]
     },
     "execution_count": 79,
     "metadata": {},
     "output_type": "execute_result"
    }
   ],
   "source": [
    "17.46-17.18, 1.69-1.59"
   ]
  },
  {
   "cell_type": "markdown",
   "id": "3266f0bc-91e8-4f83-adfc-8f3cbfd84ed4",
   "metadata": {},
   "source": [
    "# Segment ILI data"
   ]
  },
  {
   "cell_type": "code",
   "execution_count": 82,
   "id": "5062cce2-fbcd-4f44-97af-43137e17e985",
   "metadata": {},
   "outputs": [],
   "source": [
    "from typing import Tuple\n",
    "\n",
    "def make_ILI_data_for_year(\n",
    "    all_ILI_df: pd.DataFrame,\n",
    "    year: int\n",
    ") -> Tuple[pd.DataFrame, str]:\n",
    "    date_field = \"ML Survey Date\"\n",
    "    all_ILI_df[date_field] = pd.to_datetime(all_ILI_df[date_field])\n",
    "    filtered_df = all_ILI_df[all_ILI_df[date_field].dt.year == year]\n",
    "    # save as file\n",
    "    file_name = f\"cleaned_ILI_{year}.csv\"\n",
    "    filtered_df.to_csv(file_name, index=False)\n",
    "    return (filtered_df, file_name)"
   ]
  },
  {
   "cell_type": "code",
   "execution_count": 83,
   "id": "f2f9a131-d6fd-4a02-a4ee-df33ecc81ef4",
   "metadata": {},
   "outputs": [],
   "source": [
    "df_2022, csv_2022_name = make_ILI_data_for_year(data, 2022)"
   ]
  },
  {
   "cell_type": "code",
   "execution_count": 97,
   "id": "93e1bfe0-0e01-4a59-b7ba-9a29a8a0f2ad",
   "metadata": {},
   "outputs": [
    {
     "data": {
      "text/plain": [
       "'cleaned_ILI_2022.csv'"
      ]
     },
     "execution_count": 97,
     "metadata": {},
     "output_type": "execute_result"
    }
   ],
   "source": [
    "csv_2022_name"
   ]
  },
  {
   "cell_type": "markdown",
   "id": "05d99a08-289b-404a-b703-6da67f8725bb",
   "metadata": {},
   "source": [
    "# Look at failure pressure"
   ]
  },
  {
   "cell_type": "code",
   "execution_count": 85,
   "id": "d40085a5-fef8-4c24-822f-9558e388388a",
   "metadata": {},
   "outputs": [],
   "source": [
    "FP_fields = ['Estimated Failure Pressure (Pf) ', 'Pf/MAOP', 'Pf* (with tool tolerances)', 'Pf*/MAOP']"
   ]
  },
  {
   "cell_type": "code",
   "execution_count": 92,
   "id": "4e078e4c-e65d-4fd0-9482-b105d53bb3d4",
   "metadata": {},
   "outputs": [],
   "source": [
    "available_pf = df_2022[\"Estimated Failure Pressure (Pf) \"][df_2022[\"Estimated Failure Pressure (Pf) \"].notna()]"
   ]
  },
  {
   "cell_type": "code",
   "execution_count": 96,
   "id": "796822da-a7dd-40a2-99c4-305af66023f2",
   "metadata": {},
   "outputs": [
    {
     "data": {
      "text/plain": [
       "(array([3.5400e+02, 1.9453e+04, 7.1850e+03, 5.4730e+03, 2.1500e+02,\n",
       "        6.0000e+00, 2.6000e+01, 1.9000e+01, 1.3000e+01, 1.0000e+01]),\n",
       " array([ 663.55 , 1138.479, 1613.408, 2088.337, 2563.266, 3038.195,\n",
       "        3513.124, 3988.053, 4462.982, 4937.911, 5412.84 ]),\n",
       " <BarContainer object of 10 artists>)"
      ]
     },
     "execution_count": 96,
     "metadata": {},
     "output_type": "execute_result"
    },
    {
     "data": {
      "image/png": "[encoded data removed]",
      "text/plain": [
       "<Figure size 640x480 with 1 Axes>"
      ]
     },
     "metadata": {},
     "output_type": "display_data"
    }
   ],
   "source": [
    "plt.hist(available_pf)"
   ]
  },
  {
   "cell_type": "code",
   "execution_count": null,
   "id": "fb3d46b4-913e-4197-9016-758efbba131b",
   "metadata": {},
   "outputs": [],
   "source": []
  }
 ],
 "metadata": {
  "kernelspec": {
   "display_name": "Python 3 (ipykernel)",
   "language": "python",
   "name": "python3"
  },
  "language_info": {
   "codemirror_mode": {
    "name": "ipython",
    "version": 3
   },
   "file_extension": ".py",
   "mimetype": "text/x-python",
   "name": "python",
   "nbconvert_exporter": "python",
   "pygments_lexer": "ipython3",
   "version": "3.11.5"
  }
 },
 "nbformat": 4,
 "nbformat_minor": 5
}
