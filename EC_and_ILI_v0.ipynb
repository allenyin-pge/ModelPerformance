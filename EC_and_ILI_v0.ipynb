{
 "cells": [
  {
   "cell_type": "markdown",
   "id": "42ae1e83-cdfc-48cf-bc39-a32c43123c7b",
   "metadata": {},
   "source": [
    "# Rank correlation performance measurement for External Corrosion (EC) model\n",
    "\n",
    "This notebook will apply the rank correlation approach for measuring model performance outlined in [time dependent metric proposal](https://pge-my.sharepoint.com/:w:/r/personal/a1yu_pge_com/Documents/Documents/docs/performance_metric/time_depenedent_metric_proposal.docx?d=wd68c4250255d42a4b6279a5389502474&csf=1&web=1&e=6MIx7t) to external corrosion. The implementations here tries the idea of using ILI failure pressure as describe in the [v0 doc](https://pge-my.sharepoint.com/:w:/r/personal/a1yu_pge_com/Documents/Documents/docs/performance_metric/time_depenedent_metric_proposal.docx?d=wd68c4250255d42a4b6279a5389502474&csf=1&web=1&e=6MIx7t)."
   ]
  },
  {
   "cell_type": "markdown",
   "id": "7154d284-1135-492b-9285-8f118befa237",
   "metadata": {},
   "source": [
    "## Approach\n",
    "\n",
    "For this try, we want to do the following:\n",
    "\n",
    "1. Get the failure pressure for the pipelines that have ILI data available.\n",
    "2. Calculate the EC algorithm LOF for pipelines that have the ILI data available. Note that by default, POE is used to calculate LOF for pipelines with ILI data.\n",
    "3. Compare the results"
   ]
  },
  {
   "cell_type": "markdown",
   "id": "c1e9652f-84c6-4a90-8cf5-e7df0eeb1683",
   "metadata": {},
   "source": [
    "## ILI data\n",
    "\n",
    "Using the ILI failure pressure data is not straight-forward, however, especially if we want to grab it directly from the marinerDB.\n",
    "\n",
    "The main reason is that ILI tally lists indidivudal defects and flaws detected. A pipe segment can have multiple defects. Consequently, the failure pressure from ILI is PER DEFECT. In contrast, the failure pressure calculated as part of the POE-LOF process is PER SEGMENT. While both Jackson and Brian suggests using the ILI tally failure pressure, the per-defect failure pressure need to be converted to per-segment failure pressure, such that they can be matched against the EC risk model outputs.\n",
    "\n",
    "\n",
    "**Additional caveats**\n",
    "\n",
    "- Check the install date of the pipe that I'm comparing against to be before the ILI data.\n",
    "- In the LOF-Alg calculation (non-POE), a mitigation factor is applied. Could be useful to run calculation with/without it.tion with/without it."
   ]
  },
  {
   "cell_type": "markdown",
   "id": "34b7d9ad-0c1b-41f8-8d23-c556fdbea7b2",
   "metadata": {},
   "source": [
    "## Access the ILI failure pressure information from the marinerDB"
   ]
  },
  {
   "cell_type": "code",
   "execution_count": 6,
   "id": "ac492e19-d974-46cd-83bb-5206cd5ffff0",
   "metadata": {},
   "outputs": [],
   "source": [
    "import sqlalchemy\n",
    "from sqlalchemy import create_engine\n",
    "\n",
    "from sqlalchemy import MetaData, Table"
   ]
  },
  {
   "cell_type": "code",
   "execution_count": 2,
   "id": "fbc595e9-fa3d-46e4-867f-8e00a0d78e49",
   "metadata": {},
   "outputs": [],
   "source": [
    "# Example from https://stackoverflow.com/a/75545100\n",
    "\n",
    "server = \"tsitinfdbsws010\"\n",
    "database = \"MarinerDB_2022\"\n",
    "driver = \"ODBC+Driver+17+for+SQL+Server\"\n",
    "url = f\"mssql+pyodbc://{server}/{database}?trusted_connection=yes&driver={driver}\"\n",
    "engine = sqlalchemy.create_engine(url)\n",
    "connection = engine.connect()"
   ]
  },
  {
   "cell_type": "code",
   "execution_count": 3,
   "id": "4155fae9-fd37-4aaa-8e62-2f001b38a58f",
   "metadata": {},
   "outputs": [],
   "source": [
    "from sqlalchemy import inspect\n",
    "inspector = inspect(engine)\n",
    "table_names = inspector.get_table_names()"
   ]
  },
  {
   "cell_type": "code",
   "execution_count": 4,
   "id": "922e19a7-44dc-483c-9a74-7f8e56013e29",
   "metadata": {},
   "outputs": [
    {
     "data": {
      "text/plain": [
       "['A_Form',\n",
       " 'A_Form_CoverDepth',\n",
       " 'ACAnnualPrecip',\n",
       " 'ACDryChlorideDep',\n",
       " 'ACSpans',\n",
       " 'acspans_stage1_scc',\n",
       " 'acspans_stage1_tpd',\n",
       " 'ACSulfurDioxDep',\n",
       " 'ACVaults',\n",
       " 'anaRiskScores_2022',\n",
       " 'anariskscores_2022_bk041023',\n",
       " 'anaRiskScores_LOF_COF_2022',\n",
       " 'anaRiskScores_pipe',\n",
       " 'anaWAP_IDevents',\n",
       " 'ArcFaultHistory',\n",
       " 'Assessment_History',\n",
       " 'assessment_history_bk110422',\n",
       " 'Assessment_History_Cons',\n",
       " 'Assessment_History_ILI',\n",
       " 'Assessment_History_Manu',\n",
       " 'assessment_plan',\n",
       " 'assessment_plan_bk090922',\n",
       " 'assessment_plan_stage1_ec',\n",
       " 'assessment_plan_stage1_ic',\n",
       " 'assessment_plan_stage1_scc',\n",
       " 'AxialSCCLeak',\n",
       " 'axialsccleak_stage1',\n",
       " 'Bend',\n",
       " 'bend_2022',\n",
       " 'bend_bk0712',\n",
       " 'bend_dups',\n",
       " 'buffersize',\n",
       " 'CA_2023_05',\n",
       " 'CA_Categories',\n",
       " 'Carefacility_IOC',\n",
       " 'carefacility_ioc_tmp120122',\n",
       " 'CASING',\n",
       " 'casing_stage1',\n",
       " 'CasingRawData',\n",
       " 'Centerline_Per_Series',\n",
       " 'Centerline_PIR',\n",
       " 'classarea',\n",
       " 'classarea_tmp101722',\n",
       " 'classarea_upd101722',\n",
       " 'coating',\n",
       " 'Coating_assume_type',\n",
       " 'Coating_Condition',\n",
       " 'coating_condition_bk091522',\n",
       " 'Coating_condition_tmp110322',\n",
       " 'Coating_desc_LUT',\n",
       " 'coating_hform_assumption_102622',\n",
       " 'coating_hform_rawmatch102622',\n",
       " 'coating_itrun',\n",
       " 'coating_tmp110322',\n",
       " 'coatingcondition_evs',\n",
       " 'COF_bk112222',\n",
       " 'COF_Risk_Adjustment_Factors',\n",
       " 'COF_Risk_Results',\n",
       " 'COF_Risk_Scores',\n",
       " 'COF_validation_25k',\n",
       " 'COF_validation_25k_rwo9',\n",
       " 'COF_validation_data',\n",
       " 'CONS_bk052423',\n",
       " 'CONS_bk120922',\n",
       " 'Cons_Risk_Adjustment_Factors',\n",
       " 'Cons_Risk_LOF',\n",
       " 'Cons_Risk_Results',\n",
       " 'Cons_Risk_Results_2021',\n",
       " 'CONS_Risk_Results_old',\n",
       " 'Cons_Threat_Drivers',\n",
       " 'Cons_Threat_Drivers_2021',\n",
       " 'CONS_validation_25k',\n",
       " 'CONS_validation_25k_tpn4',\n",
       " 'CONS_validation_data',\n",
       " 'ConsequenceArea',\n",
       " 'ConsequenceAreas2022',\n",
       " 'CONSEROSION',\n",
       " 'CONSLandslide',\n",
       " 'ConsLeak',\n",
       " 'consleak_stage1',\n",
       " 'consleak_stage1_tmp120922',\n",
       " 'consleak_tmp120822',\n",
       " 'consleak_tmp120922',\n",
       " 'CONSSME_BendingStrain',\n",
       " 'CONSSME_ConstructionCondition',\n",
       " 'CONSSME_DentsGouges',\n",
       " 'CONSSME_PCT_XRAY',\n",
       " 'Coordinates2023',\n",
       " 'CorrCasingProgram',\n",
       " 'COVERDEPTH',\n",
       " 'coverdepth_missingsegs',\n",
       " 'coverdepth_pt_full',\n",
       " 'Coverdepth_pt_stationed',\n",
       " 'coverdepth_range',\n",
       " 'coverdepth_tbl',\n",
       " 'CoverDepthRaw',\n",
       " 'CP_Range_tmp101322',\n",
       " 'cp_read_points',\n",
       " 'cp_read_points_valid',\n",
       " 'CPOffRead',\n",
       " 'CriticalFacility',\n",
       " 'CustomerCount',\n",
       " 'CustomerCount_092322',\n",
       " 'DCIntProgram',\n",
       " 'DCTransit',\n",
       " 'DigInConcern',\n",
       " 'Domain_CoatingCategories',\n",
       " 'Domain_CoatingLine',\n",
       " 'domain_coatingline_bk092921',\n",
       " 'Domain_CoatingLine_SCCMapping',\n",
       " 'Domain_LRB_CVN',\n",
       " 'Domain_LRB_Seam',\n",
       " 'Domain_PipeManufacturer',\n",
       " 'Domain_RaisedSeams',\n",
       " 'Domain_SeamType',\n",
       " 'DOT_Class2022',\n",
       " 'DYNAMIC_SEG_RADIUS',\n",
       " 'DYNAMIC_SEGMENT_RADIUS_IOC',\n",
       " 'EC_Risk_LOF',\n",
       " 'EC_SSWC_bk040723',\n",
       " 'EC_SSWC_bk111622',\n",
       " 'EC_validation_25k',\n",
       " 'EC_validation_25k_lof',\n",
       " 'EC_validation_data',\n",
       " 'ECDA',\n",
       " 'ECDA_Scoping_2022',\n",
       " 'ecleak_stage1',\n",
       " 'ECSME_MIC',\n",
       " 'EnvironmentImpact',\n",
       " 'EQ_IO_bk111522',\n",
       " 'eq_io_risk_lof',\n",
       " 'EQ_IO_Risk_Results',\n",
       " 'EQ_IO_validation_25k',\n",
       " 'EQ_IO_validation_data',\n",
       " 'Erosion',\n",
       " 'Events',\n",
       " 'ExcavationWallLoss',\n",
       " 'excavationwallloss_ITrun',\n",
       " 'excavationwallloss_stage1',\n",
       " 'excavationwallloss_tmp110422',\n",
       " 'Excavationwallloss_toload110422',\n",
       " 'Exposed_Pipe_SEP',\n",
       " 'External_Corrosion_Risk_Results',\n",
       " 'ExternalCorrosionLeak',\n",
       " 'Failure_Pressures',\n",
       " 'fatigue_match',\n",
       " 'fatigue_match_012723',\n",
       " 'fatigue_match_013023',\n",
       " 'fatigue_raw_toresolve',\n",
       " 'fatigue_transfer_2023',\n",
       " 'ForeignLineCrossing',\n",
       " 'GasConstantFactor',\n",
       " 'GasConstantFactor_2021',\n",
       " 'gasconstantfactor_stage',\n",
       " 'GridPoints',\n",
       " 'GroundEventPGA',\n",
       " 'gtgisupd_milepoint_2022upd',\n",
       " 'gtgisupd_milepoint2021_final072022',\n",
       " 'H_FORM',\n",
       " 'H_Form_CoverDepth',\n",
       " 'HFORM_EVENT_NOTES',\n",
       " 'HFORM_RMP',\n",
       " 'HFORM_RMP_RELATE',\n",
       " 'HFORM_RMP_RELATE_STG',\n",
       " 'HIGHWAY_IOC',\n",
       " 'highway_ioc_dissolve',\n",
       " 'highway_ioc_flatten',\n",
       " 'highway_IOC_tmp111022',\n",
       " 'hydrotest',\n",
       " 'hydrotest_1',\n",
       " 'hydrotest_bk052423',\n",
       " 'hydrotest_bk102722',\n",
       " 'hydrotest_last2tests',\n",
       " 'hydrotest_last2tests_fix',\n",
       " 'hydrotest_last2tests_stage1',\n",
       " 'hydrotest_old',\n",
       " 'hydrotest_stage1',\n",
       " 'hydrotest_subpartJ',\n",
       " 'hydrotest_subpartJ_bk052423',\n",
       " 'hydrotest_subpartj_old',\n",
       " 'hydrotest_subpartJ_stage1',\n",
       " 'IC_acc_evs',\n",
       " 'IC_Acc_FacilityFlow',\n",
       " 'ic_acc_liquidevts_resta22',\n",
       " 'ic_acc_matched',\n",
       " 'ic_acc_matched_resta',\n",
       " 'IC_acc_merge',\n",
       " 'ic_acc_networktbl',\n",
       " 'ic_acc_reliabilitynetwork',\n",
       " 'IC_Bac_lines_tbl',\n",
       " 'IC_bac_pts_tbl',\n",
       " 'IC_bk111522',\n",
       " 'IC_Bundles',\n",
       " 'IC_Risk_Adjustment_Factors',\n",
       " 'IC_Risk_LOF',\n",
       " 'IC_SCADA_GAS_QUALITY',\n",
       " 'IC_Solid',\n",
       " 'IC_Threat_Drivers',\n",
       " 'IC_Threat_Drivers_2021',\n",
       " 'IC_Threat_Drivers_Validation',\n",
       " 'IC_threatid_25k',\n",
       " 'IC_ThreatID_Table',\n",
       " 'IC_validation_25k',\n",
       " 'IC_validation_25k_mybc',\n",
       " 'IC_validation_data',\n",
       " 'ICLeak',\n",
       " 'icleak_bk111522',\n",
       " 'icleak_stage1',\n",
       " 'icleak_stage1_old',\n",
       " 'icleak_upd111522',\n",
       " 'ICLeak_update_ICRE_111522',\n",
       " 'ICRE_update_TLR_111522',\n",
       " 'ICSME_Bacteria',\n",
       " 'ICSME_CorrosionRate',\n",
       " 'ICSME_DesignCondition',\n",
       " 'ICSME_GasQuality',\n",
       " 'icsme_gasquality_backup11152022',\n",
       " 'ICSME_GasQuality_Tag_Locations',\n",
       " 'ICSME_GasSource',\n",
       " 'ICSME_InternalLiner',\n",
       " 'ICSME_Liquids',\n",
       " 'ICSME_MaintenancePigging',\n",
       " 'ICSME_Solids',\n",
       " 'ILICONSFEATS',\n",
       " 'IM_Activity',\n",
       " 'IM_Activity_Range',\n",
       " 'im_assessplan',\n",
       " 'im_assessplan_deoverlap',\n",
       " 'im_assessplan_pre090922',\n",
       " 'im_assessplan_resta',\n",
       " 'IM_Flags_2023_01',\n",
       " 'IM_Flags_2023_02',\n",
       " 'IM_Flags_2023_05_rev2',\n",
       " 'IM_Flags_2023_05_rev3',\n",
       " 'IM_Flags_Dummy',\n",
       " 'imf_ancestor',\n",
       " 'imf_parent',\n",
       " 'imf_sswc_ancestor',\n",
       " 'imf_sswc_parent',\n",
       " 'imf_sswc_tracking_2023_01',\n",
       " 'imf_tracking_2023_01',\n",
       " 'imf_tracking_2023_02',\n",
       " 'imf_tracking_2023_05',\n",
       " 'imf_tracking_2023_05_rev2',\n",
       " 'imf_tracking_2023_05_rev3',\n",
       " 'imf_tracking_jan',\n",
       " 'imf_tracking_JAN_23',\n",
       " 'imf_tracking_old',\n",
       " 'impactonreliability',\n",
       " 'impactonreliability_2021',\n",
       " 'impactonreliability_resta',\n",
       " 'Internal_Corrosion_Risk_Results',\n",
       " 'Internal_Corrosion_Risk_Results_2021',\n",
       " 'Internal_Corrosion_Risk_Results_bkup',\n",
       " 'IOC_STAGE_PROCESS_ROUTE',\n",
       " 'ioeq_overpressure',\n",
       " 'ioeq_overpressure_2021',\n",
       " 'ioeq_overpressure_resta',\n",
       " 'ioeq_overpressure_resta_bk093022',\n",
       " 'ioeq_overpressure_stage1',\n",
       " 'ioeq_stationdata',\n",
       " 'ioeq_stationdata_2021',\n",
       " 'ioeq_stationdata_maopupd',\n",
       " 'ioeq_stationdata_resta',\n",
       " 'ioeq_stationdata_resta_bk093022',\n",
       " 'landslide',\n",
       " 'LANDUSE',\n",
       " 'Leak_Migration',\n",
       " 'LEVEE',\n",
       " 'lineloop',\n",
       " 'lineloop_2022',\n",
       " 'Linemarking',\n",
       " 'Liquefaction',\n",
       " 'Local_Low_Spot',\n",
       " 'MANU_bk013123',\n",
       " 'MANU_bk052423',\n",
       " 'MANU_bk102822',\n",
       " 'manu_body_threatid_25k',\n",
       " 'manu_body_threatid_25k_validation',\n",
       " 'MANU_OUTPUT_FORSME_2018',\n",
       " 'Manu_Risk_Adjustment_Factors',\n",
       " 'Manu_Risk_LOF',\n",
       " 'Manu_Risk_Results',\n",
       " 'MANU_Risk_Results_old',\n",
       " 'manu_risk_results_thera030223',\n",
       " 'manu_seam_threatid_25k_validation',\n",
       " 'Manu_Threat_Drivers',\n",
       " 'Manu_Threat_Drivers_Hard_Spot_History',\n",
       " 'Manu_Threat_Drivers_Validation',\n",
       " 'Manu_ThreatID_Table',\n",
       " 'manu_validation_25k',\n",
       " 'manu_validation_25k_lof',\n",
       " 'MANU_validation_data',\n",
       " 'manufacturer_thera_match_032923',\n",
       " 'manufleak',\n",
       " 'manufleak_stage0',\n",
       " 'Manufleak_stage1',\n",
       " 'ManufLeakRawdata',\n",
       " 'MANUFSME_Fatigue',\n",
       " 'manufsme_fatigue_081222',\n",
       " 'MANUFSME_HardSpot',\n",
       " 'MANUFSME_TPEPRatio',\n",
       " 'MAOP',\n",
       " 'maop_2021_resta',\n",
       " 'maop_2022',\n",
       " 'maop_report112822',\n",
       " 'maop_subsys_YoYcompare',\n",
       " 'milepoint',\n",
       " 'milepoint_bk072922',\n",
       " 'Milepost_edit021023',\n",
       " 'milepost_segs020323',\n",
       " 'milepost_segs021023',\n",
       " 'Milepost_upd020323',\n",
       " 'MOC_HPHSCC_Resta',\n",
       " 'MOC_IC_Resta',\n",
       " 'MOC_IC_Resta_bk082622',\n",
       " 'MOC_Manu_IMFlag',\n",
       " 'moc_manu_imflag_nomatch',\n",
       " 'moc_manu_imflag_resta',\n",
       " 'moc_manu_resta',\n",
       " 'MOC_NNSCC_Resta',\n",
       " 'MOC_NNSCC_Resta_bk082622',\n",
       " 'MOC_SSWC_Resta',\n",
       " 'MOC_SSWC_Resta_bk082622',\n",
       " 'new_imf_tracking',\n",
       " 'new_sswc_tracking',\n",
       " 'OccupancyCnt',\n",
       " 'OccupancyCnt_125PCT',\n",
       " 'OccupancyCnt_150PCT',\n",
       " 'OccupancyCnt_Care_Fac',\n",
       " 'occupancycnt_onoff',\n",
       " 'Onecall',\n",
       " 'OneCall_Tickets',\n",
       " 'OneCallRawData',\n",
       " 'OneCallRepeatOffenders',\n",
       " 'OneCallTickets',\n",
       " 'OneCallTickets_07132022',\n",
       " 'p12_624_dates',\n",
       " 'p12_624_scope',\n",
       " 'P30_Audit',\n",
       " 'P30_Categories',\n",
       " 'P30_HCA_Driver',\n",
       " 'P30_HCA_Driver_Categories',\n",
       " 'P30_Pigable_Segments',\n",
       " 'P30_Pigable_Segments_HCA',\n",
       " 'P30_Risk_CA',\n",
       " 'P30_Risk_Rank',\n",
       " 'P30_SMYS_CA',\n",
       " 'P30_WAP_Output',\n",
       " 'percentsmys',\n",
       " 'percentsmys_2022',\n",
       " 'PigablePipe2022',\n",
       " 'pipe_angle',\n",
       " 'PipeData_177A_2',\n",
       " 'pipesegment',\n",
       " 'pipesegment_2021',\n",
       " 'PODSCONSFEATS',\n",
       " 'POE_Anomaly_Type_Exclusions',\n",
       " 'POE_Defects_131',\n",
       " 'POE_EC_Rollup',\n",
       " 'POE_EC_Rollup_bk',\n",
       " 'POE_External_Corrosion_Growth_Rates',\n",
       " 'POE_IC_Rollup',\n",
       " 'POE_Internal_Corrosion_Growth_Rates',\n",
       " 'POE_Results',\n",
       " 'POE_TRADILI_MATCHED_2022',\n",
       " 'POE_Validation_bnpq',\n",
       " 'Proximity',\n",
       " 'pt',\n",
       " 'PublicEducation',\n",
       " 'RAMP_MAOP_subsys',\n",
       " 'RAMP_Stations_LVC_subsys_match',\n",
       " 'RAMP_stations_OPPipe',\n",
       " 'RAMP_stations_OPPipe_013123',\n",
       " 'RAMP_Stations_subsys_match',\n",
       " 'restation_21to22_override',\n",
       " 'Risk_Percentile_Table',\n",
       " 'risk_rollup_50ksamples2',\n",
       " 'risk_rollup_segments2',\n",
       " 'RiskResults_Int_Percentile',\n",
       " 'RiskResults_int2022',\n",
       " 'RiskResults_int2022_01232023',\n",
       " 'RiskResults_int2022_02172023',\n",
       " 'RiskResults_int2022_04272023',\n",
       " 'RiskSnapshot2022',\n",
       " 'RouteConnection',\n",
       " 's3lgtest',\n",
       " 'Sankey_Cons',\n",
       " 'Sankey_IC',\n",
       " 'Sankey_Manu',\n",
       " 'Sankey_SCC',\n",
       " 'Sankey_SSWC',\n",
       " 'SCADA_presspt_combined_120122',\n",
       " 'SCADA_presspt_stat_120122',\n",
       " 'SCADA_pressurept_CRM',\n",
       " 'scada_tags_location',\n",
       " 'SCADA_Tags_location061722',\n",
       " 'SCADA_Temperature_fix021523',\n",
       " 'SCC_bk021623',\n",
       " 'SCC_bk111522',\n",
       " 'SCC_Risk_Adjustment_Factors_Validation',\n",
       " 'SCC_Risk_LOF',\n",
       " 'SCC_Risk_LOF_Validation',\n",
       " 'SCC_Risk_Results',\n",
       " 'SCC_SCADA_StationTemp',\n",
       " 'SCC_Scada_Temp_test',\n",
       " 'SCC_Threat_Drivers',\n",
       " 'SCC_Threat_Drivers_2021',\n",
       " 'SCC_Threat_Drivers_Validation',\n",
       " 'SCC_threatSimilar_compsta',\n",
       " 'SCC_ThreatSimilar_merge',\n",
       " 'SCC_validation_25k',\n",
       " 'SCC_validation_25k_bnpq',\n",
       " 'SCC_validation_data',\n",
       " 'SCCSME_CompressorProximity',\n",
       " 'SCCSME_DentsGouges',\n",
       " 'sccsme_temp_delta',\n",
       " 'SCCSME_Temperature',\n",
       " 'SCCSME_Temperature_11172022',\n",
       " 'sccsme_temperature_bk083122',\n",
       " 'sccsme_temperature_old',\n",
       " 'SCCSME_Temperature_tmp093022',\n",
       " 'SCCSME_Tie_In_SagOver',\n",
       " 'sccsme_uplandlowland',\n",
       " 'SCCSME_WetDryCycle',\n",
       " 'SCCThreatID_History',\n",
       " 'Score_COF_CustomerLoss',\n",
       " 'Score_COF_EnvironmentalDesignation',\n",
       " 'Score_COF_FacilityImpact',\n",
       " 'Score_COF_ReleaseVolume',\n",
       " 'Score_COF_Safety',\n",
       " 'Score_COF_WaterCrossing',\n",
       " 'Score_Construction_Age',\n",
       " 'Score_Construction_AssessmentMitigation',\n",
       " 'Score_Construction_BendingStrain',\n",
       " 'Score_Construction_Features',\n",
       " 'Score_Construction_History',\n",
       " 'Score_Construction_ILIMitigation',\n",
       " 'Score_Construction_SMYS',\n",
       " 'Score_DirectExamination',\n",
       " 'Score_HydrostaticPressureTest',\n",
       " 'Score_IC_Bacteria',\n",
       " 'Score_IC_CorrosionInhibitor',\n",
       " 'Score_IC_CorrosionRate',\n",
       " 'Score_IC_DesignCondition',\n",
       " 'Score_IC_GasQuality',\n",
       " 'Score_IC_GasSource',\n",
       " 'Score_IC_ICDA',\n",
       " 'Score_IC_InternalLiner',\n",
       " 'Score_IC_Leaks_Ruptures',\n",
       " 'Score_IC_Liquids',\n",
       " 'Score_IC_MaintenancePigging',\n",
       " 'Score_IC_RecordedEvidence',\n",
       " 'Score_IC_Solids',\n",
       " 'Score_IC_TimeInOperation',\n",
       " 'Score_InlineInspection',\n",
       " 'Score_Manufacturing_BodyFailure',\n",
       " 'Score_Manufacturing_CathodicProtection',\n",
       " 'Score_Manufacturing_Design',\n",
       " 'Score_Manufacturing_Fatique',\n",
       " 'Score_Manufacturing_HardSpot',\n",
       " 'Score_Manufacturing_Mitigation',\n",
       " 'Score_Manufacturing_Repair',\n",
       " 'Score_Manufacturing_SeamFailure',\n",
       " 'Score_Manufacturing_SMYS',\n",
       " 'Score_PercentileRangeLabels',\n",
       " 'Score_SCC_Age_YearAbsolute',\n",
       " 'Score_SCC_Age_YearRelative',\n",
       " 'Score_SCC_BendingStress',\n",
       " 'Score_SCC_CathodicProtection',\n",
       " 'Score_SCC_Circumferential_Stress',\n",
       " 'Score_SCC_CircumferentialHistory',\n",
       " 'Score_SCC_CompressorProximity',\n",
       " 'Score_SCC_History',\n",
       " 'Score_SCC_MainlineCoating',\n",
       " 'Score_SCC_MainlineCoating_Additional',\n",
       " 'Score_SCC_PipeCharacteristics',\n",
       " 'Score_SCC_PressureCycle',\n",
       " 'Score_SCC_SCCDA',\n",
       " 'Score_SCC_SMYS',\n",
       " 'Score_SCC_Stress_Increasers_Concentrators',\n",
       " 'Score_SCC_Temperature',\n",
       " 'Score_SCC_Topography',\n",
       " 'Score_SSWC_EnvironmentalConditions',\n",
       " 'Score_SSWC_MainlineCoating',\n",
       " 'Score_SSWC_Susceptibility',\n",
       " 'SeismicArea',\n",
       " 'SeismicFaultCrossing',\n",
       " 'SeismicFaultCrossing_10262022',\n",
       " 'SeismicFaultCrossing_SourceData',\n",
       " 'sn20_manuf_thera_resta',\n",
       " 'sn20_manufacturer_matchall',\n",
       " 'sn20_manufacturer_matchdup',\n",
       " 'sn20_manufacturer_matchexclude',\n",
       " 'sn20_manufacturer_matchfinal',\n",
       " 'sn20_manufacturer_thera',\n",
       " 'sn22_bend_final',\n",
       " 'sn22_bend_trimmed_endpts',\n",
       " 'sn22_BendPnts_ev',\n",
       " 'sn22_Casing',\n",
       " 'sn22_ClassArea',\n",
       " 'sn22_futuregeom_copy',\n",
       " 'sn22_futuregeom_new_assumespecs',\n",
       " 'sn22_futuregeom_new_bend',\n",
       " 'sn22_FutureGeom_new_specs',\n",
       " 'sn22_futuregeom_potential_include',\n",
       " 'sn22_GasConstantFactor',\n",
       " 'sn22_HCA',\n",
       " 'sn22_hydroSJ_evs',\n",
       " 'sn22_Hydrotest_allquals',\n",
       " 'sn22_Hydrotest_allquals_old',\n",
       " 'sn22_IM_Activity_resta',\n",
       " 'sn22_Lineloop',\n",
       " 'sn22_MaintOrg',\n",
       " 'sn22_manu_thera_qc1',\n",
       " 'sn22_manu_thera_qc2',\n",
       " 'sn22_MAOP_calc',\n",
       " 'sn22_maop_catalog',\n",
       " 'sn22_maop_catalog_clean',\n",
       " 'sn22_maop_g4_clean',\n",
       " 'sn22_maop_g4_final',\n",
       " 'sn22_maop_g4update',\n",
       " 'sn22_maop_override_list',\n",
       " 'sn22_maop_spatialoverride',\n",
       " 'sn22_MAOP_subsys',\n",
       " 'sn22_milepoint',\n",
       " 'sn22_milepoint_edit',\n",
       " 'sn22_milepoint_pre',\n",
       " 'sn22_milepoint_pre_bk1',\n",
       " 'sn22_milepoint_resta',\n",
       " 'sn22_milepoint_rev020323',\n",
       " 'sn22_PIPE_MANUFACTURER_CL',\n",
       " 'sn22_pipe_manufacturer_missing',\n",
       " 'sn22_PipeSegment_part1',\n",
       " 'sn22_PipeSegment_part2',\n",
       " 'sn22_PipeSegment_part3',\n",
       " 'sn22_pipesegment_part3_bk0707',\n",
       " 'sn22_route_trim',\n",
       " 'Sn22_RouteTable',\n",
       " 'sn22_TransDef',\n",
       " 'sn22_validate',\n",
       " 'sn22_validate_atm_err062322',\n",
       " 'sn22_validate_bk0623',\n",
       " 'sn22_validate_err061622',\n",
       " 'sn22_validate_err062322',\n",
       " 'sn22_validate_final',\n",
       " 'sn22_validate_final_bk0630',\n",
       " 'sn22_validate_final_bk0630b',\n",
       " 'sn22_validate_final_bk0630c',\n",
       " 'sn22_validate_gap_err062322',\n",
       " 'sn22_WAP_052022_restation',\n",
       " 'sn22_wap_052022_restation_bk082622',\n",
       " 'sn22_wap_052022_YOYunchanged',\n",
       " 'sn22_WORK_ORDER_RANGE',\n",
       " 'sn23_Pipe_MP_020323',\n",
       " 'Soil_MAster',\n",
       " 'SOIL_POLY',\n",
       " 'SOILRESISTIVITY',\n",
       " 'Source_structure_LeakMigration',\n",
       " 'Source_wildfirepoly_simplified',\n",
       " 'SourceData_AerialPatrol',\n",
       " 'SourceData_CriticalFacPoly',\n",
       " 'SourceData_DCTransitPoly',\n",
       " 'SourceData_DigInConcern',\n",
       " 'SourceData_EnvironmentPoly',\n",
       " 'Sourcedata_Erosion',\n",
       " 'SourceData_ForeignLineCrossing',\n",
       " 'SourceData_FutureDev',\n",
       " 'SourceData_Landslide',\n",
       " 'SourceData_LandUse',\n",
       " 'SourceData_Levee',\n",
       " 'SourceData_LineMarking',\n",
       " 'SourceData_LIQUEFACTION',\n",
       " 'SourceData_Proximity',\n",
       " 'SourceData_SeismicArea',\n",
       " 'SourceData_Stage_PubED_Mailout',\n",
       " 'SourceData_Step1_SCADA_Temperature',\n",
       " 'Sourcedata_Structure',\n",
       " 'SourceData_TPD_Parcels',\n",
       " 'SourceData_Wrof8Threat',\n",
       " 'splitrows',\n",
       " 'SSWC_2023_01',\n",
       " 'SSWC_2023_05',\n",
       " 'SSWC_Risk_Adjustment_Factors',\n",
       " 'SSWC_Risk_LOF',\n",
       " 'SSWC_Threat_Drivers',\n",
       " 'SSWC_threatid_25k',\n",
       " 'SSWC_ThreatID_Table',\n",
       " 'sswc_tracking_2023_05',\n",
       " 'SSWC_validation_25k',\n",
       " 'SSWC_validation_25k_lof',\n",
       " 'SSWC_validation_data',\n",
       " 'sswcleak',\n",
       " 'sswcleak_itrun110122',\n",
       " 'sswcleak_qc031523',\n",
       " 'SSWCLeak_tmp040723',\n",
       " 'SSWCLeak_tmp102822',\n",
       " 'stationseries',\n",
       " 'stationseries_2021',\n",
       " 'stationseries_2022',\n",
       " 't_to_t_list',\n",
       " 'TAMI_Inputs',\n",
       " 'test',\n",
       " 'TestPostPointReading',\n",
       " 'testpostpointreading_tmp101722',\n",
       " 'Threat_Override_082622',\n",
       " 'threat_override_082622_nomatch',\n",
       " 'threat_override_082622_resta',\n",
       " 'ThreatIDHardSpot',\n",
       " 'ThreatOverrideTracker_2022',\n",
       " 'timpleakrepair',\n",
       " 'timpleakrepair_A_Form_only_intermediate',\n",
       " 'timpleakrepair_bk111522',\n",
       " 'TIMPLEAKREPAIR_EXCR',\n",
       " 'timpleakrepair_icre',\n",
       " 'timpleakrepair_ICRE_backup11152022',\n",
       " 'timpleakrepair_icre_trim',\n",
       " 'TIMPLEAKREPAIR_SSWCLeakTest',\n",
       " 'timpleakrepair_upd111522',\n",
       " 'TIMPLeakRepair_WallLoss',\n",
       " 'TLR_CONS_120822',\n",
       " 'TLR_CONS_overlay',\n",
       " 'tlr_cons_overlay2',\n",
       " 'tlr_cons_overlayall',\n",
       " 'tn_hscc_mar_23',\n",
       " 'tn_ic_mar_23',\n",
       " 'tn_nscc_mar_23',\n",
       " 'tn_SSWC_mar_23',\n",
       " 'TPD_AdCities',\n",
       " 'TPD_bk120522',\n",
       " 'TPD_ReducedCover_Notices',\n",
       " 'TPD_Risk_Adjustment_Factors',\n",
       " 'TPD_Risk_LOF',\n",
       " 'TPD_Risk_Results',\n",
       " 'TPD_validation_25k',\n",
       " 'TPD_validation_25k_tpn4',\n",
       " 'TPD_validation_data',\n",
       " 'TPD_Workshops',\n",
       " 'TPDLeak',\n",
       " 'tpdleak_stage1',\n",
       " 'TPDSME',\n",
       " 'TPDSME_AerialPatrol',\n",
       " 'TPDSME_FutureDev',\n",
       " 'TPDSME_NoOneCall',\n",
       " 'TPDSME_StructuralEncroachment',\n",
       " 'validate_250sample_allthreats',\n",
       " 'validate_250samples_combined',\n",
       " 'validate_25ksamples_final',\n",
       " 'validate_25ksamples_pre',\n",
       " 'validate_25ksamples_prevyear',\n",
       " 'Validate_50kRandomNums',\n",
       " 'validate_50ksample_addpts_resta',\n",
       " 'validate_50ksample_allpts',\n",
       " 'validate_50ksamples_2021filter',\n",
       " 'validate_50ksamples_2021filter_bk1',\n",
       " 'validate_50ksamples_2021filter_v3',\n",
       " 'validate_50ksamples_2021filter_v4',\n",
       " 'validate_50ksamples_prevyear',\n",
       " 'validate_Consthreat_cases2021',\n",
       " 'validate_csccthreat_cases2021',\n",
       " 'validate_hform_coating',\n",
       " 'validate_hform_coating_bk110222',\n",
       " 'validate_hphsccthreat_cases2021',\n",
       " 'Validate_ICthreat_cases2021',\n",
       " 'validate_mbodythreat_cases2021',\n",
       " 'validate_mseamthreat_cases2021',\n",
       " 'validate_nnsccthreat_cases2021',\n",
       " 'validate_pipe_coating',\n",
       " 'validate_pipe_coating_bk110222',\n",
       " 'Validate_ScopingData_081722',\n",
       " 'validate_scopingdata_resta',\n",
       " 'validate_sswcthreat_cases2021',\n",
       " 'valvespc_allfeats_class',\n",
       " 'Valvespc_PODS_Ptevts_2022',\n",
       " 'Valvespc_WAPclass_2023_03_27',\n",
       " 'valvspc_allfeats_aggregate1',\n",
       " 'valvspc_allfeats_aggregate2',\n",
       " 'valvspc_noncompliant2',\n",
       " 'valvspc_noncompliant2_diss',\n",
       " 'valvspc_routenames',\n",
       " 'valvspc_routesequences',\n",
       " 'VEHILeak',\n",
       " 'VintagePipeDrivers',\n",
       " 'wallloss_matchpipe',\n",
       " 'wap_0522_dissolve_resta',\n",
       " 'wap_0522_dissolve_resta_bk1',\n",
       " 'wap_0522_dissolve_trim',\n",
       " 'wap_0522_missingsegs',\n",
       " 'WAP_CURRENT_2023_06_16',\n",
       " 'WAP_JAN_23',\n",
       " 'WAP_Jun_16_RiskResults',\n",
       " 'wap_mar_23_riskqc3',\n",
       " 'WAP_Mar_23_RiskResults',\n",
       " 'WAP_MAR_27',\n",
       " 'wap_mar_rollup',\n",
       " 'wap_mar_rollup_addsegs',\n",
       " 'WAP_Table_testC5LB',\n",
       " 'WAP052022_Resta',\n",
       " 'wap052022_resta_uniq',\n",
       " 'wap0522_resta_missed',\n",
       " 'WAPREF_MAR_23',\n",
       " 'Wildfire',\n",
       " 'Wildfire_Class_NewProcess',\n",
       " 'WildFire_NewProcess',\n",
       " 'WROF_bk112222',\n",
       " 'WROF_Risk_LOF',\n",
       " 'WROF_Risk_Results',\n",
       " 'WROF_validation_25k',\n",
       " 'WROF_validation_25k_lof',\n",
       " 'WROF_validation_data',\n",
       " 'Wrof8Threat',\n",
       " 'WROF8ThreatRawdata',\n",
       " 'WROFmitigation',\n",
       " 'WROFSME_ArcFault',\n",
       " 'WROFSME_Vandalism',\n",
       " 'xanaWAP_IDevents']"
      ]
     },
     "execution_count": 4,
     "metadata": {},
     "output_type": "execute_result"
    }
   ],
   "source": [
    "table_names"
   ]
  },
  {
   "cell_type": "code",
   "execution_count": 12,
   "id": "d5452ec6-0f27-4ce7-b50d-46298fdf8dd5",
   "metadata": {},
   "outputs": [],
   "source": [
    "from sqlalchemy import MetaData, Table\n",
    "metadata_obj = MetaData()\n",
    "Table_POE_TRADILI_MATCHED_2022 = Table(\"POE_TRADILI_MATCHED_2022\", metadata_obj, autoload_with=engine)"
   ]
  },
  {
   "cell_type": "code",
   "execution_count": 13,
   "id": "28c632d3-eafc-437a-a64a-02feeed8b4da",
   "metadata": {},
   "outputs": [
    {
     "data": {
      "text/plain": [
       "sqlalchemy.sql.schema.Table"
      ]
     },
     "execution_count": 13,
     "metadata": {},
     "output_type": "execute_result"
    }
   ],
   "source": [
    "type(Table_POE_TRADILI_MATCHED_2022)"
   ]
  },
  {
   "cell_type": "code",
   "execution_count": 14,
   "id": "54dbee87-d1b0-4625-a777-22f6ac1d4c63",
   "metadata": {},
   "outputs": [
    {
     "name": "stdout",
     "output_type": "stream",
     "text": [
      "SELECT \"POE_TRADILI_MATCHED_2022\".\"FAILUREPRESSURE_PSI\", \"POE_TRADILI_MATCHED_2022\".\"FAILUREPRESSURERATIO\", \"POE_TRADILI_MATCHED_2022\".\"FAILUREPRESSURETOLERANCE_PSI\", \"POE_TRADILI_MATCHED_2022\".\"FAILUREPRESSURERATIOTOLERANCE\" \n",
      "FROM \"POE_TRADILI_MATCHED_2022\"\n"
     ]
    }
   ],
   "source": [
    "# print(select(user_table.c.name, address_table.c.email_address))\n",
    "from sqlalchemy import select\n",
    "\n",
    "ILI_failure_pressure_columns = [\n",
    "    \"FAILUREPRESSURE_PSI\",\n",
    "    \"FAILUREPRESSURERATIO\",\n",
    "    \"FAILUREPRESSURETOLERANCE_PSI\",\n",
    "    \"FAILUREPRESSURERATIOTOLERANCE\",\n",
    "]\n",
    "stmt = select(*[Table_POE_TRADILI_MATCHED_2022.c[column] for column in ILI_failure_pressure_columns])\n",
    "print(stmt)"
   ]
  },
  {
   "cell_type": "code",
   "execution_count": 15,
   "id": "e5eb2f32-1878-47f2-abe3-21a59570b289",
   "metadata": {},
   "outputs": [],
   "source": [
    "results = connection.execute(stmt).fetchall()"
   ]
  },
  {
   "cell_type": "code",
   "execution_count": 16,
   "id": "117de21b-7bc1-440b-8e24-50a44d8ee581",
   "metadata": {},
   "outputs": [
    {
     "data": {
      "text/plain": [
       "(None, Decimal('0E-8'), None, Decimal('0E-8'))"
      ]
     },
     "execution_count": 16,
     "metadata": {},
     "output_type": "execute_result"
    }
   ],
   "source": [
    "results[0]"
   ]
  },
  {
   "cell_type": "markdown",
   "id": "a7fad2a1-c0fa-4301-be66-1e165a2d0d4e",
   "metadata": {},
   "source": [
    "By default the above statement will get all the values, and use the default numeric type of `decimal`, which can create problem with numpy functions down the line. So we want to cast everything to float instead!"
   ]
  },
  {
   "cell_type": "code",
   "execution_count": 17,
   "id": "ae5de7fa-db77-4579-8866-9d77df037d3b",
   "metadata": {},
   "outputs": [],
   "source": [
    "from sqlalchemy import cast, Float\n",
    "columns_to_select = [\n",
    "    cast(Table_POE_TRADILI_MATCHED_2022.c[column], Float)\n",
    "    # if Table_POE_TRADILI_MATCHED_2022.c[column].type.__class__.__name__ == \"DECIMAL\"\n",
    "    # else Table_POE_TRADILI_MATCHED_2022.c[column]\n",
    "    for column in ILI_failure_pressure_columns\n",
    "]\n",
    "query = select(*columns_to_select)"
   ]
  },
  {
   "cell_type": "code",
   "execution_count": 18,
   "id": "ead18e05-83ac-404f-9909-12061ac76fb4",
   "metadata": {},
   "outputs": [],
   "source": [
    "results = connection.execute(query).fetchall()"
   ]
  },
  {
   "cell_type": "code",
   "execution_count": 19,
   "id": "ce23bcb9-d165-4535-87b7-0dfe9c0c78a0",
   "metadata": {},
   "outputs": [
    {
     "data": {
      "text/plain": [
       "(None, 0.0, None, 0.0)"
      ]
     },
     "execution_count": 19,
     "metadata": {},
     "output_type": "execute_result"
    }
   ],
   "source": [
    "results[0]"
   ]
  },
  {
   "cell_type": "code",
   "execution_count": null,
   "id": "55b2d97e-c89f-42f5-a6c8-62b4cddfae00",
   "metadata": {},
   "outputs": [],
   "source": []
  },
  {
   "cell_type": "code",
   "execution_count": 20,
   "id": "4d17b007-33d6-487f-bb5e-aba22e0ccf75",
   "metadata": {},
   "outputs": [],
   "source": [
    "# Move it into a pandas data frame\n",
    "import pandas as pd\n",
    "df_ILI_failure_pressure = pd.DataFrame(results, columns=ILI_failure_pressure_columns)\n",
    "# convert "
   ]
  },
  {
   "cell_type": "code",
   "execution_count": 21,
   "id": "377f6ed7-18cd-4b83-a4d9-def299715d8c",
   "metadata": {},
   "outputs": [
    {
     "data": {
      "text/plain": [
       "0.33883750687210823"
      ]
     },
     "execution_count": 21,
     "metadata": {},
     "output_type": "execute_result"
    }
   ],
   "source": [
    "df_ILI_failure_pressure[\"FAILUREPRESSURE_PSI\"].notna().sum() / len(df_ILI_failure_pressure)"
   ]
  },
  {
   "cell_type": "markdown",
   "id": "5971563d-aac6-4b9b-b767-7ade5e93571e",
   "metadata": {},
   "source": [
    "Roughly 33% of all ILI rows have some kind of failure pressure."
   ]
  },
  {
   "cell_type": "code",
   "execution_count": 37,
   "id": "7b3d63c4-e76a-479d-8aab-d2631fea3cc1",
   "metadata": {},
   "outputs": [],
   "source": [
    "import matplotlib.pyplot as plt\n",
    "import numpy as np\n",
    "import seaborn as sns\n",
    "sns.set(style=\"darkgrid\")"
   ]
  },
  {
   "cell_type": "code",
   "execution_count": 38,
   "id": "557500c8-5370-49e5-bac9-9a5431710ed3",
   "metadata": {},
   "outputs": [],
   "source": [
    "failure_pressure_psi = df_ILI_failure_pressure[\"FAILUREPRESSURE_PSI\"][df_ILI_failure_pressure[\"FAILUREPRESSURE_PSI\"].notna()]"
   ]
  },
  {
   "cell_type": "code",
   "execution_count": 39,
   "id": "04f79cf6-1f01-48a1-8ecc-912a576d4197",
   "metadata": {},
   "outputs": [
    {
     "data": {
      "text/plain": [
       "(0.0, 3500.0)"
      ]
     },
     "execution_count": 39,
     "metadata": {},
     "output_type": "execute_result"
    },
    {
     "data": {
      "image/png": "[encoded data removed]",
      "text/plain": [
       "<Figure size 640x480 with 1 Axes>"
      ]
     },
     "metadata": {},
     "output_type": "display_data"
    }
   ],
   "source": [
    "plt.hist(failure_pressure_psi);\n",
    "plt.xlim([0, 3500])"
   ]
  },
  {
   "cell_type": "code",
   "execution_count": 40,
   "id": "20d748da-533a-4bb8-8ffe-3baf9c5e99d5",
   "metadata": {},
   "outputs": [
    {
     "data": {
      "image/png": "[encoded data removed]",
      "text/plain": [
       "<Figure size 640x480 with 1 Axes>"
      ]
     },
     "metadata": {},
     "output_type": "display_data"
    }
   ],
   "source": [
    "failure_pressure_tolerance_psi = df_ILI_failure_pressure[\"FAILUREPRESSURETOLERANCE_PSI\"][df_ILI_failure_pressure[\"FAILUREPRESSURETOLERANCE_PSI\"].notna()]\n",
    "plt.hist(failure_pressure_tolerance_psi);"
   ]
  },
  {
   "cell_type": "code",
   "execution_count": 41,
   "id": "f8fd3554-0440-4e0f-8d98-5e5bb31a4195",
   "metadata": {},
   "outputs": [
    {
     "data": {
      "text/plain": [
       "array([1047.21, 1819.13, 2126.49])"
      ]
     },
     "execution_count": 41,
     "metadata": {},
     "output_type": "execute_result"
    }
   ],
   "source": [
    "np.percentile(failure_pressure_psi.values, [1., 50., 95.])"
   ]
  },
  {
   "cell_type": "code",
   "execution_count": 42,
   "id": "b72974e2-2cf8-480b-a941-39d8cb7b0d43",
   "metadata": {},
   "outputs": [
    {
     "data": {
      "text/plain": [
       "-9999.90039063"
      ]
     },
     "execution_count": 42,
     "metadata": {},
     "output_type": "execute_result"
    }
   ],
   "source": [
    "np.min(failure_pressure_psi)"
   ]
  },
  {
   "cell_type": "code",
   "execution_count": 43,
   "id": "0736c607-e333-4d9a-b9eb-4405a243f923",
   "metadata": {},
   "outputs": [
    {
     "data": {
      "text/plain": [
       "182736"
      ]
     },
     "execution_count": 43,
     "metadata": {},
     "output_type": "execute_result"
    }
   ],
   "source": [
    "np.argmin(failure_pressure_tolerance_psi)"
   ]
  },
  {
   "cell_type": "code",
   "execution_count": 44,
   "id": "a54f80ef-763a-4807-9f43-0de4090ff61f",
   "metadata": {},
   "outputs": [
    {
     "data": {
      "text/plain": [
       "278580"
      ]
     },
     "execution_count": 44,
     "metadata": {},
     "output_type": "execute_result"
    }
   ],
   "source": [
    "len(failure_pressure_psi)"
   ]
  },
  {
   "cell_type": "markdown",
   "id": "b9bcc585-9513-4629-83a5-b39cdd06f63c",
   "metadata": {},
   "source": [
    "Something is wrong... we have negative failure pressure (is it from conversion?), and also very very small failure pressure, which is very bad if true."
   ]
  },
  {
   "cell_type": "code",
   "execution_count": 46,
   "id": "e2c4468f-731c-48da-b3c8-89ebc8ff53c3",
   "metadata": {},
   "outputs": [
    {
     "data": {
      "text/plain": [
       "89391    -9999.900391\n",
       "96906    -9999.900391\n",
       "96939    -9999.900391\n",
       "97067    -9999.900391\n",
       "97068    -9999.900391\n",
       "             ...     \n",
       "765253   -9999.900391\n",
       "776475   -9999.900391\n",
       "776507   -9999.900391\n",
       "776520   -9999.900391\n",
       "776563   -9999.900391\n",
       "Name: FAILUREPRESSURE_PSI, Length: 204, dtype: float64"
      ]
     },
     "execution_count": 46,
     "metadata": {},
     "output_type": "execute_result"
    }
   ],
   "source": [
    "df_ILI_failure_pressure[\"FAILUREPRESSURE_PSI\"][df_ILI_failure_pressure[\"FAILUREPRESSURE_PSI\"] < 0]"
   ]
  },
  {
   "cell_type": "code",
   "execution_count": 47,
   "id": "c9c4a928-c2c7-468b-845e-021cebeb5dd1",
   "metadata": {},
   "outputs": [
    {
     "data": {
      "text/plain": [
       "234"
      ]
     },
     "execution_count": 47,
     "metadata": {},
     "output_type": "execute_result"
    }
   ],
   "source": [
    "(df_ILI_failure_pressure[\"FAILUREPRESSURE_PSI\"] <= 5).sum()"
   ]
  },
  {
   "cell_type": "code",
   "execution_count": 48,
   "id": "87db8436-a718-4afb-8f8d-2d60b6424f40",
   "metadata": {},
   "outputs": [
    {
     "data": {
      "text/plain": [
       "3.32"
      ]
     },
     "execution_count": 48,
     "metadata": {},
     "output_type": "execute_result"
    }
   ],
   "source": [
    "np.min(failure_pressure_psi[failure_pressure_psi > 0])"
   ]
  },
  {
   "cell_type": "markdown",
   "id": "efdc09dc-fa6c-4eac-b56e-52d50060ade0",
   "metadata": {},
   "source": [
    "According to 2022 ILI tally, the minimum value is 663..not sure why we get negative values."
   ]
  },
  {
   "cell_type": "markdown",
   "id": "0d408e5a-c810-4ee4-a362-269866b802c7",
   "metadata": {},
   "source": [
    "## Access the EC-algorithm LOF values from the database"
   ]
  },
  {
   "cell_type": "markdown",
   "id": "85c4f406-a469-4976-8e99-fb101a39ee32",
   "metadata": {},
   "source": [
    "Model results calculated using the LOF-Algorithm (not POE) for the pipe segments with available ILI data -- do I get them from failure_pressure table or something else?\r\n",
    "Answer: Use EC_RISK_LOF table to get the non-POE EC risk lofs. \"Turns out I don't have the non-POE EC LOFs in the RiskResults_int2022 table after all\" (Jackson)"
   ]
  },
  {
   "cell_type": "code",
   "execution_count": 49,
   "id": "345f0525-a3f3-44cb-8ce7-4d2f29825ac8",
   "metadata": {},
   "outputs": [],
   "source": [
    "Table_EC_Risk_LOF = Table(\"EC_Risk_LOF\", metadata_obj, autoload_with=engine)"
   ]
  },
  {
   "cell_type": "code",
   "execution_count": 50,
   "id": "53393ff1-f1d5-490a-8f36-47727b4f2f12",
   "metadata": {},
   "outputs": [],
   "source": [
    "# Find rows for which ILI completion date is in 2022\n",
    "from datetime import datetime\n",
    "threshold_date = datetime(2022, 1, 1)\n",
    "query = select(Table_EC_Risk_LOF).where(Table_EC_Risk_LOF.c.ILI_Completion_Date > threshold_date)\n",
    "with engine.connect() as connection:\n",
    "    LOF_2022 = connection.execute(query).fetchall()"
   ]
  },
  {
   "cell_type": "code",
   "execution_count": 51,
   "id": "23cc98d6-f287-4913-b930-4c09bbfda287",
   "metadata": {},
   "outputs": [
    {
     "data": {
      "text/plain": [
       "{'sortid': 316529, 'route': '1202-16', 'beginstationseriesid': '36339', 'beginstationnum': 17504.4, 'endstationseriesid': '36339', 'endstationnum': 17504.600000000002, 'Mainline_Coating_Type': 'H', 'Dry_Chloride_Deposition': 0.6200000047683716, 'Third_Party_Liquid_Proximity': None, 'Third_Party_Gas_Proximity': None, 'Lack_Casing_Test_Facilities': None, 'Casing': None, 'Annual_Precipitation': 32.77000045776367, 'ILI_Assessment_Method': 'ILI', 'ILI_Completion_Date': datetime.datetime(2022, 3, 28, 0, 0), 'Soil_Type': 'L', 'Soil_Resistivity': None, 'Foreign_Line_Crossing': None, 'Percent_Wall_Loss': Decimal('37.60'), 'Reassessment_Interval': Decimal('7'), 'Direct_Examination': None, 'Hydrotest_Completion_Date': None, 'Span_Prioritization': None, 'Span_Support': None, 'Span_Condition': None, 'Vault_Condition': None, 'Feature_Type': 'PIPE', 'PFL_Feature_Num': '147.00000', 'Manufacture_Date': datetime.datetime(1953, 8, 8, 0, 0), 'Pipe_Material': 'STL', 'Seam_Type_Assumed': 'Assumptions Calculator', 'Seam_Type': 'ERW', 'Install_Date': datetime.datetime(1963, 8, 8, 0, 0), 'ECDA_Length_of_Mon': None, 'ECDA_Length_of_Sched': None, 'ECDA_Length_of_Imm': None, 'ECDA_Project_Length': None, 'ECDA_Wall_Loss_GTE50': None, 'ECDA_Wall_Loss_GTE40LT50': None, 'ECDA_Wall_Loss_GTE30LT40': None, 'ECDA_Wall_Loss_GTE20LT30': None, 'ECDA_Number_of_Digs': None, 'Coating_Condition': 'P', 'DC_Transit': None, 'Sulfur_Dioxide_Deposition': 0.3100000023841858, 'Pipe_Exposed': None, 'Percent_EC_NonCompliant': 53.333333333333336, 'DC_Interference_Program': 'DC-Ins', 'MIC': None, 'External_Corrosion_Ruptures': None, 'External_Corrosion_Leaks': None, 'Operation_Area': 'LSJQ', 'Length_FT': Decimal('0.20'), 'MP1': Decimal('3.315130'), 'MP2': Decimal('3.315170'), 'ECThreat': 'Yes', 'MCS': 7.0, 'coattype_MCS': 'Asphalt', 'SA': 5.6, 'abovegrd_SA': 0.0, 'casing_SA': 0.0, 'buried_SA': 5.6, 'P_EX': 0.0, 'CP': 7.5, 'C_F': 0.1, 'FH_EC': 5.0, 'HT_EC': 0.0, 'ECDA_EC': 0.0, 'DE_EC': 0.0, 'ILI_EC': 1.803, 'CL': 3.0, 'SO': 2.5, 'TOW': 5.0, 'AC': 6.5, 'V': 0.0, 'PS': 0.0, 'FH_EC_EX': 6.0, 'Leak_Rupture_Boundary': 615.9226467116565, 'MAOP': Decimal('650.0000'), 'S_EC': 4.629760248504918, 'S_EC_EX': 3.547959141847933, 'af_EC': 0.710944438988404, 'af_EC_EX': 0.26250114991115103, 'EC_LOF_Rupture_EX': 4.3888092255945165e-06, 'EC_LOF_Leak_EX': 0.0, 'EC_LOF_Rupture_No_EX': 1.1886422264334924e-05, 'EC_LOF_Leak_No_EX': 0.0, 'EC_LOF_Rupture': 1.1886422264334924e-05, 'EC_LOF_Leak': 0.0, 'B': 6.83, 'B_EX': 4.35, 'M_F': 1.803}"
      ]
     },
     "execution_count": 51,
     "metadata": {},
     "output_type": "execute_result"
    }
   ],
   "source": [
    "LOF_2022[0]._mapping"
   ]
  },
  {
   "cell_type": "code",
   "execution_count": 52,
   "id": "0ebbddbc-97e3-4e7c-8f05-75ff8ddce479",
   "metadata": {},
   "outputs": [
    {
     "data": {
      "text/plain": [
       "24803"
      ]
     },
     "execution_count": 52,
     "metadata": {},
     "output_type": "execute_result"
    }
   ],
   "source": [
    "len(LOF_2022)"
   ]
  },
  {
   "cell_type": "code",
   "execution_count": 53,
   "id": "8dd2c060-aed6-4c8e-8f65-0a986dda39ed",
   "metadata": {},
   "outputs": [],
   "source": [
    "from sqlalchemy import func\n",
    "\n",
    "with engine.connect() as connection:\n",
    "    row_counts = connection.execute(\n",
    "        select(func.count()).select_from(Table_EC_Risk_LOF)\n",
    "    ).fetchall()\n"
   ]
  },
  {
   "cell_type": "code",
   "execution_count": 54,
   "id": "aa4f42e6-1c40-4fc8-a608-ea51e9ee2a28",
   "metadata": {},
   "outputs": [
    {
     "data": {
      "text/plain": [
       "[(900650,)]"
      ]
     },
     "execution_count": 54,
     "metadata": {},
     "output_type": "execute_result"
    }
   ],
   "source": [
    "row_counts"
   ]
  },
  {
   "cell_type": "code",
   "execution_count": 55,
   "id": "a3b53c28-01af-4e80-81e3-02c5cddcdeb6",
   "metadata": {},
   "outputs": [
    {
     "data": {
      "text/plain": [
       "0.027538999611391772"
      ]
     },
     "execution_count": 55,
     "metadata": {},
     "output_type": "execute_result"
    }
   ],
   "source": [
    "24803/900650"
   ]
  },
  {
   "cell_type": "markdown",
   "id": "c389f9ec-a839-4de1-be6f-d79bde184210",
   "metadata": {},
   "source": [
    "About 2.75% of all pipelines have ILI data in 2022."
   ]
  },
  {
   "cell_type": "code",
   "execution_count": 56,
   "id": "95e5586e-fb3c-427f-a9dd-80952f0603e7",
   "metadata": {},
   "outputs": [],
   "source": [
    "# Push the entire table into pandas dataframe\n",
    "df_EC_Risk_LOF = pd.DataFrame(LOF_2022, columns=LOF_2022[0]._mapping.keys())"
   ]
  },
  {
   "cell_type": "code",
   "execution_count": 57,
   "id": "9567d331-58c8-4583-b022-9f4086e8a0d7",
   "metadata": {},
   "outputs": [],
   "source": [
    "ec_lof_leak = df_EC_Risk_LOF[\"EC_LOF_Leak\"]\n",
    "ec_lof_rupture = df_EC_Risk_LOF[\"EC_LOF_Rupture\"]"
   ]
  },
  {
   "cell_type": "code",
   "execution_count": 58,
   "id": "7d2dc7ce-c666-432c-aad3-54c9733289a3",
   "metadata": {},
   "outputs": [
    {
     "data": {
      "text/plain": [
       "<matplotlib.legend.Legend at 0x29b42c20e90>"
      ]
     },
     "execution_count": 58,
     "metadata": {},
     "output_type": "execute_result"
    },
    {
     "data": {
      "image/png": "[encoded data removed]",
      "text/plain": [
       "<Figure size 640x480 with 1 Axes>"
      ]
     },
     "metadata": {},
     "output_type": "display_data"
    }
   ],
   "source": [
    "plt.figure()\n",
    "plt.hist(ec_lof_leak, color='blue', alpha=0.6)\n",
    "plt.hist(ec_lof_rupture, color='red', alpha=0.3)\n",
    "plt.legend([\"ec_lof_leak (SIF-event/mi-yr)\", \"ec_lof_rupture (rup/mi-yr)\"])"
   ]
  },
  {
   "cell_type": "code",
   "execution_count": null,
   "id": "266a795e-0280-4b8e-a3cf-a5ecb10b5b8a",
   "metadata": {},
   "outputs": [],
   "source": []
  },
  {
   "cell_type": "code",
   "execution_count": 59,
   "id": "ed86835e-8f23-42e7-87f8-8f935c73e0a4",
   "metadata": {},
   "outputs": [
    {
     "data": {
      "text/plain": [
       "Text(0, 0.5, 'rupture lof')"
      ]
     },
     "execution_count": 59,
     "metadata": {},
     "output_type": "execute_result"
    },
    {
     "data": {
      "image/png": "[encoded data removed]",
      "text/plain": [
       "<Figure size 640x480 with 1 Axes>"
      ]
     },
     "metadata": {},
     "output_type": "display_data"
    }
   ],
   "source": [
    "plt.plot(ec_lof_leak, ec_lof_rupture/10, '.')\n",
    "plt.xlabel(\"leak lof/10\")\n",
    "plt.ylabel(\"rupture lof\")"
   ]
  },
  {
   "cell_type": "code",
   "execution_count": 63,
   "id": "0f033bd7-34e8-440e-adca-61b6e50f0f82",
   "metadata": {},
   "outputs": [
    {
     "data": {
      "text/plain": [
       "array(['sortid', 'route', 'beginstationseriesid', 'beginstationnum',\n",
       "       'endstationseriesid', 'endstationnum', 'Mainline_Coating_Type',\n",
       "       'Dry_Chloride_Deposition', 'Third_Party_Liquid_Proximity',\n",
       "       'Third_Party_Gas_Proximity', 'Lack_Casing_Test_Facilities',\n",
       "       'Casing', 'Annual_Precipitation', 'ILI_Assessment_Method',\n",
       "       'ILI_Completion_Date', 'Soil_Type', 'Soil_Resistivity',\n",
       "       'Foreign_Line_Crossing', 'Percent_Wall_Loss',\n",
       "       'Reassessment_Interval', 'Direct_Examination',\n",
       "       'Hydrotest_Completion_Date', 'Span_Prioritization', 'Span_Support',\n",
       "       'Span_Condition', 'Vault_Condition', 'Feature_Type',\n",
       "       'PFL_Feature_Num', 'Manufacture_Date', 'Pipe_Material',\n",
       "       'Seam_Type_Assumed', 'Seam_Type', 'Install_Date',\n",
       "       'ECDA_Length_of_Mon', 'ECDA_Length_of_Sched', 'ECDA_Length_of_Imm',\n",
       "       'ECDA_Project_Length', 'ECDA_Wall_Loss_GTE50',\n",
       "       'ECDA_Wall_Loss_GTE40LT50', 'ECDA_Wall_Loss_GTE30LT40',\n",
       "       'ECDA_Wall_Loss_GTE20LT30', 'ECDA_Number_of_Digs',\n",
       "       'Coating_Condition', 'DC_Transit', 'Sulfur_Dioxide_Deposition',\n",
       "       'Pipe_Exposed', 'Percent_EC_NonCompliant',\n",
       "       'DC_Interference_Program', 'MIC', 'External_Corrosion_Ruptures',\n",
       "       'External_Corrosion_Leaks', 'Operation_Area', 'Length_FT', 'MP1',\n",
       "       'MP2', 'ECThreat', 'MCS', 'coattype_MCS', 'SA', 'abovegrd_SA',\n",
       "       'casing_SA', 'buried_SA', 'P_EX', 'CP', 'C_F', 'FH_EC', 'HT_EC',\n",
       "       'ECDA_EC', 'DE_EC', 'ILI_EC', 'CL', 'SO', 'TOW', 'AC', 'V', 'PS',\n",
       "       'FH_EC_EX', 'Leak_Rupture_Boundary', 'MAOP', 'S_EC', 'S_EC_EX',\n",
       "       'af_EC', 'af_EC_EX', 'EC_LOF_Rupture_EX', 'EC_LOF_Leak_EX',\n",
       "       'EC_LOF_Rupture_No_EX', 'EC_LOF_Leak_No_EX', 'EC_LOF_Rupture',\n",
       "       'EC_LOF_Leak', 'B', 'B_EX', 'M_F'], dtype=object)"
      ]
     },
     "execution_count": 63,
     "metadata": {},
     "output_type": "execute_result"
    }
   ],
   "source": [
    "df_EC_Risk_LOF.columns.values"
   ]
  },
  {
   "cell_type": "code",
   "execution_count": 64,
   "id": "c145bcd9-f5fb-4931-b876-2e202113dd82",
   "metadata": {},
   "outputs": [
    {
     "data": {
      "text/plain": [
       "24803"
      ]
     },
     "execution_count": 64,
     "metadata": {},
     "output_type": "execute_result"
    }
   ],
   "source": [
    "len(df_EC_Risk_LOF)"
   ]
  },
  {
   "cell_type": "code",
   "execution_count": null,
   "id": "c1ed19cf-651c-4523-b6ad-166da9461134",
   "metadata": {},
   "outputs": [],
   "source": []
  }
 ],
 "metadata": {
  "kernelspec": {
   "display_name": "Python 3 (ipykernel)",
   "language": "python",
   "name": "python3"
  },
  "language_info": {
   "codemirror_mode": {
    "name": "ipython",
    "version": 3
   },
   "file_extension": ".py",
   "mimetype": "text/x-python",
   "name": "python",
   "nbconvert_exporter": "python",
   "pygments_lexer": "ipython3",
   "version": "3.11.5"
  }
 },
 "nbformat": 4,
 "nbformat_minor": 5
}
