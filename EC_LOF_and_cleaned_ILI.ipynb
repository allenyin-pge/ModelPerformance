{
 "cells": [
  {
   "cell_type": "markdown",
   "id": "763a0320-40c0-40c9-980e-b1932f7714e5",
   "metadata": {},
   "source": [
    "Cleaned ILI data for a specific year (2022) has been extracted from Satvinder's compiled data-set. This has been spatial joined with that year's pipe line data.\n",
    "\n",
    "Now we can finally compare it with the EC_LOF numbers, by matching the correct pipeline segments."
   ]
  },
  {
   "cell_type": "code",
   "execution_count": 2,
   "id": "d2c175ec-fde7-4e6e-8a0c-5f74c426e2b9",
   "metadata": {},
   "outputs": [],
   "source": [
    "# Plotting and math imports\n",
    "import matplotlib.pyplot as plt\n",
    "import numpy as np\n",
    "import seaborn as sns\n",
    "sns.set(style=\"darkgrid\")\n",
    "\n",
    "import pandas as pd\n",
    "\n",
    "from datetime import datetime\n",
    "from typing import List, Optional, Dict\n",
    "\n",
    "# SQL-related imports\n",
    "\n",
    "import sqlalchemy\n",
    "from sqlalchemy import (\n",
    "    create_engine,\n",
    "    MetaData,\n",
    "    Table,\n",
    "    inspect,\n",
    "    select,\n",
    "    cast,\n",
    "    Float,\n",
    "    func\n",
    ")"
   ]
  },
  {
   "cell_type": "markdown",
   "id": "812014a6-a3eb-4479-81bd-75b893a17e78",
   "metadata": {},
   "source": [
    "# Load the cleaned ILI data"
   ]
  },
  {
   "cell_type": "code",
   "execution_count": 3,
   "id": "03a9fdb2-d558-4154-9853-e9806a235cee",
   "metadata": {},
   "outputs": [],
   "source": [
    "ILI_2022_joins_pipeline_filename = r\"C:\\Users\\A1YU\\OneDrive - PGE\\Documents\\code\\ModelPerformance\\processed_data\\cleaned_ILI_2022_joins_Pipesegment_linear.csv\"\n",
    "ILI_2022_joins_pipeline = pd.read_csv(ILI_2022_joins_pipeline_filename, low_memory=False)"
   ]
  },
  {
   "cell_type": "code",
   "execution_count": 4,
   "id": "af215579-208e-44aa-802d-be6a6cf13868",
   "metadata": {},
   "outputs": [
    {
     "data": {
      "text/plain": [
       "array(['FID', 'OBJECTID_1', 'FID_1', 'Vendor', 'Source', 'Route',\n",
       "       'Route_NoPr', 'MP1', 'MP2', 'Year', 'ILI_Projec', 'ML_Survey',\n",
       "       'Alignment', 'Joint___US', 'ILI_Survey', 'Joint_Leng',\n",
       "       'From_U_S_G', 'To_D_S_GW', 'Identifica', 'Comment', 'Tool_Speed',\n",
       "       'WT__in_', 'SMYS__PSI_', 'MAOP__PSI_', 'OD__in_', 'Longseam_V',\n",
       "       'Seam_Pos_', 'Depth____', 'Depth___wi', 'OD_Reducti', 'Length__in',\n",
       "       'Width__in_', 'O_clock', 'Internal', 'Bend_Radiu', 'Bend_Angle',\n",
       "       'Bend_Direc', 'POF_Catego', 'Associated', 'Anomaly_ID',\n",
       "       'Estimated', 'Pf_MAOP', 'Pf___with', 'Pf__MAOP', 'TotalBend',\n",
       "       'Bend___Ver', 'Bend___Hor', 'Internal_D', 'External_D', 'Easting',\n",
       "       'Northing', 'Latitude', 'Longitude', 'Elevation', 'U_S_Refere',\n",
       "       'Dist__To_U', 'D_S_Refere', 'Dist__To_D', 'ILI_Vendor',\n",
       "       'PG_E_Stati', 'OBJECTID', 'Id', 'EffectiveS', 'PipeManufa',\n",
       "       'PipeOutsid', 'PipeWallTh', 'SMYS', 'PipeGradeD', 'PipeMateri',\n",
       "       'PipeRepair', 'PipeSeamDo', 'PipeGirthW', 'PipeJointF',\n",
       "       'PipeNomina', 'BeginStati', 'BeginSta_1', 'EndStation',\n",
       "       'EndStati_1', 'CREATE_DAT', 'CREATE_USE', 'LAST_UPDAT',\n",
       "       'LAST_UPD_1', 'PipeJointT', 'FeatureTyp', 'DiameterAs',\n",
       "       'WallThickA', 'SmysAssume', 'LongSeamAs', 'Manufactur',\n",
       "       'ReconSalva', 'Prefab', 'Constructi', 'pfl_featur', 'sfl_id',\n",
       "       'sfl_above_', 'purchase_d', 'purchase_f', 'prior_purc',\n",
       "       'pipemanu_1', 'batch', 'heat', 'coating_ty', 'feature_no',\n",
       "       'coating_de', 'coating_in', 'coating_so', 'population', 'Distance'],\n",
       "      dtype=object)"
      ]
     },
     "execution_count": 4,
     "metadata": {},
     "output_type": "execute_result"
    }
   ],
   "source": [
    "ILI_2022_joins_pipeline.columns.values"
   ]
  },
  {
   "cell_type": "markdown",
   "id": "bf4bb22c-5aba-44a4-8bab-37c872a0b2ba",
   "metadata": {},
   "source": [
    "Note that the column names here are cut off and/or not formatted exactly. This is due to the different file saving process:\n",
    "1. ILI data was loaded into pandas with Python, the rows corresponding to the year of 2022 taken out, then saved into a csv file. This process has the headers correct.\n",
    "2. The cleaned ILI data for 2022 is then loaded into ArcMap for spatial join. When ArcMap loads the csv file, the header values get screwed up due to string processing.\n",
    "3. After the cleaned ILI data and the pipeline data are spatial-joined in ArcMap, the resulting attrbiutes table are saved as csv again -- the header values are still screwed up.\n",
    "\n",
    "Fortunately, we know what the column names need to be, and can correct them later."
   ]
  },
  {
   "cell_type": "markdown",
   "id": "ba7e4ae3-94b5-4b47-a0b7-c09b5e34fa7c",
   "metadata": {},
   "source": [
    "# Load the MarinerDB 2022 EC_LOF table into pandas"
   ]
  },
  {
   "cell_type": "code",
   "execution_count": 5,
   "id": "5de80ad5-2732-45e7-82cd-38fce13a0426",
   "metadata": {},
   "outputs": [],
   "source": [
    "server = \"tsitinfdbsws010\"\n",
    "database = \"MarinerDB_2022\"\n",
    "driver = \"ODBC+Driver+17+for+SQL+Server\"\n",
    "url = f\"mssql+pyodbc://{server}/{database}?trusted_connection=yes&driver={driver}\"\n",
    "engine = sqlalchemy.create_engine(url)\n",
    "connection = engine.connect()"
   ]
  },
  {
   "cell_type": "code",
   "execution_count": 6,
   "id": "649f59b7-f00f-434b-85f8-a532b3b450c4",
   "metadata": {},
   "outputs": [
    {
     "data": {
      "text/plain": [
       "'mssql+pyodbc://tsitinfdbsws010/MarinerDB_2022?trusted_connection=yes&driver=ODBC+Driver+17+for+SQL+Server'"
      ]
     },
     "execution_count": 6,
     "metadata": {},
     "output_type": "execute_result"
    }
   ],
   "source": [
    "url"
   ]
  },
  {
   "cell_type": "code",
   "execution_count": 55,
   "id": "c20ddd4d-f28b-4e7d-bcb7-36e8cb0c7b74",
   "metadata": {},
   "outputs": [
    {
     "data": {
      "text/plain": [
       "['A_Form',\n",
       " 'A_Form_CoverDepth',\n",
       " 'ACAnnualPrecip',\n",
       " 'ACDryChlorideDep',\n",
       " 'ACSpans',\n",
       " 'acspans_stage1_scc',\n",
       " 'acspans_stage1_tpd',\n",
       " 'ACSulfurDioxDep',\n",
       " 'ACVaults',\n",
       " 'anaRiskScores_2022',\n",
       " 'anariskscores_2022_bk041023',\n",
       " 'anaRiskScores_LOF_COF_2022',\n",
       " 'anaRiskScores_pipe',\n",
       " 'anaWAP_IDevents',\n",
       " 'ArcFaultHistory',\n",
       " 'Assessment_History',\n",
       " 'assessment_history_bk110422',\n",
       " 'Assessment_History_Cons',\n",
       " 'Assessment_History_ILI',\n",
       " 'Assessment_History_Manu',\n",
       " 'assessment_plan',\n",
       " 'assessment_plan_bk090922',\n",
       " 'assessment_plan_stage1_ec',\n",
       " 'assessment_plan_stage1_ic',\n",
       " 'assessment_plan_stage1_scc',\n",
       " 'AxialSCCLeak',\n",
       " 'axialsccleak_stage1',\n",
       " 'Bend',\n",
       " 'bend_2022',\n",
       " 'bend_bk0712',\n",
       " 'bend_dups',\n",
       " 'buffersize',\n",
       " 'CA_2023_05',\n",
       " 'CA_Categories',\n",
       " 'Carefacility_IOC',\n",
       " 'carefacility_ioc_tmp120122',\n",
       " 'CASING',\n",
       " 'casing_stage1',\n",
       " 'CasingRawData',\n",
       " 'Centerline_Per_Series',\n",
       " 'Centerline_PIR',\n",
       " 'classarea',\n",
       " 'classarea_tmp101722',\n",
       " 'classarea_upd101722',\n",
       " 'coating',\n",
       " 'Coating_assume_type',\n",
       " 'Coating_Condition',\n",
       " 'coating_condition_bk091522',\n",
       " 'Coating_condition_tmp110322',\n",
       " 'Coating_desc_LUT',\n",
       " 'coating_hform_assumption_102622',\n",
       " 'coating_hform_rawmatch102622',\n",
       " 'coating_itrun',\n",
       " 'coating_tmp110322',\n",
       " 'coatingcondition_evs',\n",
       " 'COF_bk112222',\n",
       " 'COF_Risk_Adjustment_Factors',\n",
       " 'COF_Risk_Results',\n",
       " 'COF_Risk_Scores',\n",
       " 'COF_validation_25k',\n",
       " 'COF_validation_25k_rwo9',\n",
       " 'COF_validation_data',\n",
       " 'CONS_bk052423',\n",
       " 'CONS_bk120922',\n",
       " 'Cons_Risk_Adjustment_Factors',\n",
       " 'Cons_Risk_LOF',\n",
       " 'Cons_Risk_Results',\n",
       " 'Cons_Risk_Results_2021',\n",
       " 'CONS_Risk_Results_old',\n",
       " 'Cons_Threat_Drivers',\n",
       " 'Cons_Threat_Drivers_2021',\n",
       " 'CONS_validation_25k',\n",
       " 'CONS_validation_25k_tpn4',\n",
       " 'CONS_validation_data',\n",
       " 'ConsequenceArea',\n",
       " 'ConsequenceAreas2022',\n",
       " 'CONSEROSION',\n",
       " 'CONSLandslide',\n",
       " 'ConsLeak',\n",
       " 'consleak_stage1',\n",
       " 'consleak_stage1_tmp120922',\n",
       " 'consleak_tmp120822',\n",
       " 'consleak_tmp120922',\n",
       " 'CONSSME_BendingStrain',\n",
       " 'CONSSME_ConstructionCondition',\n",
       " 'CONSSME_DentsGouges',\n",
       " 'CONSSME_PCT_XRAY',\n",
       " 'Coordinates2023',\n",
       " 'CorrCasingProgram',\n",
       " 'COVERDEPTH',\n",
       " 'coverdepth_missingsegs',\n",
       " 'coverdepth_pt_full',\n",
       " 'Coverdepth_pt_stationed',\n",
       " 'coverdepth_range',\n",
       " 'coverdepth_tbl',\n",
       " 'CoverDepthRaw',\n",
       " 'CP_Range_tmp101322',\n",
       " 'cp_read_points',\n",
       " 'cp_read_points_valid',\n",
       " 'CPOffRead',\n",
       " 'CriticalFacility',\n",
       " 'CustomerCount',\n",
       " 'CustomerCount_092322',\n",
       " 'DCIntProgram',\n",
       " 'DCTransit',\n",
       " 'DigInConcern',\n",
       " 'Domain_CoatingCategories',\n",
       " 'Domain_CoatingLine',\n",
       " 'domain_coatingline_bk092921',\n",
       " 'Domain_CoatingLine_SCCMapping',\n",
       " 'Domain_LRB_CVN',\n",
       " 'Domain_LRB_Seam',\n",
       " 'Domain_PipeManufacturer',\n",
       " 'Domain_RaisedSeams',\n",
       " 'Domain_SeamType',\n",
       " 'DOT_Class2022',\n",
       " 'DYNAMIC_SEG_RADIUS',\n",
       " 'DYNAMIC_SEGMENT_RADIUS_IOC',\n",
       " 'EC_Risk_LOF',\n",
       " 'EC_SSWC_bk040723',\n",
       " 'EC_SSWC_bk111622',\n",
       " 'EC_validation_25k',\n",
       " 'EC_validation_25k_lof',\n",
       " 'EC_validation_data',\n",
       " 'ECDA',\n",
       " 'ECDA_Scoping_2022',\n",
       " 'ecleak_stage1',\n",
       " 'ECSME_MIC',\n",
       " 'EnvironmentImpact',\n",
       " 'EQ_IO_bk111522',\n",
       " 'eq_io_risk_lof',\n",
       " 'EQ_IO_Risk_Results',\n",
       " 'EQ_IO_validation_25k',\n",
       " 'EQ_IO_validation_data',\n",
       " 'Erosion',\n",
       " 'Events',\n",
       " 'ExcavationWallLoss',\n",
       " 'excavationwallloss_ITrun',\n",
       " 'excavationwallloss_stage1',\n",
       " 'excavationwallloss_tmp110422',\n",
       " 'Excavationwallloss_toload110422',\n",
       " 'Exposed_Pipe_SEP',\n",
       " 'External_Corrosion_Risk_Results',\n",
       " 'ExternalCorrosionLeak',\n",
       " 'Failure_Pressures',\n",
       " 'fatigue_match',\n",
       " 'fatigue_match_012723',\n",
       " 'fatigue_match_013023',\n",
       " 'fatigue_raw_toresolve',\n",
       " 'fatigue_transfer_2023',\n",
       " 'ForeignLineCrossing',\n",
       " 'GasConstantFactor',\n",
       " 'GasConstantFactor_2021',\n",
       " 'gasconstantfactor_stage',\n",
       " 'GridPoints',\n",
       " 'GroundEventPGA',\n",
       " 'gtgisupd_milepoint_2022upd',\n",
       " 'gtgisupd_milepoint2021_final072022',\n",
       " 'H_FORM',\n",
       " 'H_Form_CoverDepth',\n",
       " 'HFORM_EVENT_NOTES',\n",
       " 'HFORM_RMP',\n",
       " 'HFORM_RMP_RELATE',\n",
       " 'HFORM_RMP_RELATE_STG',\n",
       " 'HIGHWAY_IOC',\n",
       " 'highway_ioc_dissolve',\n",
       " 'highway_ioc_flatten',\n",
       " 'highway_IOC_tmp111022',\n",
       " 'hydrotest',\n",
       " 'hydrotest_1',\n",
       " 'hydrotest_bk052423',\n",
       " 'hydrotest_bk102722',\n",
       " 'hydrotest_last2tests',\n",
       " 'hydrotest_last2tests_fix',\n",
       " 'hydrotest_last2tests_stage1',\n",
       " 'hydrotest_old',\n",
       " 'hydrotest_stage1',\n",
       " 'hydrotest_subpartJ',\n",
       " 'hydrotest_subpartJ_bk052423',\n",
       " 'hydrotest_subpartj_old',\n",
       " 'hydrotest_subpartJ_stage1',\n",
       " 'IC_acc_evs',\n",
       " 'IC_Acc_FacilityFlow',\n",
       " 'ic_acc_liquidevts_resta22',\n",
       " 'ic_acc_matched',\n",
       " 'ic_acc_matched_resta',\n",
       " 'IC_acc_merge',\n",
       " 'ic_acc_networktbl',\n",
       " 'ic_acc_reliabilitynetwork',\n",
       " 'IC_Bac_lines_tbl',\n",
       " 'IC_bac_pts_tbl',\n",
       " 'IC_bk111522',\n",
       " 'IC_Bundles',\n",
       " 'IC_Risk_Adjustment_Factors',\n",
       " 'IC_Risk_LOF',\n",
       " 'IC_SCADA_GAS_QUALITY',\n",
       " 'IC_Solid',\n",
       " 'IC_Threat_Drivers',\n",
       " 'IC_Threat_Drivers_2021',\n",
       " 'IC_Threat_Drivers_Validation',\n",
       " 'IC_threatid_25k',\n",
       " 'IC_ThreatID_Table',\n",
       " 'IC_validation_25k',\n",
       " 'IC_validation_25k_mybc',\n",
       " 'IC_validation_data',\n",
       " 'ICLeak',\n",
       " 'icleak_bk111522',\n",
       " 'icleak_stage1',\n",
       " 'icleak_stage1_old',\n",
       " 'icleak_upd111522',\n",
       " 'ICLeak_update_ICRE_111522',\n",
       " 'ICRE_update_TLR_111522',\n",
       " 'ICSME_Bacteria',\n",
       " 'ICSME_CorrosionRate',\n",
       " 'ICSME_DesignCondition',\n",
       " 'ICSME_GasQuality',\n",
       " 'icsme_gasquality_backup11152022',\n",
       " 'ICSME_GasQuality_Tag_Locations',\n",
       " 'ICSME_GasSource',\n",
       " 'ICSME_InternalLiner',\n",
       " 'ICSME_Liquids',\n",
       " 'ICSME_MaintenancePigging',\n",
       " 'ICSME_Solids',\n",
       " 'ILICONSFEATS',\n",
       " 'IM_Activity',\n",
       " 'IM_Activity_Range',\n",
       " 'im_assessplan',\n",
       " 'im_assessplan_deoverlap',\n",
       " 'im_assessplan_pre090922',\n",
       " 'im_assessplan_resta',\n",
       " 'IM_Flags_2023_01',\n",
       " 'IM_Flags_2023_02',\n",
       " 'IM_Flags_2023_05_rev2',\n",
       " 'IM_Flags_2023_05_rev3',\n",
       " 'IM_Flags_Dummy',\n",
       " 'imf_ancestor',\n",
       " 'imf_parent',\n",
       " 'imf_sswc_ancestor',\n",
       " 'imf_sswc_parent',\n",
       " 'imf_sswc_tracking_2023_01',\n",
       " 'imf_tracking_2023_01',\n",
       " 'imf_tracking_2023_02',\n",
       " 'imf_tracking_2023_05',\n",
       " 'imf_tracking_2023_05_rev2',\n",
       " 'imf_tracking_2023_05_rev3',\n",
       " 'imf_tracking_jan',\n",
       " 'imf_tracking_JAN_23',\n",
       " 'imf_tracking_old',\n",
       " 'impactonreliability',\n",
       " 'impactonreliability_2021',\n",
       " 'impactonreliability_resta',\n",
       " 'Internal_Corrosion_Risk_Results',\n",
       " 'Internal_Corrosion_Risk_Results_2021',\n",
       " 'Internal_Corrosion_Risk_Results_bkup',\n",
       " 'IOC_STAGE_PROCESS_ROUTE',\n",
       " 'ioeq_overpressure',\n",
       " 'ioeq_overpressure_2021',\n",
       " 'ioeq_overpressure_resta',\n",
       " 'ioeq_overpressure_resta_bk093022',\n",
       " 'ioeq_overpressure_stage1',\n",
       " 'ioeq_stationdata',\n",
       " 'ioeq_stationdata_2021',\n",
       " 'ioeq_stationdata_maopupd',\n",
       " 'ioeq_stationdata_resta',\n",
       " 'ioeq_stationdata_resta_bk093022',\n",
       " 'landslide',\n",
       " 'LANDUSE',\n",
       " 'Leak_Migration',\n",
       " 'LEVEE',\n",
       " 'lineloop',\n",
       " 'lineloop_2022',\n",
       " 'Linemarking',\n",
       " 'Liquefaction',\n",
       " 'Local_Low_Spot',\n",
       " 'MANU_bk013123',\n",
       " 'MANU_bk052423',\n",
       " 'MANU_bk102822',\n",
       " 'manu_body_threatid_25k',\n",
       " 'manu_body_threatid_25k_validation',\n",
       " 'MANU_OUTPUT_FORSME_2018',\n",
       " 'Manu_Risk_Adjustment_Factors',\n",
       " 'Manu_Risk_LOF',\n",
       " 'Manu_Risk_Results',\n",
       " 'MANU_Risk_Results_old',\n",
       " 'manu_risk_results_thera030223',\n",
       " 'manu_seam_threatid_25k_validation',\n",
       " 'Manu_Threat_Drivers',\n",
       " 'Manu_Threat_Drivers_Hard_Spot_History',\n",
       " 'Manu_Threat_Drivers_Validation',\n",
       " 'Manu_ThreatID_Table',\n",
       " 'manu_validation_25k',\n",
       " 'manu_validation_25k_lof',\n",
       " 'MANU_validation_data',\n",
       " 'manufacturer_thera_match_032923',\n",
       " 'manufleak',\n",
       " 'manufleak_stage0',\n",
       " 'Manufleak_stage1',\n",
       " 'ManufLeakRawdata',\n",
       " 'MANUFSME_Fatigue',\n",
       " 'manufsme_fatigue_081222',\n",
       " 'MANUFSME_HardSpot',\n",
       " 'MANUFSME_TPEPRatio',\n",
       " 'MAOP',\n",
       " 'maop_2021_resta',\n",
       " 'maop_2022',\n",
       " 'maop_report112822',\n",
       " 'maop_subsys_YoYcompare',\n",
       " 'milepoint',\n",
       " 'milepoint_bk072922',\n",
       " 'Milepost_edit021023',\n",
       " 'milepost_segs020323',\n",
       " 'milepost_segs021023',\n",
       " 'Milepost_upd020323',\n",
       " 'MOC_HPHSCC_Resta',\n",
       " 'MOC_IC_Resta',\n",
       " 'MOC_IC_Resta_bk082622',\n",
       " 'MOC_Manu_IMFlag',\n",
       " 'moc_manu_imflag_nomatch',\n",
       " 'moc_manu_imflag_resta',\n",
       " 'moc_manu_resta',\n",
       " 'MOC_NNSCC_Resta',\n",
       " 'MOC_NNSCC_Resta_bk082622',\n",
       " 'MOC_SSWC_Resta',\n",
       " 'MOC_SSWC_Resta_bk082622',\n",
       " 'new_imf_tracking',\n",
       " 'new_sswc_tracking',\n",
       " 'OccupancyCnt',\n",
       " 'OccupancyCnt_125PCT',\n",
       " 'OccupancyCnt_150PCT',\n",
       " 'OccupancyCnt_Care_Fac',\n",
       " 'occupancycnt_onoff',\n",
       " 'Onecall',\n",
       " 'OneCall_Tickets',\n",
       " 'OneCallRawData',\n",
       " 'OneCallRepeatOffenders',\n",
       " 'OneCallTickets',\n",
       " 'OneCallTickets_07132022',\n",
       " 'p12_624_dates',\n",
       " 'p12_624_scope',\n",
       " 'P30_Audit',\n",
       " 'P30_Categories',\n",
       " 'P30_HCA_Driver',\n",
       " 'P30_HCA_Driver_Categories',\n",
       " 'P30_Pigable_Segments',\n",
       " 'P30_Pigable_Segments_HCA',\n",
       " 'P30_Risk_CA',\n",
       " 'P30_Risk_Rank',\n",
       " 'P30_SMYS_CA',\n",
       " 'P30_WAP_Output',\n",
       " 'percentsmys',\n",
       " 'percentsmys_2022',\n",
       " 'PigablePipe2022',\n",
       " 'pipe_angle',\n",
       " 'PipeData_177A_2',\n",
       " 'pipesegment',\n",
       " 'pipesegment_2021',\n",
       " 'PODSCONSFEATS',\n",
       " 'POE_Anomaly_Type_Exclusions',\n",
       " 'POE_Defects_131',\n",
       " 'POE_EC_Rollup',\n",
       " 'POE_EC_Rollup_bk',\n",
       " 'POE_External_Corrosion_Growth_Rates',\n",
       " 'POE_IC_Rollup',\n",
       " 'POE_Internal_Corrosion_Growth_Rates',\n",
       " 'POE_Results',\n",
       " 'POE_TRADILI_MATCHED_2022',\n",
       " 'POE_Validation_bnpq',\n",
       " 'Proximity',\n",
       " 'pt',\n",
       " 'PublicEducation',\n",
       " 'RAMP_MAOP_subsys',\n",
       " 'RAMP_Stations_LVC_subsys_match',\n",
       " 'RAMP_stations_OPPipe',\n",
       " 'RAMP_stations_OPPipe_013123',\n",
       " 'RAMP_Stations_subsys_match',\n",
       " 'restation_21to22_override',\n",
       " 'Risk_Percentile_Table',\n",
       " 'risk_rollup_50ksamples2',\n",
       " 'risk_rollup_segments2',\n",
       " 'RiskResults_Int_Percentile',\n",
       " 'RiskResults_int2022',\n",
       " 'RiskResults_int2022_01232023',\n",
       " 'RiskResults_int2022_02172023',\n",
       " 'RiskResults_int2022_04272023',\n",
       " 'RiskSnapshot2022',\n",
       " 'RouteConnection',\n",
       " 's3lgtest',\n",
       " 'Sankey_Cons',\n",
       " 'Sankey_IC',\n",
       " 'Sankey_Manu',\n",
       " 'Sankey_SCC',\n",
       " 'Sankey_SSWC',\n",
       " 'SCADA_presspt_combined_120122',\n",
       " 'SCADA_presspt_stat_120122',\n",
       " 'SCADA_pressurept_CRM',\n",
       " 'scada_tags_location',\n",
       " 'SCADA_Tags_location061722',\n",
       " 'SCADA_Temperature_fix021523',\n",
       " 'SCC_bk021623',\n",
       " 'SCC_bk111522',\n",
       " 'SCC_Risk_Adjustment_Factors_Validation',\n",
       " 'SCC_Risk_LOF',\n",
       " 'SCC_Risk_LOF_Validation',\n",
       " 'SCC_Risk_Results',\n",
       " 'SCC_SCADA_StationTemp',\n",
       " 'SCC_Scada_Temp_test',\n",
       " 'SCC_Threat_Drivers',\n",
       " 'SCC_Threat_Drivers_2021',\n",
       " 'SCC_Threat_Drivers_Validation',\n",
       " 'SCC_threatSimilar_compsta',\n",
       " 'SCC_ThreatSimilar_merge',\n",
       " 'SCC_validation_25k',\n",
       " 'SCC_validation_25k_bnpq',\n",
       " 'SCC_validation_data',\n",
       " 'SCCSME_CompressorProximity',\n",
       " 'SCCSME_DentsGouges',\n",
       " 'sccsme_temp_delta',\n",
       " 'SCCSME_Temperature',\n",
       " 'SCCSME_Temperature_11172022',\n",
       " 'sccsme_temperature_bk083122',\n",
       " 'sccsme_temperature_old',\n",
       " 'SCCSME_Temperature_tmp093022',\n",
       " 'SCCSME_Tie_In_SagOver',\n",
       " 'sccsme_uplandlowland',\n",
       " 'SCCSME_WetDryCycle',\n",
       " 'SCCThreatID_History',\n",
       " 'Score_COF_CustomerLoss',\n",
       " 'Score_COF_EnvironmentalDesignation',\n",
       " 'Score_COF_FacilityImpact',\n",
       " 'Score_COF_ReleaseVolume',\n",
       " 'Score_COF_Safety',\n",
       " 'Score_COF_WaterCrossing',\n",
       " 'Score_Construction_Age',\n",
       " 'Score_Construction_AssessmentMitigation',\n",
       " 'Score_Construction_BendingStrain',\n",
       " 'Score_Construction_Features',\n",
       " 'Score_Construction_History',\n",
       " 'Score_Construction_ILIMitigation',\n",
       " 'Score_Construction_SMYS',\n",
       " 'Score_DirectExamination',\n",
       " 'Score_HydrostaticPressureTest',\n",
       " 'Score_IC_Bacteria',\n",
       " 'Score_IC_CorrosionInhibitor',\n",
       " 'Score_IC_CorrosionRate',\n",
       " 'Score_IC_DesignCondition',\n",
       " 'Score_IC_GasQuality',\n",
       " 'Score_IC_GasSource',\n",
       " 'Score_IC_ICDA',\n",
       " 'Score_IC_InternalLiner',\n",
       " 'Score_IC_Leaks_Ruptures',\n",
       " 'Score_IC_Liquids',\n",
       " 'Score_IC_MaintenancePigging',\n",
       " 'Score_IC_RecordedEvidence',\n",
       " 'Score_IC_Solids',\n",
       " 'Score_IC_TimeInOperation',\n",
       " 'Score_InlineInspection',\n",
       " 'Score_Manufacturing_BodyFailure',\n",
       " 'Score_Manufacturing_CathodicProtection',\n",
       " 'Score_Manufacturing_Design',\n",
       " 'Score_Manufacturing_Fatique',\n",
       " 'Score_Manufacturing_HardSpot',\n",
       " 'Score_Manufacturing_Mitigation',\n",
       " 'Score_Manufacturing_Repair',\n",
       " 'Score_Manufacturing_SeamFailure',\n",
       " 'Score_Manufacturing_SMYS',\n",
       " 'Score_PercentileRangeLabels',\n",
       " 'Score_SCC_Age_YearAbsolute',\n",
       " 'Score_SCC_Age_YearRelative',\n",
       " 'Score_SCC_BendingStress',\n",
       " 'Score_SCC_CathodicProtection',\n",
       " 'Score_SCC_Circumferential_Stress',\n",
       " 'Score_SCC_CircumferentialHistory',\n",
       " 'Score_SCC_CompressorProximity',\n",
       " 'Score_SCC_History',\n",
       " 'Score_SCC_MainlineCoating',\n",
       " 'Score_SCC_MainlineCoating_Additional',\n",
       " 'Score_SCC_PipeCharacteristics',\n",
       " 'Score_SCC_PressureCycle',\n",
       " 'Score_SCC_SCCDA',\n",
       " 'Score_SCC_SMYS',\n",
       " 'Score_SCC_Stress_Increasers_Concentrators',\n",
       " 'Score_SCC_Temperature',\n",
       " 'Score_SCC_Topography',\n",
       " 'Score_SSWC_EnvironmentalConditions',\n",
       " 'Score_SSWC_MainlineCoating',\n",
       " 'Score_SSWC_Susceptibility',\n",
       " 'SeismicArea',\n",
       " 'SeismicFaultCrossing',\n",
       " 'SeismicFaultCrossing_10262022',\n",
       " 'SeismicFaultCrossing_SourceData',\n",
       " 'sn20_manuf_thera_resta',\n",
       " 'sn20_manufacturer_matchall',\n",
       " 'sn20_manufacturer_matchdup',\n",
       " 'sn20_manufacturer_matchexclude',\n",
       " 'sn20_manufacturer_matchfinal',\n",
       " 'sn20_manufacturer_thera',\n",
       " 'sn22_bend_final',\n",
       " 'sn22_bend_trimmed_endpts',\n",
       " 'sn22_BendPnts_ev',\n",
       " 'sn22_Casing',\n",
       " 'sn22_ClassArea',\n",
       " 'sn22_futuregeom_copy',\n",
       " 'sn22_futuregeom_new_assumespecs',\n",
       " 'sn22_futuregeom_new_bend',\n",
       " 'sn22_FutureGeom_new_specs',\n",
       " 'sn22_futuregeom_potential_include',\n",
       " 'sn22_GasConstantFactor',\n",
       " 'sn22_HCA',\n",
       " 'sn22_hydroSJ_evs',\n",
       " 'sn22_Hydrotest_allquals',\n",
       " 'sn22_Hydrotest_allquals_old',\n",
       " 'sn22_IM_Activity_resta',\n",
       " 'sn22_Lineloop',\n",
       " 'sn22_MaintOrg',\n",
       " 'sn22_manu_thera_qc1',\n",
       " 'sn22_manu_thera_qc2',\n",
       " 'sn22_MAOP_calc',\n",
       " 'sn22_maop_catalog',\n",
       " 'sn22_maop_catalog_clean',\n",
       " 'sn22_maop_g4_clean',\n",
       " 'sn22_maop_g4_final',\n",
       " 'sn22_maop_g4update',\n",
       " 'sn22_maop_override_list',\n",
       " 'sn22_maop_spatialoverride',\n",
       " 'sn22_MAOP_subsys',\n",
       " 'sn22_milepoint',\n",
       " 'sn22_milepoint_edit',\n",
       " 'sn22_milepoint_pre',\n",
       " 'sn22_milepoint_pre_bk1',\n",
       " 'sn22_milepoint_resta',\n",
       " 'sn22_milepoint_rev020323',\n",
       " 'sn22_PIPE_MANUFACTURER_CL',\n",
       " 'sn22_pipe_manufacturer_missing',\n",
       " 'sn22_PipeSegment_part1',\n",
       " 'sn22_PipeSegment_part2',\n",
       " 'sn22_PipeSegment_part3',\n",
       " 'sn22_pipesegment_part3_bk0707',\n",
       " 'sn22_route_trim',\n",
       " 'Sn22_RouteTable',\n",
       " 'sn22_TransDef',\n",
       " 'sn22_validate',\n",
       " 'sn22_validate_atm_err062322',\n",
       " 'sn22_validate_bk0623',\n",
       " 'sn22_validate_err061622',\n",
       " 'sn22_validate_err062322',\n",
       " 'sn22_validate_final',\n",
       " 'sn22_validate_final_bk0630',\n",
       " 'sn22_validate_final_bk0630b',\n",
       " 'sn22_validate_final_bk0630c',\n",
       " 'sn22_validate_gap_err062322',\n",
       " 'sn22_WAP_052022_restation',\n",
       " 'sn22_wap_052022_restation_bk082622',\n",
       " 'sn22_wap_052022_YOYunchanged',\n",
       " 'sn22_WORK_ORDER_RANGE',\n",
       " 'sn23_Pipe_MP_020323',\n",
       " 'Soil_MAster',\n",
       " 'SOIL_POLY',\n",
       " 'SOILRESISTIVITY',\n",
       " 'Source_structure_LeakMigration',\n",
       " 'Source_wildfirepoly_simplified',\n",
       " 'SourceData_AerialPatrol',\n",
       " 'SourceData_CriticalFacPoly',\n",
       " 'SourceData_DCTransitPoly',\n",
       " 'SourceData_DigInConcern',\n",
       " 'SourceData_EnvironmentPoly',\n",
       " 'Sourcedata_Erosion',\n",
       " 'SourceData_ForeignLineCrossing',\n",
       " 'SourceData_FutureDev',\n",
       " 'SourceData_Landslide',\n",
       " 'SourceData_LandUse',\n",
       " 'SourceData_Levee',\n",
       " 'SourceData_LineMarking',\n",
       " 'SourceData_LIQUEFACTION',\n",
       " 'SourceData_Proximity',\n",
       " 'SourceData_SeismicArea',\n",
       " 'SourceData_Stage_PubED_Mailout',\n",
       " 'SourceData_Step1_SCADA_Temperature',\n",
       " 'Sourcedata_Structure',\n",
       " 'SourceData_TPD_Parcels',\n",
       " 'SourceData_Wrof8Threat',\n",
       " 'splitrows',\n",
       " 'SSWC_2023_01',\n",
       " 'SSWC_2023_05',\n",
       " 'SSWC_Risk_Adjustment_Factors',\n",
       " 'SSWC_Risk_LOF',\n",
       " 'SSWC_Threat_Drivers',\n",
       " 'SSWC_threatid_25k',\n",
       " 'SSWC_ThreatID_Table',\n",
       " 'sswc_tracking_2023_05',\n",
       " 'SSWC_validation_25k',\n",
       " 'SSWC_validation_25k_lof',\n",
       " 'SSWC_validation_data',\n",
       " 'sswcleak',\n",
       " 'sswcleak_itrun110122',\n",
       " 'sswcleak_qc031523',\n",
       " 'SSWCLeak_tmp040723',\n",
       " 'SSWCLeak_tmp102822',\n",
       " 'stationseries',\n",
       " 'stationseries_2021',\n",
       " 'stationseries_2022',\n",
       " 't_to_t_list',\n",
       " 'TAMI_Inputs',\n",
       " 'test',\n",
       " 'TestPostPointReading',\n",
       " 'testpostpointreading_tmp101722',\n",
       " 'Threat_Override_082622',\n",
       " 'threat_override_082622_nomatch',\n",
       " 'threat_override_082622_resta',\n",
       " 'ThreatIDHardSpot',\n",
       " 'ThreatOverrideTracker_2022',\n",
       " 'timpleakrepair',\n",
       " 'timpleakrepair_A_Form_only_intermediate',\n",
       " 'timpleakrepair_bk111522',\n",
       " 'TIMPLEAKREPAIR_EXCR',\n",
       " 'timpleakrepair_icre',\n",
       " 'timpleakrepair_ICRE_backup11152022',\n",
       " 'timpleakrepair_icre_trim',\n",
       " 'TIMPLEAKREPAIR_SSWCLeakTest',\n",
       " 'timpleakrepair_upd111522',\n",
       " 'TIMPLeakRepair_WallLoss',\n",
       " 'TLR_CONS_120822',\n",
       " 'TLR_CONS_overlay',\n",
       " 'tlr_cons_overlay2',\n",
       " 'tlr_cons_overlayall',\n",
       " 'tn_hscc_mar_23',\n",
       " 'tn_ic_mar_23',\n",
       " 'tn_nscc_mar_23',\n",
       " 'tn_SSWC_mar_23',\n",
       " 'TPD_AdCities',\n",
       " 'TPD_bk120522',\n",
       " 'TPD_ReducedCover_Notices',\n",
       " 'TPD_Risk_Adjustment_Factors',\n",
       " 'TPD_Risk_LOF',\n",
       " 'TPD_Risk_Results',\n",
       " 'TPD_validation_25k',\n",
       " 'TPD_validation_25k_tpn4',\n",
       " 'TPD_validation_data',\n",
       " 'TPD_Workshops',\n",
       " 'TPDLeak',\n",
       " 'tpdleak_stage1',\n",
       " 'TPDSME',\n",
       " 'TPDSME_AerialPatrol',\n",
       " 'TPDSME_FutureDev',\n",
       " 'TPDSME_NoOneCall',\n",
       " 'TPDSME_StructuralEncroachment',\n",
       " 'validate_250sample_allthreats',\n",
       " 'validate_250samples_combined',\n",
       " 'validate_25ksamples_final',\n",
       " 'validate_25ksamples_pre',\n",
       " 'validate_25ksamples_prevyear',\n",
       " 'Validate_50kRandomNums',\n",
       " 'validate_50ksample_addpts_resta',\n",
       " 'validate_50ksample_allpts',\n",
       " 'validate_50ksamples_2021filter',\n",
       " 'validate_50ksamples_2021filter_bk1',\n",
       " 'validate_50ksamples_2021filter_v3',\n",
       " 'validate_50ksamples_2021filter_v4',\n",
       " 'validate_50ksamples_prevyear',\n",
       " 'validate_Consthreat_cases2021',\n",
       " 'validate_csccthreat_cases2021',\n",
       " 'validate_hform_coating',\n",
       " 'validate_hform_coating_bk110222',\n",
       " 'validate_hphsccthreat_cases2021',\n",
       " 'Validate_ICthreat_cases2021',\n",
       " 'validate_mbodythreat_cases2021',\n",
       " 'validate_mseamthreat_cases2021',\n",
       " 'validate_nnsccthreat_cases2021',\n",
       " 'validate_pipe_coating',\n",
       " 'validate_pipe_coating_bk110222',\n",
       " 'Validate_ScopingData_081722',\n",
       " 'validate_scopingdata_resta',\n",
       " 'validate_sswcthreat_cases2021',\n",
       " 'valvespc_allfeats_class',\n",
       " 'Valvespc_PODS_Ptevts_2022',\n",
       " 'Valvespc_WAPclass_2023_03_27',\n",
       " 'valvspc_allfeats_aggregate1',\n",
       " 'valvspc_allfeats_aggregate2',\n",
       " 'valvspc_noncompliant2',\n",
       " 'valvspc_noncompliant2_diss',\n",
       " 'valvspc_routenames',\n",
       " 'valvspc_routesequences',\n",
       " 'VEHILeak',\n",
       " 'VintagePipeDrivers',\n",
       " 'wallloss_matchpipe',\n",
       " 'wap_0522_dissolve_resta',\n",
       " 'wap_0522_dissolve_resta_bk1',\n",
       " 'wap_0522_dissolve_trim',\n",
       " 'wap_0522_missingsegs',\n",
       " 'WAP_CURRENT_2023_06_16',\n",
       " 'WAP_JAN_23',\n",
       " 'WAP_Jun_16_RiskResults',\n",
       " 'wap_mar_23_riskqc3',\n",
       " 'WAP_Mar_23_RiskResults',\n",
       " 'WAP_MAR_27',\n",
       " 'wap_mar_rollup',\n",
       " 'wap_mar_rollup_addsegs',\n",
       " 'WAP_Table_testC5LB',\n",
       " 'WAP052022_Resta',\n",
       " 'wap052022_resta_uniq',\n",
       " 'wap0522_resta_missed',\n",
       " 'WAPREF_MAR_23',\n",
       " 'Wildfire',\n",
       " 'Wildfire_Class_NewProcess',\n",
       " 'WildFire_NewProcess',\n",
       " 'WROF_bk112222',\n",
       " 'WROF_Risk_LOF',\n",
       " 'WROF_Risk_Results',\n",
       " 'WROF_validation_25k',\n",
       " 'WROF_validation_25k_lof',\n",
       " 'WROF_validation_data',\n",
       " 'Wrof8Threat',\n",
       " 'WROF8ThreatRawdata',\n",
       " 'WROFmitigation',\n",
       " 'WROFSME_ArcFault',\n",
       " 'WROFSME_Vandalism',\n",
       " 'xanaWAP_IDevents']"
      ]
     },
     "execution_count": 55,
     "metadata": {},
     "output_type": "execute_result"
    }
   ],
   "source": [
    "# The available table names here aren't the same as the one connected through arc map...\n",
    "inspector = inspect(engine)\n",
    "table_names = inspector.get_table_names()\n",
    "table_names"
   ]
  },
  {
   "cell_type": "code",
   "execution_count": 8,
   "id": "b6cd9cef-60d7-4ec9-a8b6-88f436867884",
   "metadata": {},
   "outputs": [],
   "source": [
    "metadata_obj = MetaData()  # Why do I need this thing again...?\n",
    "Table_EC_Risk_LOF = Table(\"EC_Risk_LOF\", metadata_obj, autoload_with=engine)"
   ]
  },
  {
   "cell_type": "code",
   "execution_count": 74,
   "id": "4854d709-904b-4605-b28e-17e9dd5ee206",
   "metadata": {},
   "outputs": [],
   "source": [
    "with engine.connect() as conn:\n",
    "    result = conn.execute(\n",
    "        select(func.count()).select_from(Table_EC_Risk_LOF)\n",
    "    ).fetchall()"
   ]
  },
  {
   "cell_type": "code",
   "execution_count": 75,
   "id": "f7ba910e-0156-4ab5-93d1-49bf231455cd",
   "metadata": {},
   "outputs": [
    {
     "data": {
      "text/plain": [
       "[(900650,)]"
      ]
     },
     "execution_count": 75,
     "metadata": {},
     "output_type": "execute_result"
    }
   ],
   "source": [
    "result"
   ]
  },
  {
   "cell_type": "code",
   "execution_count": 9,
   "id": "4959976a-d8f5-4834-b478-673e77c680d0",
   "metadata": {},
   "outputs": [],
   "source": [
    "# Find rows for which ILI completion date is in 2022\n",
    "threshold_date = datetime(2022, 1, 1)\n",
    "query = select(Table_EC_Risk_LOF).where(Table_EC_Risk_LOF.c.ILI_Completion_Date > threshold_date)\n",
    "with engine.connect() as connection:\n",
    "    LOF_with_ILI_in_2022 = connection.execute(query).fetchall()"
   ]
  },
  {
   "cell_type": "code",
   "execution_count": 10,
   "id": "f167df92-51c9-47e8-bc86-fcac406ee5a3",
   "metadata": {},
   "outputs": [
    {
     "data": {
      "text/plain": [
       "{'sortid': 316529, 'route': '1202-16', 'beginstationseriesid': '36339', 'beginstationnum': 17504.4, 'endstationseriesid': '36339', 'endstationnum': 17504.600000000002, 'Mainline_Coating_Type': 'H', 'Dry_Chloride_Deposition': 0.6200000047683716, 'Third_Party_Liquid_Proximity': None, 'Third_Party_Gas_Proximity': None, 'Lack_Casing_Test_Facilities': None, 'Casing': None, 'Annual_Precipitation': 32.77000045776367, 'ILI_Assessment_Method': 'ILI', 'ILI_Completion_Date': datetime.datetime(2022, 3, 28, 0, 0), 'Soil_Type': 'L', 'Soil_Resistivity': None, 'Foreign_Line_Crossing': None, 'Percent_Wall_Loss': Decimal('37.60'), 'Reassessment_Interval': Decimal('7'), 'Direct_Examination': None, 'Hydrotest_Completion_Date': None, 'Span_Prioritization': None, 'Span_Support': None, 'Span_Condition': None, 'Vault_Condition': None, 'Feature_Type': 'PIPE', 'PFL_Feature_Num': '147.00000', 'Manufacture_Date': datetime.datetime(1953, 8, 8, 0, 0), 'Pipe_Material': 'STL', 'Seam_Type_Assumed': 'Assumptions Calculator', 'Seam_Type': 'ERW', 'Install_Date': datetime.datetime(1963, 8, 8, 0, 0), 'ECDA_Length_of_Mon': None, 'ECDA_Length_of_Sched': None, 'ECDA_Length_of_Imm': None, 'ECDA_Project_Length': None, 'ECDA_Wall_Loss_GTE50': None, 'ECDA_Wall_Loss_GTE40LT50': None, 'ECDA_Wall_Loss_GTE30LT40': None, 'ECDA_Wall_Loss_GTE20LT30': None, 'ECDA_Number_of_Digs': None, 'Coating_Condition': 'P', 'DC_Transit': None, 'Sulfur_Dioxide_Deposition': 0.3100000023841858, 'Pipe_Exposed': None, 'Percent_EC_NonCompliant': 53.333333333333336, 'DC_Interference_Program': 'DC-Ins', 'MIC': None, 'External_Corrosion_Ruptures': None, 'External_Corrosion_Leaks': None, 'Operation_Area': 'LSJQ', 'Length_FT': Decimal('0.20'), 'MP1': Decimal('3.315130'), 'MP2': Decimal('3.315170'), 'ECThreat': 'Yes', 'MCS': 7.0, 'coattype_MCS': 'Asphalt', 'SA': 5.6, 'abovegrd_SA': 0.0, 'casing_SA': 0.0, 'buried_SA': 5.6, 'P_EX': 0.0, 'CP': 7.5, 'C_F': 0.1, 'FH_EC': 5.0, 'HT_EC': 0.0, 'ECDA_EC': 0.0, 'DE_EC': 0.0, 'ILI_EC': 1.803, 'CL': 3.0, 'SO': 2.5, 'TOW': 5.0, 'AC': 6.5, 'V': 0.0, 'PS': 0.0, 'FH_EC_EX': 6.0, 'Leak_Rupture_Boundary': 615.9226467116565, 'MAOP': Decimal('650.0000'), 'S_EC': 4.629760248504918, 'S_EC_EX': 3.547959141847933, 'af_EC': 0.710944438988404, 'af_EC_EX': 0.26250114991115103, 'EC_LOF_Rupture_EX': 4.3888092255945165e-06, 'EC_LOF_Leak_EX': 0.0, 'EC_LOF_Rupture_No_EX': 1.1886422264334924e-05, 'EC_LOF_Leak_No_EX': 0.0, 'EC_LOF_Rupture': 1.1886422264334924e-05, 'EC_LOF_Leak': 0.0, 'B': 6.83, 'B_EX': 4.35, 'M_F': 1.803}"
      ]
     },
     "execution_count": 10,
     "metadata": {},
     "output_type": "execute_result"
    }
   ],
   "source": [
    "# What does the first entry look like?\n",
    "LOF_with_ILI_in_2022[0]._mapping"
   ]
  },
  {
   "cell_type": "code",
   "execution_count": 11,
   "id": "6439ca5b-67ae-44d8-b511-c982ccde9e23",
   "metadata": {},
   "outputs": [],
   "source": [
    "with engine.connect() as connection:\n",
    "    row_counts = connection.execute(\n",
    "        select(func.count()).select_from(Table_EC_Risk_LOF)\n",
    "    ).fetchall()[0][0]"
   ]
  },
  {
   "cell_type": "code",
   "execution_count": 12,
   "id": "5f4534eb-869b-4259-9af1-d72b5fbe1caa",
   "metadata": {},
   "outputs": [
    {
     "name": "stdout",
     "output_type": "stream",
     "text": [
      "For 2022, EC_LOF was calculated for 900650 pipe segments, 24803 pipe segments had ILI data available, which is 2.754%\n"
     ]
    }
   ],
   "source": [
    "print(\n",
    "    f\"For 2022, EC_LOF was calculated for {row_counts} pipe segments, \"\n",
    "    f\"{len(LOF_with_ILI_in_2022)} pipe segments had ILI data available, \"\n",
    "    f\"which is {len(LOF_with_ILI_in_2022) / row_counts * 100:.3f}%\"\n",
    ")"
   ]
  },
  {
   "cell_type": "code",
   "execution_count": 13,
   "id": "de9050f1-b9e2-4dc8-b433-b2486e6978a0",
   "metadata": {},
   "outputs": [],
   "source": [
    "# Push the entire table into pandas dataframe\n",
    "df_EC_Risk_LOF_with_ILI_in_2022 = pd.DataFrame(LOF_with_ILI_in_2022, columns=LOF_with_ILI_in_2022[0]._mapping.keys())"
   ]
  },
  {
   "cell_type": "code",
   "execution_count": 14,
   "id": "c4b3e2c3-1ab1-4af1-85a5-6c63234bbb7c",
   "metadata": {},
   "outputs": [
    {
     "data": {
      "text/plain": [
       "array(['sortid', 'route', 'beginstationseriesid', 'beginstationnum',\n",
       "       'endstationseriesid', 'endstationnum', 'Mainline_Coating_Type',\n",
       "       'Dry_Chloride_Deposition', 'Third_Party_Liquid_Proximity',\n",
       "       'Third_Party_Gas_Proximity', 'Lack_Casing_Test_Facilities',\n",
       "       'Casing', 'Annual_Precipitation', 'ILI_Assessment_Method',\n",
       "       'ILI_Completion_Date', 'Soil_Type', 'Soil_Resistivity',\n",
       "       'Foreign_Line_Crossing', 'Percent_Wall_Loss',\n",
       "       'Reassessment_Interval', 'Direct_Examination',\n",
       "       'Hydrotest_Completion_Date', 'Span_Prioritization', 'Span_Support',\n",
       "       'Span_Condition', 'Vault_Condition', 'Feature_Type',\n",
       "       'PFL_Feature_Num', 'Manufacture_Date', 'Pipe_Material',\n",
       "       'Seam_Type_Assumed', 'Seam_Type', 'Install_Date',\n",
       "       'ECDA_Length_of_Mon', 'ECDA_Length_of_Sched', 'ECDA_Length_of_Imm',\n",
       "       'ECDA_Project_Length', 'ECDA_Wall_Loss_GTE50',\n",
       "       'ECDA_Wall_Loss_GTE40LT50', 'ECDA_Wall_Loss_GTE30LT40',\n",
       "       'ECDA_Wall_Loss_GTE20LT30', 'ECDA_Number_of_Digs',\n",
       "       'Coating_Condition', 'DC_Transit', 'Sulfur_Dioxide_Deposition',\n",
       "       'Pipe_Exposed', 'Percent_EC_NonCompliant',\n",
       "       'DC_Interference_Program', 'MIC', 'External_Corrosion_Ruptures',\n",
       "       'External_Corrosion_Leaks', 'Operation_Area', 'Length_FT', 'MP1',\n",
       "       'MP2', 'ECThreat', 'MCS', 'coattype_MCS', 'SA', 'abovegrd_SA',\n",
       "       'casing_SA', 'buried_SA', 'P_EX', 'CP', 'C_F', 'FH_EC', 'HT_EC',\n",
       "       'ECDA_EC', 'DE_EC', 'ILI_EC', 'CL', 'SO', 'TOW', 'AC', 'V', 'PS',\n",
       "       'FH_EC_EX', 'Leak_Rupture_Boundary', 'MAOP', 'S_EC', 'S_EC_EX',\n",
       "       'af_EC', 'af_EC_EX', 'EC_LOF_Rupture_EX', 'EC_LOF_Leak_EX',\n",
       "       'EC_LOF_Rupture_No_EX', 'EC_LOF_Leak_No_EX', 'EC_LOF_Rupture',\n",
       "       'EC_LOF_Leak', 'B', 'B_EX', 'M_F'], dtype=object)"
      ]
     },
     "execution_count": 14,
     "metadata": {},
     "output_type": "execute_result"
    }
   ],
   "source": [
    "df_EC_Risk_LOF_with_ILI_in_2022.columns.values"
   ]
  },
  {
   "cell_type": "code",
   "execution_count": 15,
   "id": "404fd832-b167-47df-a6fe-adb8f785b92c",
   "metadata": {},
   "outputs": [
    {
     "data": {
      "text/plain": [
       "True"
      ]
     },
     "execution_count": 15,
     "metadata": {},
     "output_type": "execute_result"
    }
   ],
   "source": [
    "(df_EC_Risk_LOF_with_ILI_in_2022[\"ILI_Completion_Date\"] >= threshold_date).all()"
   ]
  },
  {
   "cell_type": "markdown",
   "id": "6ed9b059-cdda-4589-9202-316da8d88f96",
   "metadata": {},
   "source": [
    "# Match the ILI data with the EC_LOF table, pased on the stationing"
   ]
  },
  {
   "cell_type": "markdown",
   "id": "efbcecf2-84af-4db9-951f-1315b49354d4",
   "metadata": {},
   "source": [
    "Procedures to match dynamic pipe segments based on stationing, from Jackson:\n",
    "\n",
    "> The failure pressure table has columns like \"route\", \"beginstationnum\", \"endstationnum\", \"beginstationseriesid\" [...] \"you want to check if\" SeriesID = beginstationseriesi\"d and stationing between\" beginstationnu\"m and\" endstationnu\"m The interval type is closed and open.."
   ]
  },
  {
   "cell_type": "code",
   "execution_count": 16,
   "id": "3c734acf-bed8-443e-97fd-5228fab6460a",
   "metadata": {},
   "outputs": [
    {
     "data": {
      "text/plain": [
       "array(['FID', 'OBJECTID_1', 'FID_1', 'Vendor', 'Source', 'Route',\n",
       "       'Route_NoPr', 'MP1', 'MP2', 'Year', 'ILI_Projec', 'ML_Survey',\n",
       "       'Alignment', 'Joint___US', 'ILI_Survey', 'Joint_Leng',\n",
       "       'From_U_S_G', 'To_D_S_GW', 'Identifica', 'Comment', 'Tool_Speed',\n",
       "       'WT__in_', 'SMYS__PSI_', 'MAOP__PSI_', 'OD__in_', 'Longseam_V',\n",
       "       'Seam_Pos_', 'Depth____', 'Depth___wi', 'OD_Reducti', 'Length__in',\n",
       "       'Width__in_', 'O_clock', 'Internal', 'Bend_Radiu', 'Bend_Angle',\n",
       "       'Bend_Direc', 'POF_Catego', 'Associated', 'Anomaly_ID',\n",
       "       'Estimated', 'Pf_MAOP', 'Pf___with', 'Pf__MAOP', 'TotalBend',\n",
       "       'Bend___Ver', 'Bend___Hor', 'Internal_D', 'External_D', 'Easting',\n",
       "       'Northing', 'Latitude', 'Longitude', 'Elevation', 'U_S_Refere',\n",
       "       'Dist__To_U', 'D_S_Refere', 'Dist__To_D', 'ILI_Vendor',\n",
       "       'PG_E_Stati', 'OBJECTID', 'Id', 'EffectiveS', 'PipeManufa',\n",
       "       'PipeOutsid', 'PipeWallTh', 'SMYS', 'PipeGradeD', 'PipeMateri',\n",
       "       'PipeRepair', 'PipeSeamDo', 'PipeGirthW', 'PipeJointF',\n",
       "       'PipeNomina', 'BeginStati', 'BeginSta_1', 'EndStation',\n",
       "       'EndStati_1', 'CREATE_DAT', 'CREATE_USE', 'LAST_UPDAT',\n",
       "       'LAST_UPD_1', 'PipeJointT', 'FeatureTyp', 'DiameterAs',\n",
       "       'WallThickA', 'SmysAssume', 'LongSeamAs', 'Manufactur',\n",
       "       'ReconSalva', 'Prefab', 'Constructi', 'pfl_featur', 'sfl_id',\n",
       "       'sfl_above_', 'purchase_d', 'purchase_f', 'prior_purc',\n",
       "       'pipemanu_1', 'batch', 'heat', 'coating_ty', 'feature_no',\n",
       "       'coating_de', 'coating_in', 'coating_so', 'population', 'Distance'],\n",
       "      dtype=object)"
      ]
     },
     "execution_count": 16,
     "metadata": {},
     "output_type": "execute_result"
    }
   ],
   "source": [
    "# First fix the spatial joined ILI dataframe's headers..\n",
    "ILI_2022_joins_pipeline.columns.values"
   ]
  },
  {
   "cell_type": "code",
   "execution_count": 17,
   "id": "50b2212a-cab6-4a83-9124-eb21e2cd5d14",
   "metadata": {},
   "outputs": [],
   "source": [
    "# Replace the column names with the ones present in the EC_LOF table:\n",
    "#\n",
    "# ['route', 'beginstationseriesid', 'beginstationnum', 'endstationseriesid', 'endstationnum']\n",
    "# Note that the column order is perserved through spatial join, saving csv, and loading csv into pandas.\n",
    "\n",
    "# TODO: This needs to be automated better -- for example, standardize captalization of the letters...\n",
    "\n",
    "ILI_2022_joins_pipeline.rename(\n",
    "    columns={\n",
    "        \"Route\": \"route\",\n",
    "        \"BeginStati\": \"beginstationseriesid\",\n",
    "        \"BeginSta_1\": \"beginstationnum\",\n",
    "        \"EndStation\": \"endstationseriesid\",\n",
    "        \"EndStati_1\": \"endstationnum\",\n",
    "    },\n",
    "    inplace=True\n",
    ")"
   ]
  },
  {
   "cell_type": "code",
   "execution_count": 18,
   "id": "498d386d-9bae-4017-8e32-381b92550761",
   "metadata": {},
   "outputs": [
    {
     "name": "stdout",
     "output_type": "stream",
     "text": [
      "There are a total of 111667 defects, but only 24803 dynamic pipe segments\n"
     ]
    }
   ],
   "source": [
    "print(f\"There are a total of {len(ILI_2022_joins_pipeline)} defects, but only {len(df_EC_Risk_LOF_with_ILI_in_2022)} dynamic pipe segments\")"
   ]
  },
  {
   "cell_type": "markdown",
   "id": "ff666e34-c2b2-4d0f-b4b2-8a8554025bb9",
   "metadata": {},
   "source": [
    "We will create a dictionary mapping each row of the `df_EC_Risk_LOF..` table to row(s) in the ILI anomaly table. But check matching critiera first.."
   ]
  },
  {
   "cell_type": "markdown",
   "id": "e2b1703f-85a4-43d1-a5ee-fe6918fe51dd",
   "metadata": {},
   "source": [
    "## `route` matching"
   ]
  },
  {
   "cell_type": "code",
   "execution_count": 19,
   "id": "a7e28b43-0f5f-4f5c-802c-1ec859360180",
   "metadata": {},
   "outputs": [
    {
     "data": {
      "text/plain": [
       "array(['021H', '021H_U', '0617-06', '0617-14', '105B', '109', '114',\n",
       "       '118A', '118B_U', '1202-16', '1202-17', '1202-21', '1209-01',\n",
       "       '132', '138', '138C', '173-8', '2408-05', '300B', '301G', '310',\n",
       "       '400', 'DF8958', 'STUB11090', 'STUB14127', 'STUB14492',\n",
       "       'STUB14960', 'STUB22192', 'STUB23250', 'STUB23337', 'STUB23389',\n",
       "       'STUB24129', 'STUB26621', 'STUB8918', 'X23148', 'X23263'],\n",
       "      dtype=object)"
      ]
     },
     "execution_count": 19,
     "metadata": {},
     "output_type": "execute_result"
    }
   ],
   "source": [
    "# Risk table\n",
    "np.unique(df_EC_Risk_LOF_with_ILI_in_2022[\"route\"])"
   ]
  },
  {
   "cell_type": "code",
   "execution_count": 20,
   "id": "6cf484b6-edb5-4ce7-8890-6f5e864053ce",
   "metadata": {},
   "outputs": [
    {
     "data": {
      "text/plain": [
       "array(['DFM-1209-01', 'L-021H', 'L-057B', 'L-0617-06', 'L-101', 'L-105B',\n",
       "       'L-109', 'L-111A', 'L-114', 'L-118B', 'L-119A', 'L-138', 'L-138C',\n",
       "       'L-138E', 'L-148', 'L-153', 'L-173', 'L-300B', 'L-301G', 'L-310',\n",
       "       'L-401'], dtype=object)"
      ]
     },
     "execution_count": 20,
     "metadata": {},
     "output_type": "execute_result"
    }
   ],
   "source": [
    "# ILI data\n",
    "np.unique(ILI_2022_joins_pipeline[\"route\"])"
   ]
  },
  {
   "cell_type": "code",
   "execution_count": 21,
   "id": "d18e808f-38e2-4b71-8985-f3f4c3404302",
   "metadata": {},
   "outputs": [
    {
     "data": {
      "text/plain": [
       "array(['1209-01', '021H', '057B', '0617-06', '101', '105B', '109', '111A',\n",
       "       '114', '118B', '119A', '138', '138C', '138E', '148', '153', '173',\n",
       "       '300B', '301G', '310', '401'], dtype='<U7')"
      ]
     },
     "execution_count": 21,
     "metadata": {},
     "output_type": "execute_result"
    }
   ],
   "source": [
    "# ILI data's route are in better shape..format it to match risk tables..\n",
    "np.array([x.split(\"-\", 1)[1] for x in np.unique(ILI_2022_joins_pipeline[\"route\"])])"
   ]
  },
  {
   "cell_type": "markdown",
   "id": "294ab83a-ddd9-4e8c-b2c7-935120b964bb",
   "metadata": {},
   "source": [
    "__Issue 1__: This is very strange... the pipeline segments that ILI completion in 2022 contains routes that are not present in 2022's ILI data.."
   ]
  },
  {
   "cell_type": "markdown",
   "id": "6c0b24d7-706c-4580-87bc-934d85e31ea3",
   "metadata": {},
   "source": [
    "### Construct a mapping of the routes from the risk table to ILI data"
   ]
  },
  {
   "cell_type": "code",
   "execution_count": 22,
   "id": "d60f21f4-a128-4f39-a4ce-85fa07c2b53b",
   "metadata": {},
   "outputs": [],
   "source": [
    "unique_risk_routes = np.unique(df_EC_Risk_LOF_with_ILI_in_2022[\"route\"])\n",
    "unique_ILI_routes = np.unique(ILI_2022_joins_pipeline[\"route\"])\n",
    "unique_ILI_routes_no_prefix = np.array([x.split(\"-\", 1)[1] for x in unique_ILI_routes])\n",
    "\n",
    "RISK_ROUTE_TO_ILI_ROUTE = {key : None for key in unique_risk_routes}\n",
    "for (i, ILI_route_str) in enumerate(unique_ILI_routes_no_prefix):\n",
    "    for risk_route in unique_risk_routes:\n",
    "        if ILI_route_str in risk_route:\n",
    "            RISK_ROUTE_TO_ILI_ROUTE[risk_route] = unique_ILI_routes[i]\n",
    "            continue"
   ]
  },
  {
   "cell_type": "code",
   "execution_count": 23,
   "id": "0b22eabc-c251-444d-a1eb-51453a1ac7a9",
   "metadata": {},
   "outputs": [
    {
     "data": {
      "text/plain": [
       "{'021H': 'L-021H',\n",
       " '021H_U': 'L-021H',\n",
       " '0617-06': 'L-0617-06',\n",
       " '0617-14': None,\n",
       " '105B': 'L-105B',\n",
       " '109': 'L-109',\n",
       " '114': 'L-114',\n",
       " '118A': None,\n",
       " '118B_U': 'L-118B',\n",
       " '1202-16': None,\n",
       " '1202-17': None,\n",
       " '1202-21': None,\n",
       " '1209-01': 'DFM-1209-01',\n",
       " '132': None,\n",
       " '138': 'L-138',\n",
       " '138C': 'L-138C',\n",
       " '173-8': 'L-173',\n",
       " '2408-05': None,\n",
       " '300B': 'L-300B',\n",
       " '301G': 'L-301G',\n",
       " '310': 'L-310',\n",
       " '400': None,\n",
       " 'DF8958': None,\n",
       " 'STUB11090': 'L-109',\n",
       " 'STUB14127': None,\n",
       " 'STUB14492': None,\n",
       " 'STUB14960': None,\n",
       " 'STUB22192': None,\n",
       " 'STUB23250': None,\n",
       " 'STUB23337': None,\n",
       " 'STUB23389': None,\n",
       " 'STUB24129': None,\n",
       " 'STUB26621': None,\n",
       " 'STUB8918': None,\n",
       " 'X23148': 'L-148',\n",
       " 'X23263': None}"
      ]
     },
     "execution_count": 23,
     "metadata": {},
     "output_type": "execute_result"
    }
   ],
   "source": [
    "RISK_ROUTE_TO_ILI_ROUTE"
   ]
  },
  {
   "cell_type": "markdown",
   "id": "ecc37d3d-b97b-4912-8d63-5f2e73dea362",
   "metadata": {},
   "source": [
    "## `beginstationseriesid` and `endstationseriesid` matching"
   ]
  },
  {
   "cell_type": "code",
   "execution_count": 24,
   "id": "7376e3e8-faf1-4e7e-8f6e-14d9e1d565de",
   "metadata": {},
   "outputs": [
    {
     "name": "stdout",
     "output_type": "stream",
     "text": [
      "['21367' '21804' '22271' '23803' '28207' '28402' '29133' '31024' '31930'\n",
      " '32189' '33222' '34251' '34364' '34613' '35530' '35611' '36339' '36996'\n",
      " '37161' '37239' '37363' '37731' '37775' '38008' '38072' '38122' '39228'\n",
      " '39887' '40082' '40985' '41017' '41032' '42094' '42579' '43143' '43668'\n",
      " '44413' '44549' '44654' '52218' '53158' '65151']\n",
      "[21367 21804 22271 23803 28207 28402 29133 31024 31930 32189 33222 34251\n",
      " 34364 34613 35530 35611 36339 36996 37161 37239 37363 37731 37775 38008\n",
      " 38072 38122 39228 39887 40082 40985 41017 41032 42094 42579 43143 43668\n",
      " 44413 44549 44654 52218 53158 65151]\n"
     ]
    }
   ],
   "source": [
    "# Risk table\n",
    "print(np.unique(df_EC_Risk_LOF_with_ILI_in_2022[\"beginstationseriesid\"]))\n",
    "\n",
    "# Convert it into int\n",
    "df_EC_Risk_LOF_with_ILI_in_2022[\"beginstationseriesid\"] = df_EC_Risk_LOF_with_ILI_in_2022[\"beginstationseriesid\"].astype(int)\n",
    "print(np.unique(df_EC_Risk_LOF_with_ILI_in_2022[\"beginstationseriesid\"]))\n"
   ]
  },
  {
   "cell_type": "code",
   "execution_count": 25,
   "id": "f04d9689-8dc1-488d-b4a3-728e908aeb3a",
   "metadata": {},
   "outputs": [
    {
     "data": {
      "text/plain": [
       "array([21367, 21804, 22271, 23803, 28207, 28402, 29133, 31024, 31930,\n",
       "       32189, 33222, 34251, 34364, 34613, 35530, 35611, 36339, 36996,\n",
       "       37161, 37239, 37363, 37731, 37775, 38008, 38072, 38122, 39228,\n",
       "       39887, 40082, 40985, 41017, 41032, 42094, 42579, 43143, 43668,\n",
       "       44413, 44549, 44654, 52218, 53158, 65151])"
      ]
     },
     "execution_count": 25,
     "metadata": {},
     "output_type": "execute_result"
    }
   ],
   "source": [
    "# np.unique(df_EC_Risk_LOF_with_ILI_in_2022[\"endstationseriesid\"])\n",
    "df_EC_Risk_LOF_with_ILI_in_2022[\"endstationseriesid\"] = df_EC_Risk_LOF_with_ILI_in_2022[\"endstationseriesid\"].astype(int)\n",
    "np.unique(df_EC_Risk_LOF_with_ILI_in_2022[\"endstationseriesid\"])"
   ]
  },
  {
   "cell_type": "code",
   "execution_count": 26,
   "id": "4a06fbeb-64a2-41bb-9c00-a989544581bf",
   "metadata": {},
   "outputs": [
    {
     "data": {
      "text/plain": [
       "True"
      ]
     },
     "execution_count": 26,
     "metadata": {},
     "output_type": "execute_result"
    }
   ],
   "source": [
    "# Each segment's begin and end series id should be the same!\n",
    "(df_EC_Risk_LOF_with_ILI_in_2022[\"beginstationseriesid\"] == df_EC_Risk_LOF_with_ILI_in_2022[\"endstationseriesid\"]).all()"
   ]
  },
  {
   "cell_type": "code",
   "execution_count": 27,
   "id": "394696fa-dee1-4761-afe3-b9d15e2c5d71",
   "metadata": {},
   "outputs": [
    {
     "data": {
      "text/plain": [
       "array([ 5409,  6030,  6033,  6135,  6770,  6781,  6803,  6812,  6840,\n",
       "        7367,  7368,  9729,  9771, 10697, 10903, 11146, 12393, 12484,\n",
       "       13977, 13978, 13983, 13984, 14125, 14289, 14317, 17550, 17650,\n",
       "       18421, 19963, 20031, 20767, 20792, 21278, 21367, 22006, 22030,\n",
       "       22245, 22271, 22398, 22508, 22762, 22859, 23126, 23177, 23658,\n",
       "       23803, 24893, 25964, 25967, 26092, 26130, 26131, 26835, 28185,\n",
       "       28247, 28293, 28402, 28468, 28555, 28606, 28663, 28730, 28743,\n",
       "       28763, 28786, 28830, 28839, 28908, 28921, 28931, 29262, 29275,\n",
       "       29470, 29629, 29742, 29760, 29837, 30043, 30259, 30262, 30291,\n",
       "       30357, 30366, 30442, 30563, 30855, 30965, 31024, 31319, 31715,\n",
       "       31930, 32004, 32118, 32189, 32195, 32204, 32232, 32311, 32510,\n",
       "       32930, 33030, 33097, 33222, 33243, 33339, 33749, 33963, 33977,\n",
       "       33998, 34059, 34116, 34247, 34251, 34364, 34493, 34583, 34613,\n",
       "       34674, 34693, 34817, 34871, 34926, 34966, 35314, 35316, 35530,\n",
       "       35581, 35610, 35611, 35670, 35793, 35882, 35969, 36046, 36262,\n",
       "       36339, 36343, 36363, 36457, 36611, 36627, 36638, 36739, 36995,\n",
       "       36996, 37015, 37133, 37161, 37239, 37475, 37477, 37516, 37557,\n",
       "       37662, 37731, 37775, 37777, 37888, 37893, 37900, 37973, 37997,\n",
       "       38007, 38008, 38017, 38020, 38063, 38072, 38122, 38124, 38175,\n",
       "       38252, 38490, 38529, 38675, 38876, 38962, 39087, 39228, 39313,\n",
       "       39560, 39887, 39931, 40254, 40277, 40756, 40982, 40983, 40985,\n",
       "       41017, 41032, 41257, 41322, 41324, 41536, 41641, 41717, 41748,\n",
       "       41855, 41964, 42009, 42012, 42068, 42094, 42100, 42211, 42443,\n",
       "       42543, 42793, 43312, 43617, 43668, 43865, 44153, 44184, 44370,\n",
       "       44398, 44413, 44477, 44549, 44585, 44654, 46776, 46881, 47224,\n",
       "       47300, 48473, 48481, 49543, 49545, 49933, 50015, 50554, 50737,\n",
       "       50794, 51256, 51558, 52218, 52314, 52435, 52660, 52661, 52698,\n",
       "       52769, 52803, 52869, 53030, 53525, 53805, 53908, 54587, 56735,\n",
       "       56742, 57861, 57862, 57935, 58707, 61012, 62126, 62127, 62128,\n",
       "       62413, 62793, 62868, 63646, 63670, 63783, 65640, 65682, 66554,\n",
       "       68007, 69646, 69647, 69963, 71770, 71794, 72608], dtype=int64)"
      ]
     },
     "execution_count": 27,
     "metadata": {},
     "output_type": "execute_result"
    }
   ],
   "source": [
    "# ILI data\n",
    "np.unique(ILI_2022_joins_pipeline[\"beginstationseriesid\"])"
   ]
  },
  {
   "cell_type": "code",
   "execution_count": 28,
   "id": "55aaae0c-25c4-4237-8d26-ee56c9315cbd",
   "metadata": {},
   "outputs": [
    {
     "data": {
      "text/plain": [
       "True"
      ]
     },
     "execution_count": 28,
     "metadata": {},
     "output_type": "execute_result"
    }
   ],
   "source": [
    "(ILI_2022_joins_pipeline[\"beginstationseriesid\"] == ILI_2022_joins_pipeline[\"endstationseriesid\"]).all()"
   ]
  },
  {
   "cell_type": "markdown",
   "id": "417a8b8f-62a0-4202-8cba-60da058799c3",
   "metadata": {},
   "source": [
    "## `beginstationnum` and `endstationum` matching"
   ]
  },
  {
   "cell_type": "code",
   "execution_count": 29,
   "id": "fd958270-7911-4cc3-bf5a-72045ff5da09",
   "metadata": {},
   "outputs": [
    {
     "data": {
      "text/plain": [
       "array([0.0000000e+00, 2.0000000e-02, 4.0000000e-02, ..., 2.4126539e+06,\n",
       "       2.4126610e+06, 2.4126630e+06])"
      ]
     },
     "execution_count": 29,
     "metadata": {},
     "output_type": "execute_result"
    }
   ],
   "source": [
    "# Risk table\n",
    "np.unique(df_EC_Risk_LOF_with_ILI_in_2022[\"beginstationnum\"])"
   ]
  },
  {
   "cell_type": "code",
   "execution_count": 30,
   "id": "a7173866-89ea-41bd-9199-163d2faa4a7e",
   "metadata": {},
   "outputs": [
    {
     "data": {
      "text/plain": [
       "array([2.00000000e-02, 4.00000000e-02, 1.40000000e-01, ...,\n",
       "       2.41266100e+06, 2.41266300e+06, 2.41266301e+06])"
      ]
     },
     "execution_count": 30,
     "metadata": {},
     "output_type": "execute_result"
    }
   ],
   "source": [
    "# Risk table\n",
    "np.unique(df_EC_Risk_LOF_with_ILI_in_2022[\"endstationnum\"])"
   ]
  },
  {
   "cell_type": "code",
   "execution_count": 31,
   "id": "988c1bad-bd34-4182-8f38-cfa459f08c8a",
   "metadata": {},
   "outputs": [
    {
     "data": {
      "text/plain": [
       "True"
      ]
     },
     "execution_count": 31,
     "metadata": {},
     "output_type": "execute_result"
    }
   ],
   "source": [
    "# endstationum should be bigger than beginstationum\n",
    "(df_EC_Risk_LOF_with_ILI_in_2022[\"endstationnum\"] > df_EC_Risk_LOF_with_ILI_in_2022[\"beginstationnum\"]).all()"
   ]
  },
  {
   "cell_type": "code",
   "execution_count": 32,
   "id": "3288175e-81ea-43b6-bb5e-31e21150c5a6",
   "metadata": {},
   "outputs": [
    {
     "data": {
      "text/plain": [
       "array([0.0000000e+00, 3.0000000e-02, 2.0000000e-01, ..., 2.2639250e+06,\n",
       "       2.2639316e+06, 2.2639374e+06])"
      ]
     },
     "execution_count": 32,
     "metadata": {},
     "output_type": "execute_result"
    }
   ],
   "source": [
    "# ILI data\n",
    "np.unique(ILI_2022_joins_pipeline[\"beginstationnum\"])"
   ]
  },
  {
   "cell_type": "code",
   "execution_count": 33,
   "id": "e4bd5bb7-100c-4cea-9bbd-f9ac88a35a2d",
   "metadata": {},
   "outputs": [
    {
     "data": {
      "text/plain": [
       "array([2.0000000e-01, 3.0000000e-01, 4.0000000e-01, ..., 2.2639300e+06,\n",
       "       2.2639374e+06, 2.2639418e+06])"
      ]
     },
     "execution_count": 33,
     "metadata": {},
     "output_type": "execute_result"
    }
   ],
   "source": [
    "np.unique(ILI_2022_joins_pipeline[\"endstationnum\"])"
   ]
  },
  {
   "cell_type": "code",
   "execution_count": 34,
   "id": "ee03fdf5-69fc-46fd-89bb-e15704dfd7a9",
   "metadata": {},
   "outputs": [
    {
     "data": {
      "text/plain": [
       "True"
      ]
     },
     "execution_count": 34,
     "metadata": {},
     "output_type": "execute_result"
    }
   ],
   "source": [
    "(ILI_2022_joins_pipeline[\"endstationnum\"] > ILI_2022_joins_pipeline[\"beginstationnum\"]).all()"
   ]
  },
  {
   "cell_type": "markdown",
   "id": "bc357ea8-bd87-4783-8b9a-4b0e98a870d4",
   "metadata": {},
   "source": [
    "# Now we create a stationing map"
   ]
  },
  {
   "cell_type": "code",
   "execution_count": 35,
   "id": "b4ac0f34-48dd-42a9-9b41-974a2a55d4fd",
   "metadata": {},
   "outputs": [],
   "source": [
    "DICT_SEGMENTS_TO_ANOMALY = {row_num: None for row_num in range(len(df_EC_Risk_LOF_with_ILI_in_2022))}"
   ]
  },
  {
   "cell_type": "code",
   "execution_count": 36,
   "id": "23213a3f-89a4-40fd-b707-077cb2d5cea5",
   "metadata": {},
   "outputs": [],
   "source": [
    "found_matches = 0\n",
    "\n",
    "for row_num in range(len(df_EC_Risk_LOF_with_ILI_in_2022)):\n",
    "    risk_route = df_EC_Risk_LOF_with_ILI_in_2022[\"route\"][row_num]\n",
    "    if RISK_ROUTE_TO_ILI_ROUTE[risk_route] is None:\n",
    "        continue\n",
    "    station_id = df_EC_Risk_LOF_with_ILI_in_2022[\"beginstationseriesid\"][row_num]\n",
    "    begin_station_num = df_EC_Risk_LOF_with_ILI_in_2022[\"beginstationnum\"][row_num]\n",
    "    end_station_num = df_EC_Risk_LOF_with_ILI_in_2022[\"endstationnum\"][row_num]\n",
    "    # now look into the ILI data frame\n",
    "    same_route = ILI_2022_joins_pipeline[\"route\"] == RISK_ROUTE_TO_ILI_ROUTE[risk_route]\n",
    "    same_station = ILI_2022_joins_pipeline[\"beginstationseriesid\"] == station_id\n",
    "    ge_begin_station_num = ILI_2022_joins_pipeline[\"beginstationnum\"] >= begin_station_num\n",
    "    lt_end_station_num = ILI_2022_joins_pipeline[\"endstationnum\"] < end_station_num\n",
    "    indices = ILI_2022_joins_pipeline.index[same_route & same_station & ge_begin_station_num & lt_end_station_num].tolist()\n",
    "    if len(indices) > 0:\n",
    "        found_matches += 1\n",
    "    DICT_SEGMENTS_TO_ANOMALY[row_num] = indices    "
   ]
  },
  {
   "cell_type": "code",
   "execution_count": 37,
   "id": "a7354093-a1fb-4d9f-b31f-9b85cd6d072c",
   "metadata": {},
   "outputs": [],
   "source": [
    "DICT_SEGMENTS_TO_ANOMALY_MATCHING = {k: v for k, v in DICT_SEGMENTS_TO_ANOMALY.items() if v and len(v) > 0}"
   ]
  },
  {
   "cell_type": "code",
   "execution_count": 38,
   "id": "f3b67763-40b8-43be-b6ad-2ca19c18871a",
   "metadata": {},
   "outputs": [
    {
     "data": {
      "text/plain": [
       "120"
      ]
     },
     "execution_count": 38,
     "metadata": {},
     "output_type": "execute_result"
    }
   ],
   "source": [
    "sum([len(v) for v in list(DICT_SEGMENTS_TO_ANOMALY_MATCHING.values())])"
   ]
  },
  {
   "cell_type": "markdown",
   "id": "e60b60cb-a954-4e0f-8968-6bcb1bdf687a",
   "metadata": {},
   "source": [
    "We can only map 120 of the ILI anomalies?!"
   ]
  },
  {
   "cell_type": "code",
   "execution_count": 39,
   "id": "545a95b9-737c-4065-b18a-4a8ebc72fe21",
   "metadata": {},
   "outputs": [
    {
     "data": {
      "text/html": [
       "<div>\n",
       "<style scoped>\n",
       "    .dataframe tbody tr th:only-of-type {\n",
       "        vertical-align: middle;\n",
       "    }\n",
       "\n",
       "    .dataframe tbody tr th {\n",
       "        vertical-align: top;\n",
       "    }\n",
       "\n",
       "    .dataframe thead th {\n",
       "        text-align: right;\n",
       "    }\n",
       "</style>\n",
       "<table border=\"1\" class=\"dataframe\">\n",
       "  <thead>\n",
       "    <tr style=\"text-align: right;\">\n",
       "      <th></th>\n",
       "      <th>route</th>\n",
       "      <th>beginstationseriesid</th>\n",
       "      <th>beginstationnum</th>\n",
       "      <th>endstationseriesid</th>\n",
       "      <th>endstationnum</th>\n",
       "    </tr>\n",
       "  </thead>\n",
       "  <tbody>\n",
       "    <tr>\n",
       "      <th>1790</th>\n",
       "      <td>300B</td>\n",
       "      <td>37161</td>\n",
       "      <td>7199.9</td>\n",
       "      <td>37161</td>\n",
       "      <td>7300.9</td>\n",
       "    </tr>\n",
       "    <tr>\n",
       "      <th>7275</th>\n",
       "      <td>301G</td>\n",
       "      <td>44549</td>\n",
       "      <td>83659.5</td>\n",
       "      <td>44549</td>\n",
       "      <td>83661.4</td>\n",
       "    </tr>\n",
       "  </tbody>\n",
       "</table>\n",
       "</div>"
      ],
      "text/plain": [
       "     route  beginstationseriesid  beginstationnum  endstationseriesid  \\\n",
       "1790  300B                 37161           7199.9               37161   \n",
       "7275  301G                 44549          83659.5               44549   \n",
       "\n",
       "      endstationnum  \n",
       "1790         7300.9  \n",
       "7275        83661.4  "
      ]
     },
     "execution_count": 39,
     "metadata": {},
     "output_type": "execute_result"
    }
   ],
   "source": [
    "# Inspect a matching pipe segment\n",
    "matching_rows = list(DICT_SEGMENTS_TO_ANOMALY_MATCHING.keys())\n",
    "df_EC_Risk_LOF_with_ILI_in_2022.iloc[matching_rows[0:2]][[\"route\", \"beginstationseriesid\", \"beginstationnum\", \"endstationseriesid\", \"endstationnum\"]]"
   ]
  },
  {
   "cell_type": "code",
   "execution_count": 40,
   "id": "f88afaa9-56ae-4e74-88a1-a9de700d8c3c",
   "metadata": {},
   "outputs": [
    {
     "data": {
      "text/html": [
       "<div>\n",
       "<style scoped>\n",
       "    .dataframe tbody tr th:only-of-type {\n",
       "        vertical-align: middle;\n",
       "    }\n",
       "\n",
       "    .dataframe tbody tr th {\n",
       "        vertical-align: top;\n",
       "    }\n",
       "\n",
       "    .dataframe thead th {\n",
       "        text-align: right;\n",
       "    }\n",
       "</style>\n",
       "<table border=\"1\" class=\"dataframe\">\n",
       "  <thead>\n",
       "    <tr style=\"text-align: right;\">\n",
       "      <th></th>\n",
       "      <th>route</th>\n",
       "      <th>beginstationseriesid</th>\n",
       "      <th>beginstationnum</th>\n",
       "      <th>endstationseriesid</th>\n",
       "      <th>endstationnum</th>\n",
       "    </tr>\n",
       "  </thead>\n",
       "  <tbody>\n",
       "    <tr>\n",
       "      <th>57153</th>\n",
       "      <td>L-300B</td>\n",
       "      <td>37161</td>\n",
       "      <td>7199.9</td>\n",
       "      <td>37161</td>\n",
       "      <td>7300.9</td>\n",
       "    </tr>\n",
       "    <tr>\n",
       "      <th>57154</th>\n",
       "      <td>L-300B</td>\n",
       "      <td>37161</td>\n",
       "      <td>7199.9</td>\n",
       "      <td>37161</td>\n",
       "      <td>7300.9</td>\n",
       "    </tr>\n",
       "    <tr>\n",
       "      <th>57155</th>\n",
       "      <td>L-300B</td>\n",
       "      <td>37161</td>\n",
       "      <td>7199.9</td>\n",
       "      <td>37161</td>\n",
       "      <td>7300.9</td>\n",
       "    </tr>\n",
       "    <tr>\n",
       "      <th>57156</th>\n",
       "      <td>L-300B</td>\n",
       "      <td>37161</td>\n",
       "      <td>7199.9</td>\n",
       "      <td>37161</td>\n",
       "      <td>7300.9</td>\n",
       "    </tr>\n",
       "    <tr>\n",
       "      <th>57157</th>\n",
       "      <td>L-300B</td>\n",
       "      <td>37161</td>\n",
       "      <td>7199.9</td>\n",
       "      <td>37161</td>\n",
       "      <td>7300.9</td>\n",
       "    </tr>\n",
       "    <tr>\n",
       "      <th>57158</th>\n",
       "      <td>L-300B</td>\n",
       "      <td>37161</td>\n",
       "      <td>7199.9</td>\n",
       "      <td>37161</td>\n",
       "      <td>7300.9</td>\n",
       "    </tr>\n",
       "    <tr>\n",
       "      <th>57159</th>\n",
       "      <td>L-300B</td>\n",
       "      <td>37161</td>\n",
       "      <td>7199.9</td>\n",
       "      <td>37161</td>\n",
       "      <td>7300.9</td>\n",
       "    </tr>\n",
       "    <tr>\n",
       "      <th>57160</th>\n",
       "      <td>L-300B</td>\n",
       "      <td>37161</td>\n",
       "      <td>7199.9</td>\n",
       "      <td>37161</td>\n",
       "      <td>7300.9</td>\n",
       "    </tr>\n",
       "    <tr>\n",
       "      <th>57161</th>\n",
       "      <td>L-300B</td>\n",
       "      <td>37161</td>\n",
       "      <td>7199.9</td>\n",
       "      <td>37161</td>\n",
       "      <td>7300.9</td>\n",
       "    </tr>\n",
       "    <tr>\n",
       "      <th>57162</th>\n",
       "      <td>L-300B</td>\n",
       "      <td>37161</td>\n",
       "      <td>7199.9</td>\n",
       "      <td>37161</td>\n",
       "      <td>7300.9</td>\n",
       "    </tr>\n",
       "    <tr>\n",
       "      <th>57163</th>\n",
       "      <td>L-300B</td>\n",
       "      <td>37161</td>\n",
       "      <td>7199.9</td>\n",
       "      <td>37161</td>\n",
       "      <td>7300.9</td>\n",
       "    </tr>\n",
       "    <tr>\n",
       "      <th>74495</th>\n",
       "      <td>L-301G</td>\n",
       "      <td>44549</td>\n",
       "      <td>83659.5</td>\n",
       "      <td>44549</td>\n",
       "      <td>83661.4</td>\n",
       "    </tr>\n",
       "  </tbody>\n",
       "</table>\n",
       "</div>"
      ],
      "text/plain": [
       "        route  beginstationseriesid  beginstationnum  endstationseriesid  \\\n",
       "57153  L-300B                 37161           7199.9               37161   \n",
       "57154  L-300B                 37161           7199.9               37161   \n",
       "57155  L-300B                 37161           7199.9               37161   \n",
       "57156  L-300B                 37161           7199.9               37161   \n",
       "57157  L-300B                 37161           7199.9               37161   \n",
       "57158  L-300B                 37161           7199.9               37161   \n",
       "57159  L-300B                 37161           7199.9               37161   \n",
       "57160  L-300B                 37161           7199.9               37161   \n",
       "57161  L-300B                 37161           7199.9               37161   \n",
       "57162  L-300B                 37161           7199.9               37161   \n",
       "57163  L-300B                 37161           7199.9               37161   \n",
       "74495  L-301G                 44549          83659.5               44549   \n",
       "\n",
       "       endstationnum  \n",
       "57153         7300.9  \n",
       "57154         7300.9  \n",
       "57155         7300.9  \n",
       "57156         7300.9  \n",
       "57157         7300.9  \n",
       "57158         7300.9  \n",
       "57159         7300.9  \n",
       "57160         7300.9  \n",
       "57161         7300.9  \n",
       "57162         7300.9  \n",
       "57163         7300.9  \n",
       "74495        83661.4  "
      ]
     },
     "execution_count": 40,
     "metadata": {},
     "output_type": "execute_result"
    }
   ],
   "source": [
    "ili_rows = []\n",
    "for i in matching_rows[0:2]:\n",
    "    ili_rows.extend(DICT_SEGMENTS_TO_ANOMALY_MATCHING[i])\n",
    "ILI_2022_joins_pipeline.iloc[ili_rows][[\"route\", \"beginstationseriesid\", \"beginstationnum\", \"endstationseriesid\", \"endstationnum\"]]"
   ]
  },
  {
   "cell_type": "markdown",
   "id": "2a7eb52e-215b-43c3-9c30-e62f491f198d",
   "metadata": {},
   "source": [
    "__Issue 2__: The matching pipeline segments look alright...but most of the anomalies are not matched anywhere. Why and what do I do next?"
   ]
  },
  {
   "cell_type": "markdown",
   "id": "c4b0dbce-7f45-4e02-8957-1ed44f44ba62",
   "metadata": {},
   "source": [
    "# Look at the EC_LOF and failure pressure?"
   ]
  },
  {
   "cell_type": "code",
   "execution_count": 41,
   "id": "cf7100e2-214f-4723-a6ee-3067a9c74433",
   "metadata": {},
   "outputs": [
    {
     "data": {
      "text/plain": [
       "array(['FID', 'OBJECTID_1', 'FID_1', 'Vendor', 'Source', 'route',\n",
       "       'Route_NoPr', 'MP1', 'MP2', 'Year', 'ILI_Projec', 'ML_Survey',\n",
       "       'Alignment', 'Joint___US', 'ILI_Survey', 'Joint_Leng',\n",
       "       'From_U_S_G', 'To_D_S_GW', 'Identifica', 'Comment', 'Tool_Speed',\n",
       "       'WT__in_', 'SMYS__PSI_', 'MAOP__PSI_', 'OD__in_', 'Longseam_V',\n",
       "       'Seam_Pos_', 'Depth____', 'Depth___wi', 'OD_Reducti', 'Length__in',\n",
       "       'Width__in_', 'O_clock', 'Internal', 'Bend_Radiu', 'Bend_Angle',\n",
       "       'Bend_Direc', 'POF_Catego', 'Associated', 'Anomaly_ID',\n",
       "       'Estimated', 'Pf_MAOP', 'Pf___with', 'Pf__MAOP', 'TotalBend',\n",
       "       'Bend___Ver', 'Bend___Hor', 'Internal_D', 'External_D', 'Easting',\n",
       "       'Northing', 'Latitude', 'Longitude', 'Elevation', 'U_S_Refere',\n",
       "       'Dist__To_U', 'D_S_Refere', 'Dist__To_D', 'ILI_Vendor',\n",
       "       'PG_E_Stati', 'OBJECTID', 'Id', 'EffectiveS', 'PipeManufa',\n",
       "       'PipeOutsid', 'PipeWallTh', 'SMYS', 'PipeGradeD', 'PipeMateri',\n",
       "       'PipeRepair', 'PipeSeamDo', 'PipeGirthW', 'PipeJointF',\n",
       "       'PipeNomina', 'beginstationseriesid', 'beginstationnum',\n",
       "       'endstationseriesid', 'endstationnum', 'CREATE_DAT', 'CREATE_USE',\n",
       "       'LAST_UPDAT', 'LAST_UPD_1', 'PipeJointT', 'FeatureTyp',\n",
       "       'DiameterAs', 'WallThickA', 'SmysAssume', 'LongSeamAs',\n",
       "       'Manufactur', 'ReconSalva', 'Prefab', 'Constructi', 'pfl_featur',\n",
       "       'sfl_id', 'sfl_above_', 'purchase_d', 'purchase_f', 'prior_purc',\n",
       "       'pipemanu_1', 'batch', 'heat', 'coating_ty', 'feature_no',\n",
       "       'coating_de', 'coating_in', 'coating_so', 'population', 'Distance'],\n",
       "      dtype=object)"
      ]
     },
     "execution_count": 41,
     "metadata": {},
     "output_type": "execute_result"
    }
   ],
   "source": [
    "ILI_2022_joins_pipeline.columns.values"
   ]
  },
  {
   "cell_type": "code",
   "execution_count": 42,
   "id": "7838505b-8418-42ca-8a3e-92026886d978",
   "metadata": {},
   "outputs": [],
   "source": [
    "# FP_fields = ['Estimated Failure Pressure (Pf) ', 'Pf/MAOP', 'Pf* (with tool tolerances)', 'Pf*/MAOP']\n",
    "\n",
    "ILI_2022_joins_pipeline.rename(\n",
    "    columns={\n",
    "        \"Estimated\": \"Estimated Failure Pressure (Pf)\",\n",
    "        \"Pf_MAOP\": \"Pf/MAOP\",\n",
    "        \"Pf___with\": \"Pf* (with tool tolerances)\",\n",
    "        \"Pf__MAOP\": \"Pf*/MAOP\",\n",
    "    },\n",
    "    inplace=True\n",
    ")\n",
    "FP_fields = ['Estimated Failure Pressure (Pf)', 'Pf/MAOP', 'Pf* (with tool tolerances)', 'Pf*/MAOP']"
   ]
  },
  {
   "cell_type": "markdown",
   "id": "392436b2-d42b-4ea8-b26f-9c6cfcc73061",
   "metadata": {},
   "source": [
    "The actual ILI data doesn't have failure pressure equal to 0 (that means pipe will fail by default), this is a data parsing error. Replace them with nan."
   ]
  },
  {
   "cell_type": "code",
   "execution_count": 43,
   "id": "95c8048e-879a-4b27-b6b6-2d50de361e12",
   "metadata": {},
   "outputs": [],
   "source": [
    "ILI_2022_joins_pipeline[FP_fields] = ILI_2022_joins_pipeline[FP_fields].replace(0, np.nan)"
   ]
  },
  {
   "cell_type": "code",
   "execution_count": 44,
   "id": "f6be0f2d-286c-4602-bb80-31abdf26cba3",
   "metadata": {},
   "outputs": [
    {
     "data": {
      "text/plain": [
       "(array([5.0000e+00, 1.4575e+04, 6.2720e+03, 6.6530e+03, 3.4270e+03,\n",
       "        7.0700e+02, 1.3000e+02, 5.4000e+01, 1.0400e+02, 5.4000e+02]),\n",
       " array([0.23 , 1.173, 2.116, 3.059, 4.002, 4.945, 5.888, 6.831, 7.774,\n",
       "        8.717, 9.66 ]),\n",
       " <BarContainer object of 10 artists>)"
      ]
     },
     "execution_count": 44,
     "metadata": {},
     "output_type": "execute_result"
    },
    {
     "data": {
      "image/png": "[encoded data removed]",
      "text/plain": [
       "<Figure size 640x480 with 1 Axes>"
      ]
     },
     "metadata": {},
     "output_type": "display_data"
    }
   ],
   "source": [
    "plt.hist(ILI_2022_joins_pipeline[\"Pf*/MAOP\"])"
   ]
  },
  {
   "cell_type": "code",
   "execution_count": 45,
   "id": "32c22c28-e8c4-4402-9b03-22b7d58fbdf2",
   "metadata": {},
   "outputs": [],
   "source": [
    "# match ec_lof_leak and/or ec_lof_rupture with the failure pressure\n",
    "ec_lof_leak = df_EC_Risk_LOF_with_ILI_in_2022.iloc[matching_rows][\"EC_LOF_Leak\"]\n",
    "ec_lof_rupture = df_EC_Risk_LOF_with_ILI_in_2022.iloc[matching_rows][\"EC_LOF_Rupture\"]"
   ]
  },
  {
   "cell_type": "code",
   "execution_count": 46,
   "id": "cffa55f4-d82a-48d4-a148-08859908f1cb",
   "metadata": {},
   "outputs": [
    {
     "data": {
      "text/plain": [
       "1.706666666666667"
      ]
     },
     "execution_count": 46,
     "metadata": {},
     "output_type": "execute_result"
    }
   ],
   "source": [
    "np.mean(ILI_2022_joins_pipeline.iloc[DICT_SEGMENTS_TO_ANOMALY[matching_rows[0]]][\"Pf/MAOP\"])"
   ]
  },
  {
   "cell_type": "code",
   "execution_count": 47,
   "id": "12a9e3da-2041-4f9f-8118-011cfbf0d904",
   "metadata": {},
   "outputs": [],
   "source": [
    "def get_failure_pressure_from_matching_rows(\n",
    "    dict_segments_to_anomaly_matching: Dict[int, Optional[List]],\n",
    "    ili_df: pd.DataFrame,\n",
    "    failure_pressure_type: str = \"Pf*/MAOP\",\n",
    "    anomaly_aggregation: str = \"max\",\n",
    ") -> np.ndarray:\n",
    "    output = []\n",
    "    for idx_route, idx_anomaly in dict_segments_to_anomaly_matching.items():\n",
    "        values = ili_df.iloc[idx_anomaly][failure_pressure_type]\n",
    "        if all(np.isnan(values)):\n",
    "            output.append(np.nan)\n",
    "            continue            \n",
    "        if anomaly_aggregation == \"max\":\n",
    "            output.append(np.nanmax(values))\n",
    "        elif anomaly_aggregation == \"mean\":\n",
    "            output.append(np.nanmean(values))\n",
    "        elif anomaly_aggregation == \"min\":\n",
    "            output.append(np.nanmin(values))\n",
    "    assert len(output) == len(dict_segments_to_anomaly_matching)\n",
    "    return np.array(output)"
   ]
  },
  {
   "cell_type": "code",
   "execution_count": 48,
   "id": "65beeb8e-6489-4d3e-97ab-8734e5291280",
   "metadata": {},
   "outputs": [],
   "source": [
    "adj_pf_maop = get_failure_pressure_from_matching_rows(\n",
    "    DICT_SEGMENTS_TO_ANOMALY_MATCHING,\n",
    "    ILI_2022_joins_pipeline,\n",
    "    failure_pressure_type=\"Pf*/MAOP\",\n",
    "    anomaly_aggregation=\"mean\",\n",
    ")"
   ]
  },
  {
   "cell_type": "markdown",
   "id": "8cc9c81e-c9fb-40df-a84e-e106415eb4af",
   "metadata": {},
   "source": [
    "Higher failure pressure means the pipe is stronger, meaning LOF should be lower. So we expect to see an inverse relationship between these values."
   ]
  },
  {
   "cell_type": "code",
   "execution_count": 49,
   "id": "d85bc3dc-4b04-4843-b81e-b559d36efc9e",
   "metadata": {},
   "outputs": [
    {
     "data": {
      "text/plain": [
       "array([[0.00000000e+00, 1.70166667e+00],\n",
       "       [2.93455817e-08,            nan],\n",
       "       [0.00000000e+00,            nan],\n",
       "       [0.00000000e+00,            nan],\n",
       "       [0.00000000e+00,            nan],\n",
       "       [3.10033614e-08,            nan],\n",
       "       [8.52074907e-08,            nan],\n",
       "       [0.00000000e+00, 1.70200000e+00],\n",
       "       [0.00000000e+00,            nan],\n",
       "       [0.00000000e+00, 1.70000000e+00],\n",
       "       [3.96294611e-08, 7.15000000e+00],\n",
       "       [2.93455817e-08,            nan],\n",
       "       [0.00000000e+00,            nan],\n",
       "       [0.00000000e+00,            nan],\n",
       "       [0.00000000e+00,            nan],\n",
       "       [2.51572612e-08,            nan],\n",
       "       [3.96294611e-08,            nan],\n",
       "       [0.00000000e+00, 2.09000000e+00]])"
      ]
     },
     "execution_count": 49,
     "metadata": {},
     "output_type": "execute_result"
    }
   ],
   "source": [
    "np.concatenate([ec_lof_leak.values.reshape(-1, 1), adj_pf_maop.reshape(-1, 1)], axis=1)"
   ]
  },
  {
   "cell_type": "code",
   "execution_count": 50,
   "id": "4380d1ea-5931-4d6f-a5b5-c744da752ff4",
   "metadata": {},
   "outputs": [
    {
     "data": {
      "text/plain": [
       "Text(0, 0.5, 'Pf*/MAOP')"
      ]
     },
     "execution_count": 50,
     "metadata": {},
     "output_type": "execute_result"
    },
    {
     "data": {
      "image/png": "[encoded data removed]",
      "text/plain": [
       "<Figure size 640x480 with 1 Axes>"
      ]
     },
     "metadata": {},
     "output_type": "display_data"
    }
   ],
   "source": [
    "plt.plot(ec_lof_leak, adj_pf_maop, \"*\")\n",
    "plt.xlabel(\"Leak LOF\")\n",
    "plt.ylabel(\"Pf*/MAOP\")"
   ]
  },
  {
   "cell_type": "code",
   "execution_count": 51,
   "id": "293c771d-35d4-405d-9508-ddb5b16d64c3",
   "metadata": {},
   "outputs": [
    {
     "data": {
      "text/plain": [
       "Text(0, 0.5, 'Pf*/MAOP')"
      ]
     },
     "execution_count": 51,
     "metadata": {},
     "output_type": "execute_result"
    },
    {
     "data": {
      "image/png": "[encoded data removed]",
      "text/plain": [
       "<Figure size 640x480 with 1 Axes>"
      ]
     },
     "metadata": {},
     "output_type": "display_data"
    }
   ],
   "source": [
    "plt.plot(ec_lof_rupture, adj_pf_maop, \"*\")\n",
    "plt.xlabel(\"Rupture LOF\")\n",
    "plt.ylabel(\"Pf*/MAOP\")"
   ]
  },
  {
   "cell_type": "markdown",
   "id": "80580422-b392-43e2-8fd8-e11980f41f8c",
   "metadata": {},
   "source": [
    "The rupture LOF seems well correlated with Adjusted failure pressure..."
   ]
  },
  {
   "cell_type": "code",
   "execution_count": null,
   "id": "0107af79-14e8-4ef6-943c-bd7bca64cb23",
   "metadata": {},
   "outputs": [],
   "source": []
  }
 ],
 "metadata": {
  "kernelspec": {
   "display_name": "Python 3 (ipykernel)",
   "language": "python",
   "name": "python3"
  },
  "language_info": {
   "codemirror_mode": {
    "name": "ipython",
    "version": 3
   },
   "file_extension": ".py",
   "mimetype": "text/x-python",
   "name": "python",
   "nbconvert_exporter": "python",
   "pygments_lexer": "ipython3",
   "version": "3.11.5"
  }
 },
 "nbformat": 4,
 "nbformat_minor": 5
}
